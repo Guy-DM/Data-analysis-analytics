{
 "cells": [
  {
   "cell_type": "markdown",
   "metadata": {},
   "source": [
    "# Doing Business and GDP - Data Preparation"
   ]
  },
  {
   "cell_type": "markdown",
   "metadata": {},
   "source": [
    "### Content:\n",
    "1. Introduction\n",
    "2. Data pre-processing:  \n",
    "    2.1. *Doing Business*  \n",
    "    2.2. *GDP Data*  \n",
    "    2.3. *GDP Growth Rate*  \n",
    "    2.4. *GDP/Capita*\n",
    "5. Summary\n",
    "6. References\n",
    "\n",
    "Using artist layer"
   ]
  },
  {
   "cell_type": "markdown",
   "metadata": {},
   "source": [
    "### 1. Introduction:\n",
    "* In this notebook we will use python to pre-process data.  \n",
    "* We will focus on three different indicators that we will use for analysis in the future.  \n",
    "* Some visualization will be provided for each data set."
   ]
  },
  {
   "cell_type": "code",
   "execution_count": 1,
   "metadata": {},
   "outputs": [],
   "source": [
    "import numpy as np\n",
    "import pandas as pd\n",
    "import matplotlib.pyplot as plt\n",
    "import seaborn as sns\n",
    "sns.set()\n",
    "\n",
    "pd.set_option('display.max_rows', None)"
   ]
  },
  {
   "cell_type": "markdown",
   "metadata": {},
   "source": [
    "### 2. Data pre-processing:"
   ]
  },
  {
   "cell_type": "markdown",
   "metadata": {},
   "source": [
    "#### 2.1. Doing Business:\n",
    "The first dataframe we will pre-process will be The World Bank's *__Doing Business__* indicators."
   ]
  },
  {
   "cell_type": "markdown",
   "metadata": {},
   "source": [
    "#### 2.1.1. Loading and pre-processing *Region* data:\n",
    "We start by loading the metadata so we can extract the *__Region__* data from it."
   ]
  },
  {
   "cell_type": "code",
   "execution_count": 2,
   "metadata": {
    "scrolled": true
   },
   "outputs": [
    {
     "data": {
      "text/html": [
       "<div>\n",
       "<style scoped>\n",
       "    .dataframe tbody tr th:only-of-type {\n",
       "        vertical-align: middle;\n",
       "    }\n",
       "\n",
       "    .dataframe tbody tr th {\n",
       "        vertical-align: top;\n",
       "    }\n",
       "\n",
       "    .dataframe thead th {\n",
       "        text-align: right;\n",
       "    }\n",
       "</style>\n",
       "<table border=\"1\" class=\"dataframe\">\n",
       "  <thead>\n",
       "    <tr style=\"text-align: right;\">\n",
       "      <th></th>\n",
       "      <th>Code</th>\n",
       "      <th>Long Name</th>\n",
       "      <th>Income Group</th>\n",
       "      <th>Region</th>\n",
       "      <th>Lending category</th>\n",
       "      <th>Other groups</th>\n",
       "      <th>Currency Unit</th>\n",
       "      <th>Latest population census</th>\n",
       "      <th>Latest household survey</th>\n",
       "      <th>Special Notes</th>\n",
       "      <th>...</th>\n",
       "      <th>IMF data dissemination standard</th>\n",
       "      <th>Source of most recent Income and expenditure data</th>\n",
       "      <th>Vital registration complete</th>\n",
       "      <th>Latest agricultural census</th>\n",
       "      <th>Latest industrial data</th>\n",
       "      <th>Latest trade data</th>\n",
       "      <th>2-alpha code</th>\n",
       "      <th>WB-2 code</th>\n",
       "      <th>Table Name</th>\n",
       "      <th>Short Name</th>\n",
       "    </tr>\n",
       "  </thead>\n",
       "  <tbody>\n",
       "    <tr>\n",
       "      <td>0</td>\n",
       "      <td>AFG</td>\n",
       "      <td>Islamic State of Afghanistan</td>\n",
       "      <td>Low income</td>\n",
       "      <td>South Asia</td>\n",
       "      <td>IDA</td>\n",
       "      <td>HIPC</td>\n",
       "      <td>Afghan afghani</td>\n",
       "      <td>1979</td>\n",
       "      <td>Demographic and Health Survey, 2015</td>\n",
       "      <td>NaN</td>\n",
       "      <td>...</td>\n",
       "      <td>Enhanced General Data Dissemination System (e-...</td>\n",
       "      <td>Integrated household survey (IHS), 2016/17</td>\n",
       "      <td>NaN</td>\n",
       "      <td>NaN</td>\n",
       "      <td>NaN</td>\n",
       "      <td>2017.0</td>\n",
       "      <td>AF</td>\n",
       "      <td>AF</td>\n",
       "      <td>Afghanistan</td>\n",
       "      <td>Afghanistan</td>\n",
       "    </tr>\n",
       "    <tr>\n",
       "      <td>1</td>\n",
       "      <td>ALB</td>\n",
       "      <td>Republic of Albania</td>\n",
       "      <td>Upper middle income</td>\n",
       "      <td>Europe &amp; Central Asia</td>\n",
       "      <td>IBRD</td>\n",
       "      <td>NaN</td>\n",
       "      <td>Albanian lek</td>\n",
       "      <td>2011</td>\n",
       "      <td>Demographic and Health Survey, 2017/18</td>\n",
       "      <td>NaN</td>\n",
       "      <td>...</td>\n",
       "      <td>Enhanced General Data Dissemination System (e-...</td>\n",
       "      <td>Living Standards Measurement Study Survey (LSM...</td>\n",
       "      <td>Yes</td>\n",
       "      <td>2012</td>\n",
       "      <td>2013.0</td>\n",
       "      <td>2017.0</td>\n",
       "      <td>AL</td>\n",
       "      <td>AL</td>\n",
       "      <td>Albania</td>\n",
       "      <td>Albania</td>\n",
       "    </tr>\n",
       "  </tbody>\n",
       "</table>\n",
       "<p>2 rows × 30 columns</p>\n",
       "</div>"
      ],
      "text/plain": [
       "  Code                     Long Name         Income Group  \\\n",
       "0  AFG  Islamic State of Afghanistan           Low income   \n",
       "1  ALB           Republic of Albania  Upper middle income   \n",
       "\n",
       "                  Region Lending category Other groups   Currency Unit  \\\n",
       "0             South Asia              IDA         HIPC  Afghan afghani   \n",
       "1  Europe & Central Asia             IBRD          NaN    Albanian lek   \n",
       "\n",
       "  Latest population census                 Latest household survey  \\\n",
       "0                     1979     Demographic and Health Survey, 2015   \n",
       "1                     2011  Demographic and Health Survey, 2017/18   \n",
       "\n",
       "  Special Notes  ...                    IMF data dissemination standard  \\\n",
       "0           NaN  ...  Enhanced General Data Dissemination System (e-...   \n",
       "1           NaN  ...  Enhanced General Data Dissemination System (e-...   \n",
       "\n",
       "   Source of most recent Income and expenditure data  \\\n",
       "0         Integrated household survey (IHS), 2016/17   \n",
       "1  Living Standards Measurement Study Survey (LSM...   \n",
       "\n",
       "  Vital registration complete Latest agricultural census  \\\n",
       "0                         NaN                        NaN   \n",
       "1                         Yes                       2012   \n",
       "\n",
       "  Latest industrial data Latest trade data 2-alpha code WB-2 code  \\\n",
       "0                    NaN            2017.0           AF        AF   \n",
       "1                 2013.0            2017.0           AL        AL   \n",
       "\n",
       "    Table Name   Short Name  \n",
       "0  Afghanistan  Afghanistan  \n",
       "1      Albania      Albania  \n",
       "\n",
       "[2 rows x 30 columns]"
      ]
     },
     "execution_count": 2,
     "metadata": {},
     "output_type": "execute_result"
    }
   ],
   "source": [
    "# Load metadata:\n",
    "metadata_raw = pd.read_csv('Doing_Business_Metadata.csv')\n",
    "\n",
    "metadata_raw.head(2)"
   ]
  },
  {
   "cell_type": "code",
   "execution_count": 3,
   "metadata": {},
   "outputs": [
    {
     "data": {
      "text/html": [
       "<div>\n",
       "<style scoped>\n",
       "    .dataframe tbody tr th:only-of-type {\n",
       "        vertical-align: middle;\n",
       "    }\n",
       "\n",
       "    .dataframe tbody tr th {\n",
       "        vertical-align: top;\n",
       "    }\n",
       "\n",
       "    .dataframe thead th {\n",
       "        text-align: right;\n",
       "    }\n",
       "</style>\n",
       "<table border=\"1\" class=\"dataframe\">\n",
       "  <thead>\n",
       "    <tr style=\"text-align: right;\">\n",
       "      <th></th>\n",
       "      <th>Country</th>\n",
       "      <th>Region</th>\n",
       "    </tr>\n",
       "  </thead>\n",
       "  <tbody>\n",
       "    <tr>\n",
       "      <td>0</td>\n",
       "      <td>Afghanistan</td>\n",
       "      <td>South Asia</td>\n",
       "    </tr>\n",
       "    <tr>\n",
       "      <td>1</td>\n",
       "      <td>Albania</td>\n",
       "      <td>Europe &amp; Central Asia</td>\n",
       "    </tr>\n",
       "    <tr>\n",
       "      <td>2</td>\n",
       "      <td>Algeria</td>\n",
       "      <td>Middle East &amp; North Africa</td>\n",
       "    </tr>\n",
       "    <tr>\n",
       "      <td>3</td>\n",
       "      <td>Angola</td>\n",
       "      <td>Sub-Saharan Africa</td>\n",
       "    </tr>\n",
       "    <tr>\n",
       "      <td>4</td>\n",
       "      <td>Antigua and Barbuda</td>\n",
       "      <td>Latin America &amp; Caribbean</td>\n",
       "    </tr>\n",
       "  </tbody>\n",
       "</table>\n",
       "</div>"
      ],
      "text/plain": [
       "               Country                      Region\n",
       "0          Afghanistan                  South Asia\n",
       "1              Albania       Europe & Central Asia\n",
       "2              Algeria  Middle East & North Africa\n",
       "3               Angola          Sub-Saharan Africa\n",
       "4  Antigua and Barbuda   Latin America & Caribbean"
      ]
     },
     "execution_count": 3,
     "metadata": {},
     "output_type": "execute_result"
    }
   ],
   "source": [
    "# Create new \"Region\" dataframe:\n",
    "country_regions = metadata_raw.copy()\n",
    "\n",
    "# Keep columns of interest:\n",
    "keep_columns1 = ['Short Name', 'Region',]\n",
    "country_regions = country_regions[keep_columns1]\n",
    "\n",
    "# Rename columns:\n",
    "country_regions.rename(columns = {'Short Name' : 'Country'}, inplace = True)\n",
    "\n",
    "country_regions.head()"
   ]
  },
  {
   "cell_type": "code",
   "execution_count": 4,
   "metadata": {},
   "outputs": [
    {
     "name": "stdout",
     "output_type": "stream",
     "text": [
      "Region values have been set for 191 countries.\n"
     ]
    }
   ],
   "source": [
    "print(\\\n",
    "'Region values have been set for {} countries.'\\\n",
    "      .format(country_regions.shape[0])\n",
    "     )"
   ]
  },
  {
   "cell_type": "markdown",
   "metadata": {},
   "source": [
    "#### 2.1.2. Loading and processing *Doing Business* data:"
   ]
  },
  {
   "cell_type": "code",
   "execution_count": 5,
   "metadata": {},
   "outputs": [
    {
     "data": {
      "text/html": [
       "<div>\n",
       "<style scoped>\n",
       "    .dataframe tbody tr th:only-of-type {\n",
       "        vertical-align: middle;\n",
       "    }\n",
       "\n",
       "    .dataframe tbody tr th {\n",
       "        vertical-align: top;\n",
       "    }\n",
       "\n",
       "    .dataframe thead th {\n",
       "        text-align: right;\n",
       "    }\n",
       "</style>\n",
       "<table border=\"1\" class=\"dataframe\">\n",
       "  <thead>\n",
       "    <tr style=\"text-align: right;\">\n",
       "      <th></th>\n",
       "      <th>Economy Name</th>\n",
       "      <th>Economy Code</th>\n",
       "      <th>Series Name</th>\n",
       "      <th>Series Code</th>\n",
       "      <th>2017 [YR2017]</th>\n",
       "      <th>2018 [YR2018]</th>\n",
       "      <th>2019 [YR2019]</th>\n",
       "      <th>2020 [YR2020]</th>\n",
       "    </tr>\n",
       "  </thead>\n",
       "  <tbody>\n",
       "    <tr>\n",
       "      <td>0</td>\n",
       "      <td>Afghanistan</td>\n",
       "      <td>AFG</td>\n",
       "      <td>Starting a business - Score</td>\n",
       "      <td>IC.REG.STRT.BUS.DFRN</td>\n",
       "      <td>90.35477</td>\n",
       "      <td>82.55461</td>\n",
       "      <td>92.04130</td>\n",
       "      <td>91.99116</td>\n",
       "    </tr>\n",
       "    <tr>\n",
       "      <td>1</td>\n",
       "      <td>Afghanistan</td>\n",
       "      <td>AFG</td>\n",
       "      <td>Global: Ease of doing business score (DB17-20 ...</td>\n",
       "      <td>IC.BUS.EASE.DFRN.XQ.DB1719</td>\n",
       "      <td>38.93563</td>\n",
       "      <td>37.13062</td>\n",
       "      <td>44.20343</td>\n",
       "      <td>44.06497</td>\n",
       "    </tr>\n",
       "  </tbody>\n",
       "</table>\n",
       "</div>"
      ],
      "text/plain": [
       "  Economy Name Economy Code  \\\n",
       "0  Afghanistan          AFG   \n",
       "1  Afghanistan          AFG   \n",
       "\n",
       "                                         Series Name  \\\n",
       "0                        Starting a business - Score   \n",
       "1  Global: Ease of doing business score (DB17-20 ...   \n",
       "\n",
       "                  Series Code 2017 [YR2017] 2018 [YR2018]  2019 [YR2019]  \\\n",
       "0        IC.REG.STRT.BUS.DFRN      90.35477      82.55461       92.04130   \n",
       "1  IC.BUS.EASE.DFRN.XQ.DB1719      38.93563      37.13062       44.20343   \n",
       "\n",
       "   2020 [YR2020]  \n",
       "0       91.99116  \n",
       "1       44.06497  "
      ]
     },
     "execution_count": 5,
     "metadata": {},
     "output_type": "execute_result"
    }
   ],
   "source": [
    "# Load \"Doing Business\" data:\n",
    "doing_business_raw = pd.read_csv('Doing_business_indicators.csv')\n",
    "\n",
    "doing_business_raw.head(2)"
   ]
  },
  {
   "cell_type": "code",
   "execution_count": 6,
   "metadata": {},
   "outputs": [
    {
     "data": {
      "text/html": [
       "<div>\n",
       "<style scoped>\n",
       "    .dataframe tbody tr th:only-of-type {\n",
       "        vertical-align: middle;\n",
       "    }\n",
       "\n",
       "    .dataframe tbody tr th {\n",
       "        vertical-align: top;\n",
       "    }\n",
       "\n",
       "    .dataframe thead th {\n",
       "        text-align: right;\n",
       "    }\n",
       "</style>\n",
       "<table border=\"1\" class=\"dataframe\">\n",
       "  <thead>\n",
       "    <tr style=\"text-align: right;\">\n",
       "      <th></th>\n",
       "      <th>Economy Name</th>\n",
       "      <th>Series Name</th>\n",
       "      <th>Values</th>\n",
       "    </tr>\n",
       "  </thead>\n",
       "  <tbody>\n",
       "    <tr>\n",
       "      <td>0</td>\n",
       "      <td>Afghanistan</td>\n",
       "      <td>Starting a business - Score</td>\n",
       "      <td>91.99116</td>\n",
       "    </tr>\n",
       "    <tr>\n",
       "      <td>1</td>\n",
       "      <td>Afghanistan</td>\n",
       "      <td>Global: Ease of doing business score (DB17-20 ...</td>\n",
       "      <td>44.06497</td>\n",
       "    </tr>\n",
       "    <tr>\n",
       "      <td>2</td>\n",
       "      <td>Afghanistan</td>\n",
       "      <td>Enforcing contracts (DB17-20 methodology) - Score</td>\n",
       "      <td>31.75645</td>\n",
       "    </tr>\n",
       "    <tr>\n",
       "      <td>3</td>\n",
       "      <td>Afghanistan</td>\n",
       "      <td>Getting Credit total score (DB15-20 methodology)</td>\n",
       "      <td>10.00000</td>\n",
       "    </tr>\n",
       "    <tr>\n",
       "      <td>4</td>\n",
       "      <td>Albania</td>\n",
       "      <td>Starting a business - Score</td>\n",
       "      <td>91.75909</td>\n",
       "    </tr>\n",
       "    <tr>\n",
       "      <td>5</td>\n",
       "      <td>Albania</td>\n",
       "      <td>Global: Ease of doing business score (DB17-20 ...</td>\n",
       "      <td>67.74847</td>\n",
       "    </tr>\n",
       "    <tr>\n",
       "      <td>6</td>\n",
       "      <td>Albania</td>\n",
       "      <td>Enforcing contracts (DB17-20 methodology) - Score</td>\n",
       "      <td>53.51698</td>\n",
       "    </tr>\n",
       "    <tr>\n",
       "      <td>7</td>\n",
       "      <td>Albania</td>\n",
       "      <td>Getting Credit total score (DB15-20 methodology)</td>\n",
       "      <td>14.00000</td>\n",
       "    </tr>\n",
       "  </tbody>\n",
       "</table>\n",
       "</div>"
      ],
      "text/plain": [
       "  Economy Name                                        Series Name    Values\n",
       "0  Afghanistan                        Starting a business - Score  91.99116\n",
       "1  Afghanistan  Global: Ease of doing business score (DB17-20 ...  44.06497\n",
       "2  Afghanistan  Enforcing contracts (DB17-20 methodology) - Score  31.75645\n",
       "3  Afghanistan   Getting Credit total score (DB15-20 methodology)  10.00000\n",
       "4      Albania                        Starting a business - Score  91.75909\n",
       "5      Albania  Global: Ease of doing business score (DB17-20 ...  67.74847\n",
       "6      Albania  Enforcing contracts (DB17-20 methodology) - Score  53.51698\n",
       "7      Albania   Getting Credit total score (DB15-20 methodology)  14.00000"
      ]
     },
     "execution_count": 6,
     "metadata": {},
     "output_type": "execute_result"
    }
   ],
   "source": [
    "# Create new \"Doing Business\" dataframe:\n",
    "doing_business = doing_business_raw.copy()\n",
    "\n",
    "# Keep columns of interest:\n",
    "keep_columns2 = ['Economy Name', 'Series Name', '2020 [YR2020]']\n",
    "doing_business = doing_business[keep_columns2]\n",
    "\n",
    "# Rename columns:\n",
    "doing_business.rename(columns = {'2020 [YR2020]':'Values'}, inplace = True)\n",
    "\n",
    "doing_business.head(8)"
   ]
  },
  {
   "cell_type": "markdown",
   "metadata": {},
   "source": [
    "Our dataframe has 4 rows for each country including values for each of the *__Doing Business__* indicators.  \n",
    "These indicators include:\n",
    "1. *__Ease of doing business__* - a simple average of the Doing Business scores.\n",
    "2. *__Starting a business__* - the ease of starting a business by an entrepreneur.\n",
    "3. *__Enforcing contracts__* - the time and cost of resolving commercial disputes.\n",
    "4. *__Getting credit__* - strength of legal rights index and the depth of credit information index."
   ]
  },
  {
   "cell_type": "markdown",
   "metadata": {},
   "source": [
    "Before we move on, let's check if there are any null values in our dataframe."
   ]
  },
  {
   "cell_type": "code",
   "execution_count": 7,
   "metadata": {},
   "outputs": [
    {
     "name": "stdout",
     "output_type": "stream",
     "text": [
      "There are 0 NaN values in the \"doing_business\" dataframe.\n"
     ]
    }
   ],
   "source": [
    "print(\\\n",
    "'There are {} NaN values in the \"doing_business\" dataframe.'\\\n",
    "      .format(doing_business['Values'].isnull().values.sum())\n",
    "     )"
   ]
  },
  {
   "cell_type": "markdown",
   "metadata": {},
   "source": [
    "There are no null values in our dataframe, we can continue with the pre-processing."
   ]
  },
  {
   "cell_type": "markdown",
   "metadata": {},
   "source": [
    "Before we can continue we must pivot our data and aggregate by *__Country__*."
   ]
  },
  {
   "cell_type": "code",
   "execution_count": 8,
   "metadata": {
    "scrolled": true
   },
   "outputs": [
    {
     "data": {
      "text/html": [
       "<div>\n",
       "<style scoped>\n",
       "    .dataframe tbody tr th:only-of-type {\n",
       "        vertical-align: middle;\n",
       "    }\n",
       "\n",
       "    .dataframe tbody tr th {\n",
       "        vertical-align: top;\n",
       "    }\n",
       "\n",
       "    .dataframe thead th {\n",
       "        text-align: right;\n",
       "    }\n",
       "</style>\n",
       "<table border=\"1\" class=\"dataframe\">\n",
       "  <thead>\n",
       "    <tr style=\"text-align: right;\">\n",
       "      <th>Series Name</th>\n",
       "      <th>Country</th>\n",
       "      <th>Getting Credit</th>\n",
       "      <th>Enforcing Contracts</th>\n",
       "      <th>Starting a Business</th>\n",
       "      <th>Ease of Doing Business</th>\n",
       "    </tr>\n",
       "  </thead>\n",
       "  <tbody>\n",
       "    <tr>\n",
       "      <td>0</td>\n",
       "      <td>Afghanistan</td>\n",
       "      <td>10.0</td>\n",
       "      <td>31.75645</td>\n",
       "      <td>91.99116</td>\n",
       "      <td>44.06497</td>\n",
       "    </tr>\n",
       "    <tr>\n",
       "      <td>1</td>\n",
       "      <td>Albania</td>\n",
       "      <td>14.0</td>\n",
       "      <td>53.51698</td>\n",
       "      <td>91.75909</td>\n",
       "      <td>67.74847</td>\n",
       "    </tr>\n",
       "    <tr>\n",
       "      <td>2</td>\n",
       "      <td>Algeria</td>\n",
       "      <td>2.0</td>\n",
       "      <td>54.78094</td>\n",
       "      <td>78.01386</td>\n",
       "      <td>48.59758</td>\n",
       "    </tr>\n",
       "    <tr>\n",
       "      <td>3</td>\n",
       "      <td>Angola</td>\n",
       "      <td>1.0</td>\n",
       "      <td>28.11028</td>\n",
       "      <td>79.40060</td>\n",
       "      <td>41.28838</td>\n",
       "    </tr>\n",
       "    <tr>\n",
       "      <td>4</td>\n",
       "      <td>Antigua and Barbuda</td>\n",
       "      <td>5.0</td>\n",
       "      <td>68.11245</td>\n",
       "      <td>82.58503</td>\n",
       "      <td>60.28342</td>\n",
       "    </tr>\n",
       "  </tbody>\n",
       "</table>\n",
       "</div>"
      ],
      "text/plain": [
       "Series Name              Country  Getting Credit  Enforcing Contracts  \\\n",
       "0                    Afghanistan            10.0             31.75645   \n",
       "1                        Albania            14.0             53.51698   \n",
       "2                        Algeria             2.0             54.78094   \n",
       "3                         Angola             1.0             28.11028   \n",
       "4            Antigua and Barbuda             5.0             68.11245   \n",
       "\n",
       "Series Name  Starting a Business  Ease of Doing Business  \n",
       "0                       91.99116                44.06497  \n",
       "1                       91.75909                67.74847  \n",
       "2                       78.01386                48.59758  \n",
       "3                       79.40060                41.28838  \n",
       "4                       82.58503                60.28342  "
      ]
     },
     "execution_count": 8,
     "metadata": {},
     "output_type": "execute_result"
    }
   ],
   "source": [
    "# Pivot so each country has one row and a column for each indicator:\n",
    "doing_business = doing_business.pivot(index = 'Economy Name', columns = 'Series Name', values = 'Values')\n",
    "doing_business.reset_index(inplace = True)\n",
    "\n",
    "# Rename columns:\n",
    "old_columns = doing_business.columns\n",
    "new_columns = ['Country', 'Enforcing Contracts', 'Getting Credit','Ease of Doing Business', 'Starting a Business' ]\n",
    "\n",
    "# Replace old column names by new column names:\n",
    "for i, old_name in enumerate(old_columns):\n",
    "    doing_business.rename(columns = {old_name : new_columns[i]}, inplace = True)\n",
    "\n",
    "# Set the columns order:\n",
    "new_column_order = ['Country','Getting Credit', 'Enforcing Contracts', 'Starting a Business','Ease of Doing Business']\n",
    "doing_business = doing_business[new_column_order]\n",
    "\n",
    "\n",
    "doing_business.head()"
   ]
  },
  {
   "cell_type": "code",
   "execution_count": 9,
   "metadata": {},
   "outputs": [
    {
     "data": {
      "text/html": [
       "<div>\n",
       "<style scoped>\n",
       "    .dataframe tbody tr th:only-of-type {\n",
       "        vertical-align: middle;\n",
       "    }\n",
       "\n",
       "    .dataframe tbody tr th {\n",
       "        vertical-align: top;\n",
       "    }\n",
       "\n",
       "    .dataframe thead th {\n",
       "        text-align: right;\n",
       "    }\n",
       "</style>\n",
       "<table border=\"1\" class=\"dataframe\">\n",
       "  <thead>\n",
       "    <tr style=\"text-align: right;\">\n",
       "      <th>Series Name</th>\n",
       "      <th>Getting Credit</th>\n",
       "      <th>Enforcing Contracts</th>\n",
       "      <th>Starting a Business</th>\n",
       "      <th>Ease of Doing Business</th>\n",
       "    </tr>\n",
       "  </thead>\n",
       "  <tbody>\n",
       "    <tr>\n",
       "      <td>count</td>\n",
       "      <td>191.000000</td>\n",
       "      <td>191.000000</td>\n",
       "      <td>191.000000</td>\n",
       "      <td>191.000000</td>\n",
       "    </tr>\n",
       "    <tr>\n",
       "      <td>mean</td>\n",
       "      <td>10.895288</td>\n",
       "      <td>56.324697</td>\n",
       "      <td>84.366592</td>\n",
       "      <td>63.051417</td>\n",
       "    </tr>\n",
       "    <tr>\n",
       "      <td>std</td>\n",
       "      <td>4.830771</td>\n",
       "      <td>13.391194</td>\n",
       "      <td>11.251611</td>\n",
       "      <td>13.860445</td>\n",
       "    </tr>\n",
       "    <tr>\n",
       "      <td>min</td>\n",
       "      <td>0.000000</td>\n",
       "      <td>6.132360</td>\n",
       "      <td>25.000000</td>\n",
       "      <td>20.039580</td>\n",
       "    </tr>\n",
       "    <tr>\n",
       "      <td>25%</td>\n",
       "      <td>7.500000</td>\n",
       "      <td>48.556250</td>\n",
       "      <td>80.024565</td>\n",
       "      <td>54.359165</td>\n",
       "    </tr>\n",
       "    <tr>\n",
       "      <td>50%</td>\n",
       "      <td>11.000000</td>\n",
       "      <td>57.534930</td>\n",
       "      <td>86.973880</td>\n",
       "      <td>62.829430</td>\n",
       "    </tr>\n",
       "    <tr>\n",
       "      <td>75%</td>\n",
       "      <td>14.000000</td>\n",
       "      <td>65.751250</td>\n",
       "      <td>92.278120</td>\n",
       "      <td>74.341020</td>\n",
       "    </tr>\n",
       "    <tr>\n",
       "      <td>max</td>\n",
       "      <td>20.000000</td>\n",
       "      <td>84.531890</td>\n",
       "      <td>99.975440</td>\n",
       "      <td>86.764650</td>\n",
       "    </tr>\n",
       "  </tbody>\n",
       "</table>\n",
       "</div>"
      ],
      "text/plain": [
       "Series Name  Getting Credit  Enforcing Contracts  Starting a Business  \\\n",
       "count            191.000000           191.000000           191.000000   \n",
       "mean              10.895288            56.324697            84.366592   \n",
       "std                4.830771            13.391194            11.251611   \n",
       "min                0.000000             6.132360            25.000000   \n",
       "25%                7.500000            48.556250            80.024565   \n",
       "50%               11.000000            57.534930            86.973880   \n",
       "75%               14.000000            65.751250            92.278120   \n",
       "max               20.000000            84.531890            99.975440   \n",
       "\n",
       "Series Name  Ease of Doing Business  \n",
       "count                    191.000000  \n",
       "mean                      63.051417  \n",
       "std                       13.860445  \n",
       "min                       20.039580  \n",
       "25%                       54.359165  \n",
       "50%                       62.829430  \n",
       "75%                       74.341020  \n",
       "max                       86.764650  "
      ]
     },
     "execution_count": 9,
     "metadata": {},
     "output_type": "execute_result"
    }
   ],
   "source": [
    "# Check summary statistics:\n",
    "doing_business.describe()"
   ]
  },
  {
   "cell_type": "code",
   "execution_count": 10,
   "metadata": {},
   "outputs": [
    {
     "name": "stdout",
     "output_type": "stream",
     "text": [
      "The \"doing_business\" datafram has data on 4 indicators for 191 counrties\n"
     ]
    }
   ],
   "source": [
    "print(\\\n",
    "      'The \"doing_business\" datafram has data on {} indicators for {} counrties'\\\n",
    "      .format((doing_business.shape[1]-1), doing_business.shape[0])\n",
    "     )"
   ]
  },
  {
   "cell_type": "markdown",
   "metadata": {},
   "source": [
    "#### 2.1.3. A few quick notes on the *Doing Business* descriptive statistics:\n",
    "* Overall, we have data on 4 *__Doing Business__* indicators for 191 countries.  \n",
    "* We can see that *__Getting credit__* has the lowest values but relativly high standard deviation.  \n",
    "* Other than that, we learn that *__Starting a Business__* indicator has the highest values and relativly low standard deviation and a high mean."
   ]
  },
  {
   "cell_type": "markdown",
   "metadata": {},
   "source": [
    "#### 2.1.4. Visualizing Data - China and United States:"
   ]
  },
  {
   "cell_type": "markdown",
   "metadata": {},
   "source": [
    "Let's create a bar chart of the *__Doing Business__* indicators showing China and The United States side by side.  "
   ]
  },
  {
   "cell_type": "markdown",
   "metadata": {},
   "source": [
    "#### 2.1.4.1. *get_row_values()* function:\n",
    "This function will help us extract data quickly for a chosen country."
   ]
  },
  {
   "cell_type": "code",
   "execution_count": 11,
   "metadata": {},
   "outputs": [],
   "source": [
    "def get_row_values (dataframe, search_column, search_value):\n",
    "    '''\n",
    "    Search a clolumn in a dataframe for a value and\n",
    "    return that value's row from the dataframe.\n",
    "    (Sets the \"search_column\" as the index)\n",
    "    '''\n",
    "    # Find and store the requested row:\n",
    "    row_values = dataframe[dataframe[search_column] == search_value]\n",
    "    \n",
    "    # Set the \"search_column\" as the index:\n",
    "    row_values = row_values.set_index(search_column)\n",
    "    \n",
    "    return row_values"
   ]
  },
  {
   "cell_type": "markdown",
   "metadata": {},
   "source": [
    "#### 2.1.4.2. Visualization data preparation:"
   ]
  },
  {
   "cell_type": "code",
   "execution_count": 12,
   "metadata": {},
   "outputs": [
    {
     "data": {
      "text/html": [
       "<div>\n",
       "<style scoped>\n",
       "    .dataframe tbody tr th:only-of-type {\n",
       "        vertical-align: middle;\n",
       "    }\n",
       "\n",
       "    .dataframe tbody tr th {\n",
       "        vertical-align: top;\n",
       "    }\n",
       "\n",
       "    .dataframe thead th {\n",
       "        text-align: right;\n",
       "    }\n",
       "</style>\n",
       "<table border=\"1\" class=\"dataframe\">\n",
       "  <thead>\n",
       "    <tr style=\"text-align: right;\">\n",
       "      <th>Country</th>\n",
       "      <th>China</th>\n",
       "      <th>United States</th>\n",
       "    </tr>\n",
       "    <tr>\n",
       "      <th></th>\n",
       "      <th></th>\n",
       "      <th></th>\n",
       "    </tr>\n",
       "  </thead>\n",
       "  <tbody>\n",
       "    <tr>\n",
       "      <td>Getting Credit</td>\n",
       "      <td>12.00000</td>\n",
       "      <td>19.00000</td>\n",
       "    </tr>\n",
       "    <tr>\n",
       "      <td>Enforcing Contracts</td>\n",
       "      <td>80.91292</td>\n",
       "      <td>73.43767</td>\n",
       "    </tr>\n",
       "    <tr>\n",
       "      <td>Starting a Business</td>\n",
       "      <td>94.09210</td>\n",
       "      <td>91.59317</td>\n",
       "    </tr>\n",
       "    <tr>\n",
       "      <td>Ease of Doing Business</td>\n",
       "      <td>77.93130</td>\n",
       "      <td>83.99668</td>\n",
       "    </tr>\n",
       "  </tbody>\n",
       "</table>\n",
       "</div>"
      ],
      "text/plain": [
       "Country                    China  United States\n",
       "                                               \n",
       "Getting Credit          12.00000       19.00000\n",
       "Enforcing Contracts     80.91292       73.43767\n",
       "Starting a Business     94.09210       91.59317\n",
       "Ease of Doing Business  77.93130       83.99668"
      ]
     },
     "execution_count": 12,
     "metadata": {},
     "output_type": "execute_result"
    }
   ],
   "source": [
    "# China data:\n",
    "china_indicators = get_row_values(doing_business, 'Country', 'China')\n",
    "\n",
    "# United States data:\n",
    "usa_indicators = get_row_values(doing_business, 'Country', 'United States')\n",
    "\n",
    "# Combined data:\n",
    "china_usa_indicators = pd.DataFrame()\n",
    "china_usa_indicators = china_usa_indicators.append(china_indicators)\n",
    "china_usa_indicators = china_usa_indicators.append(usa_indicators)\n",
    "\n",
    "# Reset index and change column names:\n",
    "china_usa_indicators = china_usa_indicators.transpose().reset_index()\n",
    "china_usa_indicators = china_usa_indicators.rename(columns = {'Series Name': ''}).set_index('')\n",
    "\n",
    "\n",
    "china_usa_indicators"
   ]
  },
  {
   "cell_type": "markdown",
   "metadata": {},
   "source": [
    "#### 2.1.4.3. Visualization:"
   ]
  },
  {
   "cell_type": "code",
   "execution_count": 13,
   "metadata": {},
   "outputs": [
    {
     "data": {
      "image/png": "[encoded data removed]",
      "text/plain": [
       "<Figure size 1008x432 with 1 Axes>"
      ]
     },
     "metadata": {
      "needs_background": "light"
     },
     "output_type": "display_data"
    }
   ],
   "source": [
    "fig_china_usa = plt.figure() # create figure\n",
    "\n",
    "indicator_list = china_usa_indicators.index\n",
    "\n",
    "ax_china_usa = fig_china_usa.add_subplot(1,1,1)\n",
    "\n",
    "ax_china_usa = china_usa_indicators.plot(\n",
    "    kind='bar',\n",
    "    width = 0.6,\n",
    "    fontsize = 16,\n",
    "    color = ['r', 'b'],\n",
    "    figsize = (14, 6),\n",
    "    ax = ax_china_usa)\n",
    "\n",
    "\n",
    "ax_china_usa.set_title('Doing Business Indicators - China and USA\\n',\n",
    "                       fontsize = 24,\n",
    "                       color = 'black',\n",
    "                       fontweight = 'bold')\n",
    "\n",
    "    \n",
    "ax_china_usa.set_ylim([0, 120])\n",
    "ax_china_usa.set_xticklabels(ax_china_usa.get_xticklabels(), rotation=0)\n",
    "\n",
    "\n",
    "plt.show()\n"
   ]
  },
  {
   "cell_type": "markdown",
   "metadata": {},
   "source": [
    "#### 2.1. GDP Data:\n",
    "The second dataframe we will pre-process is the *__GDP Data__*."
   ]
  },
  {
   "cell_type": "code",
   "execution_count": 14,
   "metadata": {},
   "outputs": [
    {
     "data": {
      "text/html": [
       "<div>\n",
       "<style scoped>\n",
       "    .dataframe tbody tr th:only-of-type {\n",
       "        vertical-align: middle;\n",
       "    }\n",
       "\n",
       "    .dataframe tbody tr th {\n",
       "        vertical-align: top;\n",
       "    }\n",
       "\n",
       "    .dataframe thead th {\n",
       "        text-align: right;\n",
       "    }\n",
       "</style>\n",
       "<table border=\"1\" class=\"dataframe\">\n",
       "  <thead>\n",
       "    <tr style=\"text-align: right;\">\n",
       "      <th></th>\n",
       "      <th>Country Name</th>\n",
       "      <th>Country Code</th>\n",
       "      <th>Series Name</th>\n",
       "      <th>Series Code</th>\n",
       "      <th>2009 [YR2009]</th>\n",
       "      <th>2010 [YR2010]</th>\n",
       "      <th>2011 [YR2011]</th>\n",
       "      <th>2012 [YR2012]</th>\n",
       "      <th>2013 [YR2013]</th>\n",
       "      <th>2014 [YR2014]</th>\n",
       "      <th>2015 [YR2015]</th>\n",
       "      <th>2016 [YR2016]</th>\n",
       "      <th>2017 [YR2017]</th>\n",
       "      <th>2018 [YR2018]</th>\n",
       "      <th>2019 [YR2019]</th>\n",
       "    </tr>\n",
       "  </thead>\n",
       "  <tbody>\n",
       "    <tr>\n",
       "      <td>0</td>\n",
       "      <td>Afghanistan</td>\n",
       "      <td>AFG</td>\n",
       "      <td>GDP growth (annual %)</td>\n",
       "      <td>NY.GDP.MKTP.KD.ZG</td>\n",
       "      <td>21.39052841</td>\n",
       "      <td>14.36244146</td>\n",
       "      <td>0.426354793</td>\n",
       "      <td>12.75228708</td>\n",
       "      <td>5.600744661</td>\n",
       "      <td>2.724543365</td>\n",
       "      <td>1.451314655</td>\n",
       "      <td>2.260314205</td>\n",
       "      <td>2.665292046</td>\n",
       "      <td>1.030660058</td>\n",
       "      <td>..</td>\n",
       "    </tr>\n",
       "    <tr>\n",
       "      <td>1</td>\n",
       "      <td>Afghanistan</td>\n",
       "      <td>AFG</td>\n",
       "      <td>GDP per capita (current US$)</td>\n",
       "      <td>NY.GDP.PCAP.CD</td>\n",
       "      <td>438.0760344</td>\n",
       "      <td>543.3030419</td>\n",
       "      <td>591.1623465</td>\n",
       "      <td>641.8720338</td>\n",
       "      <td>637.1650439</td>\n",
       "      <td>613.8563329</td>\n",
       "      <td>578.4663529</td>\n",
       "      <td>547.2281102</td>\n",
       "      <td>556.3021385</td>\n",
       "      <td>520.8966027</td>\n",
       "      <td>..</td>\n",
       "    </tr>\n",
       "  </tbody>\n",
       "</table>\n",
       "</div>"
      ],
      "text/plain": [
       "  Country Name Country Code                   Series Name        Series Code  \\\n",
       "0  Afghanistan          AFG         GDP growth (annual %)  NY.GDP.MKTP.KD.ZG   \n",
       "1  Afghanistan          AFG  GDP per capita (current US$)     NY.GDP.PCAP.CD   \n",
       "\n",
       "  2009 [YR2009] 2010 [YR2010] 2011 [YR2011] 2012 [YR2012] 2013 [YR2013]  \\\n",
       "0   21.39052841   14.36244146   0.426354793   12.75228708   5.600744661   \n",
       "1   438.0760344   543.3030419   591.1623465   641.8720338   637.1650439   \n",
       "\n",
       "  2014 [YR2014] 2015 [YR2015] 2016 [YR2016] 2017 [YR2017] 2018 [YR2018]  \\\n",
       "0   2.724543365   1.451314655   2.260314205   2.665292046   1.030660058   \n",
       "1   613.8563329   578.4663529   547.2281102   556.3021385   520.8966027   \n",
       "\n",
       "  2019 [YR2019]  \n",
       "0            ..  \n",
       "1            ..  "
      ]
     },
     "execution_count": 14,
     "metadata": {},
     "output_type": "execute_result"
    }
   ],
   "source": [
    "# Load \"GDP Data\":\n",
    "GDP_raw = pd.read_csv('GDP_world_bank.csv')\n",
    "\n",
    "GDP_raw.head(2)"
   ]
  },
  {
   "cell_type": "code",
   "execution_count": 15,
   "metadata": {},
   "outputs": [],
   "source": [
    "# Remove irrelevant  columns:\n",
    "GDP_raw.drop(['2019 [YR2019]', 'Series Code'], axis = 1, inplace = True)"
   ]
  },
  {
   "cell_type": "code",
   "execution_count": 16,
   "metadata": {},
   "outputs": [
    {
     "data": {
      "text/html": [
       "<div>\n",
       "<style scoped>\n",
       "    .dataframe tbody tr th:only-of-type {\n",
       "        vertical-align: middle;\n",
       "    }\n",
       "\n",
       "    .dataframe tbody tr th {\n",
       "        vertical-align: top;\n",
       "    }\n",
       "\n",
       "    .dataframe thead th {\n",
       "        text-align: right;\n",
       "    }\n",
       "</style>\n",
       "<table border=\"1\" class=\"dataframe\">\n",
       "  <thead>\n",
       "    <tr style=\"text-align: right;\">\n",
       "      <th></th>\n",
       "      <th>Country</th>\n",
       "      <th>Series Name</th>\n",
       "      <th>2009</th>\n",
       "      <th>2010</th>\n",
       "      <th>2011</th>\n",
       "      <th>2012</th>\n",
       "      <th>2013</th>\n",
       "      <th>2014</th>\n",
       "      <th>2015</th>\n",
       "      <th>2016</th>\n",
       "      <th>2017</th>\n",
       "      <th>2018</th>\n",
       "    </tr>\n",
       "  </thead>\n",
       "  <tbody>\n",
       "    <tr>\n",
       "      <td>0</td>\n",
       "      <td>Afghanistan</td>\n",
       "      <td>GDP growth (annual %)</td>\n",
       "      <td>21.39052841</td>\n",
       "      <td>14.36244146</td>\n",
       "      <td>0.426354793</td>\n",
       "      <td>12.75228708</td>\n",
       "      <td>5.600744661</td>\n",
       "      <td>2.724543365</td>\n",
       "      <td>1.451314655</td>\n",
       "      <td>2.260314205</td>\n",
       "      <td>2.665292046</td>\n",
       "      <td>1.030660058</td>\n",
       "    </tr>\n",
       "    <tr>\n",
       "      <td>1</td>\n",
       "      <td>Afghanistan</td>\n",
       "      <td>GDP per capita (current US$)</td>\n",
       "      <td>438.0760344</td>\n",
       "      <td>543.3030419</td>\n",
       "      <td>591.1623465</td>\n",
       "      <td>641.8720338</td>\n",
       "      <td>637.1650439</td>\n",
       "      <td>613.8563329</td>\n",
       "      <td>578.4663529</td>\n",
       "      <td>547.2281102</td>\n",
       "      <td>556.3021385</td>\n",
       "      <td>520.8966027</td>\n",
       "    </tr>\n",
       "  </tbody>\n",
       "</table>\n",
       "</div>"
      ],
      "text/plain": [
       "       Country                   Series Name         2009         2010  \\\n",
       "0  Afghanistan         GDP growth (annual %)  21.39052841  14.36244146   \n",
       "1  Afghanistan  GDP per capita (current US$)  438.0760344  543.3030419   \n",
       "\n",
       "          2011         2012         2013         2014         2015  \\\n",
       "0  0.426354793  12.75228708  5.600744661  2.724543365  1.451314655   \n",
       "1  591.1623465  641.8720338  637.1650439  613.8563329  578.4663529   \n",
       "\n",
       "          2016         2017         2018  \n",
       "0  2.260314205  2.665292046  1.030660058  \n",
       "1  547.2281102  556.3021385  520.8966027  "
      ]
     },
     "execution_count": 16,
     "metadata": {},
     "output_type": "execute_result"
    }
   ],
   "source": [
    "# Create new \"GDP Data\" dataframe:\n",
    "GDP_processed = GDP_raw.copy()\n",
    "\n",
    "# Change year column names:\n",
    "change_columns = GDP_raw.columns[3:] # Get the names of the year columns\n",
    "new_col_names = list(range(2009,2019)) # Create new year column names\n",
    "\n",
    "# Replace old column nmaes by new names:\n",
    "for i,year in enumerate(new_col_names):\n",
    "    new_col_names[i] = str(year)\n",
    "    GDP_processed.rename(columns = {change_columns[i]:str(year)}, inplace = True)\n",
    "\n",
    "# Rename columns and drop country code column:   \n",
    "GDP_processed.rename(columns = {'Country Name':'Country'}, inplace = True)    \n",
    "GDP_processed.drop('Country Code', axis = 1, inplace = True)\n",
    "    \n",
    "GDP_processed.head(2)"
   ]
  },
  {
   "cell_type": "code",
   "execution_count": 17,
   "metadata": {},
   "outputs": [
    {
     "data": {
      "text/html": [
       "<div>\n",
       "<style scoped>\n",
       "    .dataframe tbody tr th:only-of-type {\n",
       "        vertical-align: middle;\n",
       "    }\n",
       "\n",
       "    .dataframe tbody tr th {\n",
       "        vertical-align: top;\n",
       "    }\n",
       "\n",
       "    .dataframe thead th {\n",
       "        text-align: right;\n",
       "    }\n",
       "</style>\n",
       "<table border=\"1\" class=\"dataframe\">\n",
       "  <thead>\n",
       "    <tr style=\"text-align: right;\">\n",
       "      <th></th>\n",
       "      <th>Country</th>\n",
       "      <th>Series Name</th>\n",
       "      <th>2009</th>\n",
       "      <th>2010</th>\n",
       "      <th>2011</th>\n",
       "      <th>2012</th>\n",
       "      <th>2013</th>\n",
       "      <th>2014</th>\n",
       "      <th>2015</th>\n",
       "      <th>2016</th>\n",
       "      <th>2017</th>\n",
       "      <th>2018</th>\n",
       "    </tr>\n",
       "  </thead>\n",
       "  <tbody>\n",
       "    <tr>\n",
       "      <td>count</td>\n",
       "      <td>528</td>\n",
       "      <td>528</td>\n",
       "      <td>528</td>\n",
       "      <td>528</td>\n",
       "      <td>528</td>\n",
       "      <td>528</td>\n",
       "      <td>528</td>\n",
       "      <td>528</td>\n",
       "      <td>528</td>\n",
       "      <td>528</td>\n",
       "      <td>528</td>\n",
       "      <td>528</td>\n",
       "    </tr>\n",
       "    <tr>\n",
       "      <td>unique</td>\n",
       "      <td>264</td>\n",
       "      <td>2</td>\n",
       "      <td>499</td>\n",
       "      <td>499</td>\n",
       "      <td>500</td>\n",
       "      <td>499</td>\n",
       "      <td>500</td>\n",
       "      <td>499</td>\n",
       "      <td>498</td>\n",
       "      <td>495</td>\n",
       "      <td>493</td>\n",
       "      <td>475</td>\n",
       "    </tr>\n",
       "    <tr>\n",
       "      <td>top</td>\n",
       "      <td>Togo</td>\n",
       "      <td>GDP per capita (current US$)</td>\n",
       "      <td>..</td>\n",
       "      <td>..</td>\n",
       "      <td>..</td>\n",
       "      <td>..</td>\n",
       "      <td>..</td>\n",
       "      <td>..</td>\n",
       "      <td>..</td>\n",
       "      <td>..</td>\n",
       "      <td>..</td>\n",
       "      <td>..</td>\n",
       "    </tr>\n",
       "    <tr>\n",
       "      <td>freq</td>\n",
       "      <td>2</td>\n",
       "      <td>264</td>\n",
       "      <td>26</td>\n",
       "      <td>26</td>\n",
       "      <td>25</td>\n",
       "      <td>26</td>\n",
       "      <td>25</td>\n",
       "      <td>26</td>\n",
       "      <td>27</td>\n",
       "      <td>29</td>\n",
       "      <td>32</td>\n",
       "      <td>49</td>\n",
       "    </tr>\n",
       "  </tbody>\n",
       "</table>\n",
       "</div>"
      ],
      "text/plain": [
       "       Country                   Series Name 2009 2010 2011 2012 2013 2014  \\\n",
       "count      528                           528  528  528  528  528  528  528   \n",
       "unique     264                             2  499  499  500  499  500  499   \n",
       "top       Togo  GDP per capita (current US$)   ..   ..   ..   ..   ..   ..   \n",
       "freq         2                           264   26   26   25   26   25   26   \n",
       "\n",
       "       2015 2016 2017 2018  \n",
       "count   528  528  528  528  \n",
       "unique  498  495  493  475  \n",
       "top      ..   ..   ..   ..  \n",
       "freq     27   29   32   49  "
      ]
     },
     "execution_count": 17,
     "metadata": {},
     "output_type": "execute_result"
    }
   ],
   "source": [
    "# Check summary statistics:\n",
    "GDP_processed.describe()"
   ]
  },
  {
   "cell_type": "markdown",
   "metadata": {},
   "source": [
    "#### 2.1.1. Data type check:\n",
    "From the *__GDP Data__* summary statistics we can see that the data type of the GDP indicators' values are strings.  \n",
    "Let's check the data types in the *__GDP_processed__* dataframe."
   ]
  },
  {
   "cell_type": "code",
   "execution_count": 18,
   "metadata": {},
   "outputs": [
    {
     "data": {
      "text/plain": [
       "str"
      ]
     },
     "execution_count": 18,
     "metadata": {},
     "output_type": "execute_result"
    }
   ],
   "source": [
    "type(GDP_processed['2010'][0])"
   ]
  },
  {
   "cell_type": "code",
   "execution_count": 19,
   "metadata": {},
   "outputs": [
    {
     "data": {
      "text/plain": [
       "Country        object\n",
       "Series Name    object\n",
       "2009           object\n",
       "2010           object\n",
       "2011           object\n",
       "2012           object\n",
       "2013           object\n",
       "2014           object\n",
       "2015           object\n",
       "2016           object\n",
       "2017           object\n",
       "2018           object\n",
       "dtype: object"
      ]
     },
     "execution_count": 19,
     "metadata": {},
     "output_type": "execute_result"
    }
   ],
   "source": [
    "GDP_processed.dtypes"
   ]
  },
  {
   "cell_type": "markdown",
   "metadata": {},
   "source": [
    "__Each clolumn's data type is an object, if we want to use these numerical values fo analysis we must change them to int or float.__"
   ]
  },
  {
   "cell_type": "markdown",
   "metadata": {},
   "source": [
    "#### 2.1.2. Null values check:\n",
    "* We can see that the most common value for year is \"..\".  \n",
    "*  This must be how missing values are noted in this dataframe."
   ]
  },
  {
   "cell_type": "markdown",
   "metadata": {},
   "source": [
    "Let's check if there are any null values in the *__GDP_processed__* dataframe."
   ]
  },
  {
   "cell_type": "code",
   "execution_count": 20,
   "metadata": {},
   "outputs": [
    {
     "name": "stdout",
     "output_type": "stream",
     "text": [
      "There are 0 NaN values in the \"GDP_processed\" dataframe.\n"
     ]
    }
   ],
   "source": [
    "print(\\\n",
    "'There are {} NaN values in the \"GDP_processed\" dataframe.'\\\n",
    "      .format(GDP_processed.isnull().values.sum())\n",
    "     )"
   ]
  },
  {
   "cell_type": "markdown",
   "metadata": {},
   "source": [
    "__As we suspected there are no values set to null which means that nulls are depicted by \"..\", we will fix these by changing these values to null.__"
   ]
  },
  {
   "cell_type": "code",
   "execution_count": 21,
   "metadata": {},
   "outputs": [],
   "source": [
    "# Get a list of clumns' names:\n",
    "col_list = GDP_processed.columns\n",
    "\n",
    "# Change \"..\" values to NaN:\n",
    "for i in range(len(col_list)):\n",
    "    GDP_processed[GDP_processed[col_list[i]] == '..'] = np.NaN"
   ]
  },
  {
   "cell_type": "markdown",
   "metadata": {},
   "source": [
    "In the next two sections we will split the *__GDP Data__* into two separate dataframe, one for each GDP indicator:\n",
    "1. GDP growth rate\n",
    "2. GDP per capita"
   ]
  },
  {
   "cell_type": "markdown",
   "metadata": {},
   "source": [
    "Let's create a list of the two indicators that will help process the *__GDP Data__* into two dataframes."
   ]
  },
  {
   "cell_type": "code",
   "execution_count": 22,
   "metadata": {},
   "outputs": [
    {
     "data": {
      "text/plain": [
       "array(['GDP growth (annual %)', 'GDP per capita (current US$)', nan],\n",
       "      dtype=object)"
      ]
     },
     "execution_count": 22,
     "metadata": {},
     "output_type": "execute_result"
    }
   ],
   "source": [
    "# Create a list of the indicators from \"GDP_processed\":\n",
    "GDP_indicators = GDP_processed['Series Name'].unique()\n",
    "\n",
    "GDP_indicators"
   ]
  },
  {
   "cell_type": "markdown",
   "metadata": {},
   "source": [
    "#### 2.2. GDP Growth Rate:"
   ]
  },
  {
   "cell_type": "markdown",
   "metadata": {},
   "source": [
    "#### 2.2.1. Data Pre-processing:"
   ]
  },
  {
   "cell_type": "code",
   "execution_count": 23,
   "metadata": {},
   "outputs": [
    {
     "data": {
      "text/html": [
       "<div>\n",
       "<style scoped>\n",
       "    .dataframe tbody tr th:only-of-type {\n",
       "        vertical-align: middle;\n",
       "    }\n",
       "\n",
       "    .dataframe tbody tr th {\n",
       "        vertical-align: top;\n",
       "    }\n",
       "\n",
       "    .dataframe thead th {\n",
       "        text-align: right;\n",
       "    }\n",
       "</style>\n",
       "<table border=\"1\" class=\"dataframe\">\n",
       "  <thead>\n",
       "    <tr style=\"text-align: right;\">\n",
       "      <th></th>\n",
       "      <th>Country</th>\n",
       "      <th>2009</th>\n",
       "      <th>2010</th>\n",
       "      <th>2011</th>\n",
       "      <th>2012</th>\n",
       "      <th>2013</th>\n",
       "      <th>2014</th>\n",
       "      <th>2015</th>\n",
       "      <th>2016</th>\n",
       "      <th>2017</th>\n",
       "      <th>2018</th>\n",
       "    </tr>\n",
       "  </thead>\n",
       "  <tbody>\n",
       "    <tr>\n",
       "      <td>0</td>\n",
       "      <td>Afghanistan</td>\n",
       "      <td>21.39</td>\n",
       "      <td>14.36</td>\n",
       "      <td>0.43</td>\n",
       "      <td>12.75</td>\n",
       "      <td>5.60</td>\n",
       "      <td>2.72</td>\n",
       "      <td>1.45</td>\n",
       "      <td>2.26</td>\n",
       "      <td>2.67</td>\n",
       "      <td>1.03</td>\n",
       "    </tr>\n",
       "    <tr>\n",
       "      <td>1</td>\n",
       "      <td>Albania</td>\n",
       "      <td>3.35</td>\n",
       "      <td>3.71</td>\n",
       "      <td>2.55</td>\n",
       "      <td>1.42</td>\n",
       "      <td>1.00</td>\n",
       "      <td>1.77</td>\n",
       "      <td>2.22</td>\n",
       "      <td>3.31</td>\n",
       "      <td>3.82</td>\n",
       "      <td>4.15</td>\n",
       "    </tr>\n",
       "    <tr>\n",
       "      <td>2</td>\n",
       "      <td>Algeria</td>\n",
       "      <td>1.60</td>\n",
       "      <td>3.60</td>\n",
       "      <td>2.90</td>\n",
       "      <td>3.40</td>\n",
       "      <td>2.80</td>\n",
       "      <td>3.80</td>\n",
       "      <td>3.70</td>\n",
       "      <td>3.20</td>\n",
       "      <td>1.30</td>\n",
       "      <td>1.40</td>\n",
       "    </tr>\n",
       "    <tr>\n",
       "      <td>3</td>\n",
       "      <td>American Samoa</td>\n",
       "      <td>-4.24</td>\n",
       "      <td>0.44</td>\n",
       "      <td>0.29</td>\n",
       "      <td>-4.39</td>\n",
       "      <td>-2.76</td>\n",
       "      <td>0.94</td>\n",
       "      <td>1.40</td>\n",
       "      <td>-2.77</td>\n",
       "      <td>-5.85</td>\n",
       "      <td>2.18</td>\n",
       "    </tr>\n",
       "    <tr>\n",
       "      <td>4</td>\n",
       "      <td>Andorra</td>\n",
       "      <td>-3.69</td>\n",
       "      <td>-5.36</td>\n",
       "      <td>-4.65</td>\n",
       "      <td>-1.62</td>\n",
       "      <td>0.35</td>\n",
       "      <td>2.28</td>\n",
       "      <td>0.84</td>\n",
       "      <td>1.89</td>\n",
       "      <td>1.72</td>\n",
       "      <td>1.63</td>\n",
       "    </tr>\n",
       "  </tbody>\n",
       "</table>\n",
       "</div>"
      ],
      "text/plain": [
       "          Country   2009   2010  2011   2012  2013  2014  2015  2016  2017  \\\n",
       "0     Afghanistan  21.39  14.36  0.43  12.75  5.60  2.72  1.45  2.26  2.67   \n",
       "1         Albania   3.35   3.71  2.55   1.42  1.00  1.77  2.22  3.31  3.82   \n",
       "2         Algeria   1.60   3.60  2.90   3.40  2.80  3.80  3.70  3.20  1.30   \n",
       "3  American Samoa  -4.24   0.44  0.29  -4.39 -2.76  0.94  1.40 -2.77 -5.85   \n",
       "4         Andorra  -3.69  -5.36 -4.65  -1.62  0.35  2.28  0.84  1.89  1.72   \n",
       "\n",
       "   2018  \n",
       "0  1.03  \n",
       "1  4.15  \n",
       "2  1.40  \n",
       "3  2.18  \n",
       "4  1.63  "
      ]
     },
     "execution_count": 23,
     "metadata": {},
     "output_type": "execute_result"
    }
   ],
   "source": [
    "# Create new \"GDP Growth\" dataframe:\n",
    "GDP_growth = GDP_processed.copy()\n",
    "\n",
    "# Keep GDP Growth values only:\n",
    "GDP_growth = GDP_growth[GDP_growth['Series Name'] == GDP_indicators[0]]\n",
    "\n",
    "# Remove unnecessary columns and reset index:\n",
    "GDP_growth = GDP_growth.drop('Series Name', axis = 1)\n",
    "GDP_growth.reset_index(drop = True, inplace = True)\n",
    "\n",
    "\n",
    "# Change values' type to float64 and round values:\n",
    "for i in range(len(col_list)):\n",
    "    try:\n",
    "        GDP_growth = GDP_growth.astype({col_list[i]: 'float64'}).round(2)\n",
    "    except:\n",
    "        continue\n",
    "        \n",
    "\n",
    "# Crate a list of mean values of each column:\n",
    "mean_growth = pd.DataFrame(data = GDP_growth.mean(axis = 0).round(2))\n",
    "mean_growth.reset_index(inplace = True)\n",
    "mean_growth.rename(columns = {'index':'Year', 0:'Average'}, inplace = True)\n",
    "\n",
    "# Remove null values\n",
    "GDP_growth.dropna(axis = 0, inplace = True)\n",
    "\n",
    "\n",
    "GDP_growth.head()"
   ]
  },
  {
   "cell_type": "code",
   "execution_count": 24,
   "metadata": {},
   "outputs": [
    {
     "data": {
      "text/html": [
       "<div>\n",
       "<style scoped>\n",
       "    .dataframe tbody tr th:only-of-type {\n",
       "        vertical-align: middle;\n",
       "    }\n",
       "\n",
       "    .dataframe tbody tr th {\n",
       "        vertical-align: top;\n",
       "    }\n",
       "\n",
       "    .dataframe thead th {\n",
       "        text-align: right;\n",
       "    }\n",
       "</style>\n",
       "<table border=\"1\" class=\"dataframe\">\n",
       "  <thead>\n",
       "    <tr style=\"text-align: right;\">\n",
       "      <th></th>\n",
       "      <th>2009</th>\n",
       "      <th>2010</th>\n",
       "      <th>2011</th>\n",
       "      <th>2012</th>\n",
       "      <th>2013</th>\n",
       "      <th>2014</th>\n",
       "      <th>2015</th>\n",
       "      <th>2016</th>\n",
       "      <th>2017</th>\n",
       "      <th>2018</th>\n",
       "    </tr>\n",
       "  </thead>\n",
       "  <tbody>\n",
       "    <tr>\n",
       "      <td>count</td>\n",
       "      <td>238.000000</td>\n",
       "      <td>238.000000</td>\n",
       "      <td>238.000000</td>\n",
       "      <td>238.000000</td>\n",
       "      <td>238.000000</td>\n",
       "      <td>238.000000</td>\n",
       "      <td>238.000000</td>\n",
       "      <td>238.000000</td>\n",
       "      <td>238.000000</td>\n",
       "      <td>238.000000</td>\n",
       "    </tr>\n",
       "    <tr>\n",
       "      <td>mean</td>\n",
       "      <td>0.186513</td>\n",
       "      <td>4.586639</td>\n",
       "      <td>3.846807</td>\n",
       "      <td>3.989034</td>\n",
       "      <td>3.420924</td>\n",
       "      <td>3.302983</td>\n",
       "      <td>2.946134</td>\n",
       "      <td>2.895210</td>\n",
       "      <td>3.217311</td>\n",
       "      <td>3.026723</td>\n",
       "    </tr>\n",
       "    <tr>\n",
       "      <td>std</td>\n",
       "      <td>5.329424</td>\n",
       "      <td>4.124096</td>\n",
       "      <td>5.851729</td>\n",
       "      <td>8.546874</td>\n",
       "      <td>4.774273</td>\n",
       "      <td>4.309418</td>\n",
       "      <td>4.278670</td>\n",
       "      <td>3.722619</td>\n",
       "      <td>3.731060</td>\n",
       "      <td>3.133503</td>\n",
       "    </tr>\n",
       "    <tr>\n",
       "      <td>min</td>\n",
       "      <td>-17.530000</td>\n",
       "      <td>-8.920000</td>\n",
       "      <td>-62.080000</td>\n",
       "      <td>-7.300000</td>\n",
       "      <td>-36.390000</td>\n",
       "      <td>-25.910000</td>\n",
       "      <td>-21.590000</td>\n",
       "      <td>-17.040000</td>\n",
       "      <td>-15.670000</td>\n",
       "      <td>-19.620000</td>\n",
       "    </tr>\n",
       "    <tr>\n",
       "      <td>25%</td>\n",
       "      <td>-3.477500</td>\n",
       "      <td>2.102500</td>\n",
       "      <td>1.820000</td>\n",
       "      <td>1.262500</td>\n",
       "      <td>1.830000</td>\n",
       "      <td>1.715000</td>\n",
       "      <td>1.780000</td>\n",
       "      <td>1.587500</td>\n",
       "      <td>1.812500</td>\n",
       "      <td>1.932500</td>\n",
       "    </tr>\n",
       "    <tr>\n",
       "      <td>50%</td>\n",
       "      <td>0.550000</td>\n",
       "      <td>4.780000</td>\n",
       "      <td>4.135000</td>\n",
       "      <td>3.505000</td>\n",
       "      <td>3.475000</td>\n",
       "      <td>3.330000</td>\n",
       "      <td>3.080000</td>\n",
       "      <td>3.060000</td>\n",
       "      <td>3.400000</td>\n",
       "      <td>3.065000</td>\n",
       "    </tr>\n",
       "    <tr>\n",
       "      <td>75%</td>\n",
       "      <td>3.377500</td>\n",
       "      <td>6.862500</td>\n",
       "      <td>6.110000</td>\n",
       "      <td>5.365000</td>\n",
       "      <td>5.415000</td>\n",
       "      <td>5.055000</td>\n",
       "      <td>4.470000</td>\n",
       "      <td>4.497500</td>\n",
       "      <td>4.697500</td>\n",
       "      <td>4.597500</td>\n",
       "    </tr>\n",
       "    <tr>\n",
       "      <td>max</td>\n",
       "      <td>21.390000</td>\n",
       "      <td>25.260000</td>\n",
       "      <td>21.670000</td>\n",
       "      <td>123.140000</td>\n",
       "      <td>34.210000</td>\n",
       "      <td>36.520000</td>\n",
       "      <td>25.160000</td>\n",
       "      <td>28.310000</td>\n",
       "      <td>26.680000</td>\n",
       "      <td>8.610000</td>\n",
       "    </tr>\n",
       "  </tbody>\n",
       "</table>\n",
       "</div>"
      ],
      "text/plain": [
       "             2009        2010        2011        2012        2013        2014  \\\n",
       "count  238.000000  238.000000  238.000000  238.000000  238.000000  238.000000   \n",
       "mean     0.186513    4.586639    3.846807    3.989034    3.420924    3.302983   \n",
       "std      5.329424    4.124096    5.851729    8.546874    4.774273    4.309418   \n",
       "min    -17.530000   -8.920000  -62.080000   -7.300000  -36.390000  -25.910000   \n",
       "25%     -3.477500    2.102500    1.820000    1.262500    1.830000    1.715000   \n",
       "50%      0.550000    4.780000    4.135000    3.505000    3.475000    3.330000   \n",
       "75%      3.377500    6.862500    6.110000    5.365000    5.415000    5.055000   \n",
       "max     21.390000   25.260000   21.670000  123.140000   34.210000   36.520000   \n",
       "\n",
       "             2015        2016        2017        2018  \n",
       "count  238.000000  238.000000  238.000000  238.000000  \n",
       "mean     2.946134    2.895210    3.217311    3.026723  \n",
       "std      4.278670    3.722619    3.731060    3.133503  \n",
       "min    -21.590000  -17.040000  -15.670000  -19.620000  \n",
       "25%      1.780000    1.587500    1.812500    1.932500  \n",
       "50%      3.080000    3.060000    3.400000    3.065000  \n",
       "75%      4.470000    4.497500    4.697500    4.597500  \n",
       "max     25.160000   28.310000   26.680000    8.610000  "
      ]
     },
     "execution_count": 24,
     "metadata": {},
     "output_type": "execute_result"
    }
   ],
   "source": [
    "GDP_growth.describe()"
   ]
  },
  {
   "cell_type": "markdown",
   "metadata": {},
   "source": [
    "#### 2.2.2. Summary statistics:  \n",
    "* Mean GDP growth rate between 2011 and 2018 is between 2.8% and 4%.\n",
    "* The Mean GDP growth rate of 2009 is realy low, perhaps this is due to the 2008 economic crisis.\n",
    "* In 2010 we can see the highest mean GDP growth rate, which might be due to economic recovery after the 2008 economic crisis.\n",
    "* The standard deviations range between 3% and 8.6%."
   ]
  },
  {
   "cell_type": "code",
   "execution_count": 25,
   "metadata": {},
   "outputs": [
    {
     "name": "stdout",
     "output_type": "stream",
     "text": [
      "There is GDP Growth data for 238 countries.\n"
     ]
    }
   ],
   "source": [
    "print(\\\n",
    "'There is GDP Growth data for {} countries.'\\\n",
    "      .format(GDP_growth.shape[0])\n",
    "     )"
   ]
  },
  {
   "cell_type": "markdown",
   "metadata": {},
   "source": [
    "#### 2.2.3. GDP growth rate visualization:  \n",
    "To visualize the GDP growth rate data we will take three countries for example:\n",
    "1. China\n",
    "2. United States\n",
    "3. Israel"
   ]
  },
  {
   "cell_type": "code",
   "execution_count": 26,
   "metadata": {},
   "outputs": [],
   "source": [
    "# List of countries to visualize:\n",
    "country_graph1 = ['China', 'United States', 'Israel']\n",
    "\n",
    "# List of years:\n",
    "y1 = list(range(2009,2019))\n",
    "\n",
    "# Xs list to plot:\n",
    "Xs1 = []\n",
    "\n",
    "# Get example countries data and add to \"Xs1\":\n",
    "for country in country_graph1:\n",
    "    data = GDP_growth.loc[GDP_growth['Country'] == country].set_index('Country').transpose()\n",
    "    x = data[country]\n",
    "    Xs1.append(x)\n",
    "\n",
    "# Add the average GDP growth rate to the graph data:    \n",
    "country_graph1.append('Average')\n",
    "Xs1.append(mean_growth['Average'])"
   ]
  },
  {
   "cell_type": "code",
   "execution_count": 27,
   "metadata": {
    "scrolled": false
   },
   "outputs": [
    {
     "data": {
      "image/png": "[encoded data removed]",
      "text/plain": [
       "<Figure size 1152x576 with 1 Axes>"
      ]
     },
     "metadata": {
      "needs_background": "light"
     },
     "output_type": "display_data"
    }
   ],
   "source": [
    "# Set figure size:\n",
    "plt.figure(figsize = (16, 8))\n",
    "\n",
    "# Graph color list:\n",
    "graph_colors = ['r','b' ,'lightseagreen' ,'black']\n",
    "\n",
    "\n",
    "# Plot graphs:\n",
    "for i,x in enumerate(Xs1):\n",
    "    \n",
    "    # Plot each country:\n",
    "    if country_graph1[i] != 'Average':\n",
    "        plt.plot(y1,x,\n",
    "                 color = graph_colors[i],\n",
    "                 linewidth = 5,\n",
    "                 linestyle = '-')\n",
    "    \n",
    "    # Plot \"Average\":\n",
    "    else:\n",
    "        plt.plot(y1,x,\n",
    "                 color = graph_colors[i],\n",
    "                 linewidth = 5,\n",
    "                 linestyle = '-.')\n",
    "    \n",
    "# Graph title:\n",
    "plt.title('GDP Growth (Annual %) -  2009-2018\\n',\n",
    "          fontsize = 24,\n",
    "          fontweight = 'bold')\n",
    "\n",
    "# Change ticks font:\n",
    "plt.xticks(fontsize = 16, fontweight = 'bold')\n",
    "plt.yticks(fontsize = 16, fontweight = 'bold')\n",
    "\n",
    "# Add graph legend:\n",
    "plt.legend(country_graph1)  \n",
    "\n",
    "\n",
    "plt.show()"
   ]
  },
  {
   "cell_type": "markdown",
   "metadata": {},
   "source": [
    "#### 2.3. GDP Growth Rate:"
   ]
  },
  {
   "cell_type": "markdown",
   "metadata": {},
   "source": [
    "#### 2.3.1. Data Pre-processing:"
   ]
  },
  {
   "cell_type": "code",
   "execution_count": 28,
   "metadata": {
    "scrolled": true
   },
   "outputs": [
    {
     "data": {
      "text/html": [
       "<div>\n",
       "<style scoped>\n",
       "    .dataframe tbody tr th:only-of-type {\n",
       "        vertical-align: middle;\n",
       "    }\n",
       "\n",
       "    .dataframe tbody tr th {\n",
       "        vertical-align: top;\n",
       "    }\n",
       "\n",
       "    .dataframe thead th {\n",
       "        text-align: right;\n",
       "    }\n",
       "</style>\n",
       "<table border=\"1\" class=\"dataframe\">\n",
       "  <thead>\n",
       "    <tr style=\"text-align: right;\">\n",
       "      <th></th>\n",
       "      <th>Country</th>\n",
       "      <th>2009</th>\n",
       "      <th>2010</th>\n",
       "      <th>2011</th>\n",
       "      <th>2012</th>\n",
       "      <th>2013</th>\n",
       "      <th>2014</th>\n",
       "      <th>2015</th>\n",
       "      <th>2016</th>\n",
       "      <th>2017</th>\n",
       "      <th>2018</th>\n",
       "    </tr>\n",
       "  </thead>\n",
       "  <tbody>\n",
       "    <tr>\n",
       "      <td>0</td>\n",
       "      <td>Afghanistan</td>\n",
       "      <td>438</td>\n",
       "      <td>543</td>\n",
       "      <td>591</td>\n",
       "      <td>642</td>\n",
       "      <td>637</td>\n",
       "      <td>614</td>\n",
       "      <td>578</td>\n",
       "      <td>547</td>\n",
       "      <td>556</td>\n",
       "      <td>521</td>\n",
       "    </tr>\n",
       "    <tr>\n",
       "      <td>1</td>\n",
       "      <td>Albania</td>\n",
       "      <td>4114</td>\n",
       "      <td>4094</td>\n",
       "      <td>4437</td>\n",
       "      <td>4248</td>\n",
       "      <td>4413</td>\n",
       "      <td>4579</td>\n",
       "      <td>3953</td>\n",
       "      <td>4124</td>\n",
       "      <td>4533</td>\n",
       "      <td>5269</td>\n",
       "    </tr>\n",
       "    <tr>\n",
       "      <td>2</td>\n",
       "      <td>Algeria</td>\n",
       "      <td>3883</td>\n",
       "      <td>4481</td>\n",
       "      <td>5456</td>\n",
       "      <td>5592</td>\n",
       "      <td>5500</td>\n",
       "      <td>5493</td>\n",
       "      <td>4178</td>\n",
       "      <td>3946</td>\n",
       "      <td>4044</td>\n",
       "      <td>4115</td>\n",
       "    </tr>\n",
       "    <tr>\n",
       "      <td>3</td>\n",
       "      <td>American Samoa</td>\n",
       "      <td>11961</td>\n",
       "      <td>10271</td>\n",
       "      <td>10294</td>\n",
       "      <td>11569</td>\n",
       "      <td>11505</td>\n",
       "      <td>11507</td>\n",
       "      <td>11843</td>\n",
       "      <td>11697</td>\n",
       "      <td>10823</td>\n",
       "      <td>11467</td>\n",
       "    </tr>\n",
       "    <tr>\n",
       "      <td>4</td>\n",
       "      <td>Andorra</td>\n",
       "      <td>43339</td>\n",
       "      <td>39736</td>\n",
       "      <td>41101</td>\n",
       "      <td>38393</td>\n",
       "      <td>40627</td>\n",
       "      <td>42300</td>\n",
       "      <td>36040</td>\n",
       "      <td>37224</td>\n",
       "      <td>39134</td>\n",
       "      <td>42030</td>\n",
       "    </tr>\n",
       "  </tbody>\n",
       "</table>\n",
       "</div>"
      ],
      "text/plain": [
       "          Country   2009   2010   2011   2012   2013   2014   2015   2016  \\\n",
       "0     Afghanistan    438    543    591    642    637    614    578    547   \n",
       "1         Albania   4114   4094   4437   4248   4413   4579   3953   4124   \n",
       "2         Algeria   3883   4481   5456   5592   5500   5493   4178   3946   \n",
       "3  American Samoa  11961  10271  10294  11569  11505  11507  11843  11697   \n",
       "4         Andorra  43339  39736  41101  38393  40627  42300  36040  37224   \n",
       "\n",
       "    2017   2018  \n",
       "0    556    521  \n",
       "1   4533   5269  \n",
       "2   4044   4115  \n",
       "3  10823  11467  \n",
       "4  39134  42030  "
      ]
     },
     "execution_count": 28,
     "metadata": {},
     "output_type": "execute_result"
    }
   ],
   "source": [
    "# Create new \"GDP per capita\" dataframe:\n",
    "GDP_capita = GDP_processed.copy()\n",
    "\n",
    "# Keep GDP per capita values only:\n",
    "GDP_capita = GDP_capita[GDP_capita['Series Name'] == GDP_indicators[1]]\n",
    "\n",
    "# Remove unnecessary columns and reset index:\n",
    "GDP_capita = GDP_capita.drop('Series Name', axis = 1)\n",
    "GDP_capita.reset_index(drop = True, inplace = True)\n",
    "\n",
    "\n",
    "# Change values' type to int64 and round values:\n",
    "for i in range(len(col_list)):\n",
    "    try:\n",
    "        GDP_capita = GDP_capita.astype({col_list[i]: 'float64'}).round().astype({col_list[i]: 'int64'})\n",
    "    \n",
    "    except:\n",
    "        continue\n",
    "        \n",
    "        \n",
    "# Crate a list of mean values of each column:\n",
    "mean_GDP_capita = pd.DataFrame(data = GDP_capita.mean(axis = 0).round(2))\n",
    "mean_GDP_capita.reset_index(inplace = True)\n",
    "mean_GDP_capita.rename(columns = {'index':'Year', 0:'Average'}, inplace = True)\n",
    "\n",
    "# Remove null values\n",
    "GDP_capita.dropna(axis = 0, inplace = True)\n",
    "\n",
    "\n",
    "GDP_capita.head()"
   ]
  },
  {
   "cell_type": "code",
   "execution_count": 29,
   "metadata": {
    "scrolled": true
   },
   "outputs": [
    {
     "data": {
      "text/html": [
       "<div>\n",
       "<style scoped>\n",
       "    .dataframe tbody tr th:only-of-type {\n",
       "        vertical-align: middle;\n",
       "    }\n",
       "\n",
       "    .dataframe tbody tr th {\n",
       "        vertical-align: top;\n",
       "    }\n",
       "\n",
       "    .dataframe thead th {\n",
       "        text-align: right;\n",
       "    }\n",
       "</style>\n",
       "<table border=\"1\" class=\"dataframe\">\n",
       "  <thead>\n",
       "    <tr style=\"text-align: right;\">\n",
       "      <th></th>\n",
       "      <th>2009</th>\n",
       "      <th>2010</th>\n",
       "      <th>2011</th>\n",
       "      <th>2012</th>\n",
       "      <th>2013</th>\n",
       "      <th>2014</th>\n",
       "      <th>2015</th>\n",
       "      <th>2016</th>\n",
       "      <th>2017</th>\n",
       "      <th>2018</th>\n",
       "    </tr>\n",
       "  </thead>\n",
       "  <tbody>\n",
       "    <tr>\n",
       "      <td>count</td>\n",
       "      <td>237.000000</td>\n",
       "      <td>237.000000</td>\n",
       "      <td>237.000000</td>\n",
       "      <td>237.000000</td>\n",
       "      <td>237.000000</td>\n",
       "      <td>237.00000</td>\n",
       "      <td>237.000000</td>\n",
       "      <td>237.000000</td>\n",
       "      <td>237.000000</td>\n",
       "      <td>237.000000</td>\n",
       "    </tr>\n",
       "    <tr>\n",
       "      <td>mean</td>\n",
       "      <td>12247.375527</td>\n",
       "      <td>12942.430380</td>\n",
       "      <td>14387.291139</td>\n",
       "      <td>14329.502110</td>\n",
       "      <td>14833.160338</td>\n",
       "      <td>15040.56962</td>\n",
       "      <td>13477.215190</td>\n",
       "      <td>13526.953586</td>\n",
       "      <td>14261.354430</td>\n",
       "      <td>15160.578059</td>\n",
       "    </tr>\n",
       "    <tr>\n",
       "      <td>std</td>\n",
       "      <td>18679.442065</td>\n",
       "      <td>19137.978077</td>\n",
       "      <td>21451.619280</td>\n",
       "      <td>20841.085285</td>\n",
       "      <td>21979.397909</td>\n",
       "      <td>22515.24579</td>\n",
       "      <td>19760.102206</td>\n",
       "      <td>19966.260962</td>\n",
       "      <td>20658.509389</td>\n",
       "      <td>22293.576604</td>\n",
       "    </tr>\n",
       "    <tr>\n",
       "      <td>min</td>\n",
       "      <td>212.000000</td>\n",
       "      <td>234.000000</td>\n",
       "      <td>250.000000</td>\n",
       "      <td>252.000000</td>\n",
       "      <td>257.000000</td>\n",
       "      <td>275.00000</td>\n",
       "      <td>306.000000</td>\n",
       "      <td>282.000000</td>\n",
       "      <td>293.000000</td>\n",
       "      <td>272.000000</td>\n",
       "    </tr>\n",
       "    <tr>\n",
       "      <td>25%</td>\n",
       "      <td>1349.000000</td>\n",
       "      <td>1553.000000</td>\n",
       "      <td>1738.000000</td>\n",
       "      <td>1820.000000</td>\n",
       "      <td>1966.000000</td>\n",
       "      <td>2030.00000</td>\n",
       "      <td>1996.000000</td>\n",
       "      <td>2049.000000</td>\n",
       "      <td>2001.000000</td>\n",
       "      <td>2036.000000</td>\n",
       "    </tr>\n",
       "    <tr>\n",
       "      <td>50%</td>\n",
       "      <td>4316.000000</td>\n",
       "      <td>4921.000000</td>\n",
       "      <td>5650.000000</td>\n",
       "      <td>6110.000000</td>\n",
       "      <td>6640.000000</td>\n",
       "      <td>6467.00000</td>\n",
       "      <td>5840.000000</td>\n",
       "      <td>5651.000000</td>\n",
       "      <td>6132.000000</td>\n",
       "      <td>6385.000000</td>\n",
       "    </tr>\n",
       "    <tr>\n",
       "      <td>75%</td>\n",
       "      <td>14514.000000</td>\n",
       "      <td>13924.000000</td>\n",
       "      <td>14637.000000</td>\n",
       "      <td>15435.000000</td>\n",
       "      <td>16007.000000</td>\n",
       "      <td>16489.00000</td>\n",
       "      <td>15614.000000</td>\n",
       "      <td>15198.000000</td>\n",
       "      <td>16078.000000</td>\n",
       "      <td>17130.000000</td>\n",
       "    </tr>\n",
       "    <tr>\n",
       "      <td>max</td>\n",
       "      <td>154762.000000</td>\n",
       "      <td>150585.000000</td>\n",
       "      <td>168786.000000</td>\n",
       "      <td>157516.000000</td>\n",
       "      <td>177593.000000</td>\n",
       "      <td>189171.00000</td>\n",
       "      <td>165938.000000</td>\n",
       "      <td>169916.000000</td>\n",
       "      <td>167102.000000</td>\n",
       "      <td>185741.000000</td>\n",
       "    </tr>\n",
       "  </tbody>\n",
       "</table>\n",
       "</div>"
      ],
      "text/plain": [
       "                2009           2010           2011           2012  \\\n",
       "count     237.000000     237.000000     237.000000     237.000000   \n",
       "mean    12247.375527   12942.430380   14387.291139   14329.502110   \n",
       "std     18679.442065   19137.978077   21451.619280   20841.085285   \n",
       "min       212.000000     234.000000     250.000000     252.000000   \n",
       "25%      1349.000000    1553.000000    1738.000000    1820.000000   \n",
       "50%      4316.000000    4921.000000    5650.000000    6110.000000   \n",
       "75%     14514.000000   13924.000000   14637.000000   15435.000000   \n",
       "max    154762.000000  150585.000000  168786.000000  157516.000000   \n",
       "\n",
       "                2013          2014           2015           2016  \\\n",
       "count     237.000000     237.00000     237.000000     237.000000   \n",
       "mean    14833.160338   15040.56962   13477.215190   13526.953586   \n",
       "std     21979.397909   22515.24579   19760.102206   19966.260962   \n",
       "min       257.000000     275.00000     306.000000     282.000000   \n",
       "25%      1966.000000    2030.00000    1996.000000    2049.000000   \n",
       "50%      6640.000000    6467.00000    5840.000000    5651.000000   \n",
       "75%     16007.000000   16489.00000   15614.000000   15198.000000   \n",
       "max    177593.000000  189171.00000  165938.000000  169916.000000   \n",
       "\n",
       "                2017           2018  \n",
       "count     237.000000     237.000000  \n",
       "mean    14261.354430   15160.578059  \n",
       "std     20658.509389   22293.576604  \n",
       "min       293.000000     272.000000  \n",
       "25%      2001.000000    2036.000000  \n",
       "50%      6132.000000    6385.000000  \n",
       "75%     16078.000000   17130.000000  \n",
       "max    167102.000000  185741.000000  "
      ]
     },
     "execution_count": 29,
     "metadata": {},
     "output_type": "execute_result"
    }
   ],
   "source": [
    "GDP_capita.describe()"
   ]
  },
  {
   "cell_type": "markdown",
   "metadata": {},
   "source": [
    "#### 2.3.2. Summary statistics:  \n",
    "* From the minimum and maxium values of each year we can learn that there is a greate variation between countreis' GDP per capita.\n",
    "* The mean GDP per capita does not vary much between each year.\n",
    "* Regarding the standard deviations, we can see that they change between years but there is no trend."
   ]
  },
  {
   "cell_type": "code",
   "execution_count": 30,
   "metadata": {},
   "outputs": [
    {
     "name": "stdout",
     "output_type": "stream",
     "text": [
      "There is GDP/Capita data for 237 countries.\n"
     ]
    }
   ],
   "source": [
    "print(\\\n",
    "'There is GDP/Capita data for {} countries.'\\\n",
    "      .format(GDP_capita.shape[0])\n",
    "     )"
   ]
  },
  {
   "cell_type": "markdown",
   "metadata": {},
   "source": [
    "#### 2.2.3. GDP per capita visualization:  \n",
    "To visualize the GDP per capita rate data we will take three countries for example:\n",
    "1. China\n",
    "2. United States\n",
    "3. Israel"
   ]
  },
  {
   "cell_type": "code",
   "execution_count": 31,
   "metadata": {},
   "outputs": [],
   "source": [
    "# List of countries to visualize:\n",
    "country_graph2 = ['China', 'United States', 'Israel']\n",
    "\n",
    "# List of years:\n",
    "y2 = list(range(2009,2019))\n",
    "\n",
    "# Xs list to plot:\n",
    "Xs2 = []\n",
    "\n",
    "# Get example countries data and add to \"Xs2\":\n",
    "for country in country_graph2:\n",
    "    data = GDP_capita.loc[GDP_capita['Country'] == country].set_index('Country').transpose()\n",
    "    x = data[country]\n",
    "    Xs2.append(x)\n",
    "    \n",
    "# Add the average GDP per capita to the graph data:    \n",
    "country_graph2.append('Average')\n",
    "Xs2.append(mean_GDP_capita['Average'])"
   ]
  },
  {
   "cell_type": "code",
   "execution_count": 32,
   "metadata": {},
   "outputs": [
    {
     "data": {
      "image/png": "[encoded data removed]",
      "text/plain": [
       "<Figure size 1152x576 with 1 Axes>"
      ]
     },
     "metadata": {
      "needs_background": "light"
     },
     "output_type": "display_data"
    }
   ],
   "source": [
    "# Set figure size:\n",
    "plt.figure(figsize = (16, 8))\n",
    "\n",
    "# Graph color list:\n",
    "graph_colors = ['r','b' ,'lightseagreen' ,'black']\n",
    "\n",
    "# Plot graphs:\n",
    "for i,x in enumerate(Xs2):\n",
    "    \n",
    "    # Plot each country:\n",
    "    if country_graph2[i] != 'Average':\n",
    "        plt.plot(y2,x,\n",
    "                 color = graph_colors[i],\n",
    "                 linewidth = 5,\n",
    "                 linestyle = '-')\n",
    "    \n",
    "    # Plot \"Average\":\n",
    "    else:\n",
    "        plt.plot(y2,x,\n",
    "                 color = graph_colors[i],\n",
    "                 linewidth = 5,\n",
    "                 linestyle = '-.')\n",
    "        \n",
    "# Graph title:\n",
    "plt.title('GDP Growth (Annual %) -  2009-2018\\n',\n",
    "          fontsize = 24,\n",
    "          fontweight = 'bold')\n",
    "\n",
    "# Change ticks font:\n",
    "plt.xticks(fontsize = 16, fontweight = 'bold')\n",
    "plt.yticks(fontsize = 16, fontweight = 'bold')\n",
    "\n",
    "\n",
    "# Add graph legend:\n",
    "plt.legend(country_graph2)\n",
    "\n",
    "\n",
    "plt.show()"
   ]
  },
  {
   "cell_type": "markdown",
   "metadata": {},
   "source": [
    "### 3. Summary:"
   ]
  },
  {
   "cell_type": "markdown",
   "metadata": {},
   "source": [
    "Overall, in this notebook we:\n",
    "1. We have pre-processed three dataframe:  \n",
    "    1) *__doing_business__*  \n",
    "    2) *__GDP_growth__*  \n",
    "    3) *__GDP_capita__* \n",
    "2. We used some simple graphs to visualize some of the data."
   ]
  },
  {
   "cell_type": "code",
   "execution_count": 33,
   "metadata": {
    "scrolled": true
   },
   "outputs": [
    {
     "name": "stdout",
     "output_type": "stream",
     "text": [
      "There are three dataframes to combine:\n",
      "  1) \"doing_business\" - total of 191 countries\n",
      "  2) \"GDP_growth\"     - total of 238 countries\n",
      "  3) \"GDP_capita\"     - total of 237 countreis\n"
     ]
    }
   ],
   "source": [
    "# Print a report of the three dataframes in this notebook:\n",
    "print(\\\n",
    "'There are three dataframes to combine:\\n\\\n",
    "  1) \"doing_business\" - total of {} countries\\n\\\n",
    "  2) \"GDP_growth\"     - total of {} countries\\n\\\n",
    "  3) \"GDP_capita\"     - total of {} countreis'\\\n",
    ".format(doing_business.shape[0], GDP_growth.shape[0], GDP_capita.shape[0])\n",
    "     )"
   ]
  },
  {
   "cell_type": "markdown",
   "metadata": {},
   "source": [
    "Let's join between *__doing_business__* and *__GDP_growth__* and for future analysis."
   ]
  },
  {
   "cell_type": "code",
   "execution_count": 34,
   "metadata": {},
   "outputs": [],
   "source": [
    "# Join \"doing_business\" and \"GDP_growth\":\n",
    "growth_db = doing_business.merge(GDP_growth, left_on = 'Country', right_on = 'Country')"
   ]
  },
  {
   "cell_type": "markdown",
   "metadata": {},
   "source": [
    "Let's export the a csv of *__growth_db__* file for future snalysis."
   ]
  },
  {
   "cell_type": "code",
   "execution_count": 35,
   "metadata": {},
   "outputs": [],
   "source": [
    "growth_db.to_csv(r'GDP_Growth_DB.csv')"
   ]
  },
  {
   "cell_type": "markdown",
   "metadata": {},
   "source": [
    "Let's join between *__doing_business__* and *__GDP_capita__* and for future analysis."
   ]
  },
  {
   "cell_type": "code",
   "execution_count": 36,
   "metadata": {
    "scrolled": true
   },
   "outputs": [],
   "source": [
    "# Join \"doing_business\" and \"GDP_capita\":\n",
    "GDP_capita_db = doing_business.merge(GDP_capita, left_on = 'Country', right_on = 'Country')"
   ]
  },
  {
   "cell_type": "markdown",
   "metadata": {},
   "source": [
    "Let's export the a csv of *__GDP_capita_db__* file for future snalysis."
   ]
  },
  {
   "cell_type": "code",
   "execution_count": 37,
   "metadata": {},
   "outputs": [],
   "source": [
    "GDP_capita_db.to_csv(r'GDP_Capita_DB.csv')"
   ]
  },
  {
   "cell_type": "markdown",
   "metadata": {},
   "source": [
    "__Thank you for taking your time to read through this!__"
   ]
  },
  {
   "cell_type": "markdown",
   "metadata": {},
   "source": [
    "## 4. References"
   ]
  },
  {
   "cell_type": "markdown",
   "metadata": {},
   "source": [
    "World Bank, Doing Business. (n.d.-a). *Doing Business Indicators [Data file]*. Retrieved from The World Bank: https://databank.worldbank.org/source/doing-business"
   ]
  },
  {
   "cell_type": "markdown",
   "metadata": {},
   "source": [
    "World Bank, World Development Indicators. (n.d.-b). *GDP per capita (current US$) [Data File]*. Retrieved December 28, 2019, from The World Bank: https://databank.worldbank.org/source/world-development-indicators"
   ]
  }
 ],
 "metadata": {
  "kernelspec": {
   "display_name": "Python 3",
   "language": "python",
   "name": "python3"
  },
  "language_info": {
   "codemirror_mode": {
    "name": "ipython",
    "version": 3
   },
   "file_extension": ".py",
   "mimetype": "text/x-python",
   "name": "python",
   "nbconvert_exporter": "python",
   "pygments_lexer": "ipython3",
   "version": "3.7.4"
  }
 },
 "nbformat": 4,
 "nbformat_minor": 4
}
