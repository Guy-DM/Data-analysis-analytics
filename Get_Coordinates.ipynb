{
 "cells": [
  {
   "cell_type": "markdown",
   "metadata": {},
   "source": [
    "# Get Coordinates - Using Nominatim"
   ]
  },
  {
   "cell_type": "markdown",
   "metadata": {},
   "source": [
    "### Content:\n",
    "1. Introduction\n",
    "2. Get capital cities' coordinates\n",
    "3. Data preparation for cluster analysis\n",
    "4. Summary\n",
    "5. References"
   ]
  },
  {
   "cell_type": "markdown",
   "metadata": {},
   "source": [
    "### 1. Introduction:"
   ]
  },
  {
   "cell_type": "markdown",
   "metadata": {},
   "source": [
    "### Library installation and import preparation:"
   ]
  },
  {
   "cell_type": "code",
   "execution_count": 1,
   "metadata": {},
   "outputs": [],
   "source": [
    "import pandas as pd # library for data analsysis\n",
    "import numpy as np # library to handle data in a vectorized manner\n",
    "import folium # Import folium to visualize the data on a map\n",
    "import time\n",
    "\n",
    "from geopy.geocoders import Nominatim # Module to convert an address into latitude and longitude values"
   ]
  },
  {
   "cell_type": "markdown",
   "metadata": {},
   "source": [
    "### 2. Get capital cities' coordinates:"
   ]
  },
  {
   "cell_type": "code",
   "execution_count": 2,
   "metadata": {
    "scrolled": true
   },
   "outputs": [
    {
     "data": {
      "text/html": [
       "<div>\n",
       "<style scoped>\n",
       "    .dataframe tbody tr th:only-of-type {\n",
       "        vertical-align: middle;\n",
       "    }\n",
       "\n",
       "    .dataframe tbody tr th {\n",
       "        vertical-align: top;\n",
       "    }\n",
       "\n",
       "    .dataframe thead th {\n",
       "        text-align: right;\n",
       "    }\n",
       "</style>\n",
       "<table border=\"1\" class=\"dataframe\">\n",
       "  <thead>\n",
       "    <tr style=\"text-align: right;\">\n",
       "      <th></th>\n",
       "      <th>Country</th>\n",
       "      <th>Capital City</th>\n",
       "    </tr>\n",
       "  </thead>\n",
       "  <tbody>\n",
       "    <tr>\n",
       "      <td>0</td>\n",
       "      <td>Abkhazia</td>\n",
       "      <td>Sukhumi</td>\n",
       "    </tr>\n",
       "    <tr>\n",
       "      <td>1</td>\n",
       "      <td>Afghanistan</td>\n",
       "      <td>Kabul</td>\n",
       "    </tr>\n",
       "    <tr>\n",
       "      <td>2</td>\n",
       "      <td>Akrotiri and Dhekelia</td>\n",
       "      <td>Episkopi Cantonment</td>\n",
       "    </tr>\n",
       "    <tr>\n",
       "      <td>3</td>\n",
       "      <td>Albania</td>\n",
       "      <td>Tirana</td>\n",
       "    </tr>\n",
       "    <tr>\n",
       "      <td>4</td>\n",
       "      <td>Algeria</td>\n",
       "      <td>Algiers</td>\n",
       "    </tr>\n",
       "  </tbody>\n",
       "</table>\n",
       "</div>"
      ],
      "text/plain": [
       "                 Country         Capital City\n",
       "0               Abkhazia              Sukhumi\n",
       "1            Afghanistan                Kabul\n",
       "2  Akrotiri and Dhekelia  Episkopi Cantonment\n",
       "3                Albania               Tirana\n",
       "4                Algeria              Algiers"
      ]
     },
     "execution_count": 2,
     "metadata": {},
     "output_type": "execute_result"
    }
   ],
   "source": [
    "# Load \"Capital_Cities.csv\" data:\n",
    "capital_raw = pd.read_csv('Capital_Cities.csv')\n",
    "\n",
    "capital_raw.head()"
   ]
  },
  {
   "cell_type": "markdown",
   "metadata": {},
   "source": [
    "#### 2.1. *get_loc_coords()* function:  \n",
    "This function will make it easier to get coordinates for the cities in our dataframe.  \n",
    "The return value of this function is a tuple with a single city's latitude and longitude values."
   ]
  },
  {
   "cell_type": "code",
   "execution_count": 3,
   "metadata": {},
   "outputs": [],
   "source": [
    "# This function will return the coordinates of the point of intrest\n",
    "def get_loc_coords (city, country):\n",
    "    \n",
    "    '''\n",
    "    Takes a city's name and its country and uses Nominatim to get its coordinates.\n",
    "    '''\n",
    "    \n",
    "    # Set the search variable - \"City\" + \"Country\":\n",
    "    address = city + ', ' + country\n",
    "    \n",
    "    # Get coordinates of \"address\":\n",
    "    geolocator = Nominatim(user_agent = 'coordinate_finder')\n",
    "    location = geolocator.geocode(address)\n",
    "    \n",
    "    # Assign variables for latitude and longitude:\n",
    "    lat = location.latitude\n",
    "    lon = location.longitude\n",
    "    \n",
    "    return (lat, lon)"
   ]
  },
  {
   "cell_type": "markdown",
   "metadata": {},
   "source": [
    "#### 2.2. *add_city_coords()* function:  \n",
    "This function leverages the *__get_loc_coords()__* to add coordinates to all location within a dataframe.  \n",
    "The *__add_city_coords()__* function takes a dataframe, a country column name and a city column name, then returns that dataframe including coordinates for each city."
   ]
  },
  {
   "cell_type": "code",
   "execution_count": 5,
   "metadata": {},
   "outputs": [],
   "source": [
    "def add_city_coords (dataframe, country_colname, city_colname):\n",
    "    \n",
    "    \"\"\"\n",
    "    Takes a dataframe, country column name and a city column name,\n",
    "    and adds each city's coordinates to the dataframe.\n",
    "    \"\"\"\n",
    "    \n",
    "    # A list to store coordinates:\n",
    "    coordinates_list = []\n",
    "    \n",
    "    # Call the \"get_loc_coords()\" function for each city in the dataframe:\n",
    "    for i in range (len(dataframe)):\n",
    "        \n",
    "        # Use \"try\" incase of error due to city/country name rejection:\n",
    "        try:\n",
    "            coordinates_list.append(get_loc_coords(dataframe[city_colname][i],dataframe[country_colname][i]))\n",
    "            \n",
    "        except:\n",
    "            coordinates_list.append((np.NaN, np.NaN))\n",
    "            \n",
    "        time.sleep(1)\n",
    "\n",
    "    \n",
    "    # Add coordinates_list to the dataframe:\n",
    "    coordinates = pd.DataFrame(coordinates_list)\n",
    "    dataframe['City Latitude'] = coordinates[0]\n",
    "    dataframe['City Longitude'] = coordinates[1]\n",
    "    \n",
    "    return dataframe"
   ]
  },
  {
   "cell_type": "markdown",
   "metadata": {},
   "source": [
    "#### 2.3. Add city coordinates to the dataframe:"
   ]
  },
  {
   "cell_type": "code",
   "execution_count": 6,
   "metadata": {},
   "outputs": [],
   "source": [
    "# Create new \"Capital Coordinates\" dataframe:\n",
    "capital_coordinates = capital_raw.copy()\n",
    "\n",
    "# Set column names variables for \"add_city_coords\" function:\n",
    "country_colname = 'Country'\n",
    "city_colname = 'Capital City'"
   ]
  },
  {
   "cell_type": "markdown",
   "metadata": {},
   "source": [
    "We will now call *__add_city_coords()__* on our dataframe."
   ]
  },
  {
   "cell_type": "code",
   "execution_count": 7,
   "metadata": {},
   "outputs": [],
   "source": [
    "capital_coordinates = add_city_coords(capital_coordinates, country_colname, city_colname)"
   ]
  },
  {
   "cell_type": "code",
   "execution_count": 8,
   "metadata": {
    "scrolled": false
   },
   "outputs": [
    {
     "data": {
      "text/html": [
       "<div>\n",
       "<style scoped>\n",
       "    .dataframe tbody tr th:only-of-type {\n",
       "        vertical-align: middle;\n",
       "    }\n",
       "\n",
       "    .dataframe tbody tr th {\n",
       "        vertical-align: top;\n",
       "    }\n",
       "\n",
       "    .dataframe thead th {\n",
       "        text-align: right;\n",
       "    }\n",
       "</style>\n",
       "<table border=\"1\" class=\"dataframe\">\n",
       "  <thead>\n",
       "    <tr style=\"text-align: right;\">\n",
       "      <th></th>\n",
       "      <th>Country</th>\n",
       "      <th>Capital City</th>\n",
       "      <th>City Latitude</th>\n",
       "      <th>City Longitude</th>\n",
       "    </tr>\n",
       "  </thead>\n",
       "  <tbody>\n",
       "    <tr>\n",
       "      <td>0</td>\n",
       "      <td>Abkhazia</td>\n",
       "      <td>Sukhumi</td>\n",
       "      <td>43.003363</td>\n",
       "      <td>41.019274</td>\n",
       "    </tr>\n",
       "    <tr>\n",
       "      <td>1</td>\n",
       "      <td>Afghanistan</td>\n",
       "      <td>Kabul</td>\n",
       "      <td>34.526013</td>\n",
       "      <td>69.177648</td>\n",
       "    </tr>\n",
       "    <tr>\n",
       "      <td>2</td>\n",
       "      <td>Akrotiri and Dhekelia</td>\n",
       "      <td>Episkopi Cantonment</td>\n",
       "      <td>34.670434</td>\n",
       "      <td>32.901855</td>\n",
       "    </tr>\n",
       "    <tr>\n",
       "      <td>3</td>\n",
       "      <td>Albania</td>\n",
       "      <td>Tirana</td>\n",
       "      <td>41.315886</td>\n",
       "      <td>19.900912</td>\n",
       "    </tr>\n",
       "    <tr>\n",
       "      <td>4</td>\n",
       "      <td>Algeria</td>\n",
       "      <td>Algiers</td>\n",
       "      <td>36.775361</td>\n",
       "      <td>3.060188</td>\n",
       "    </tr>\n",
       "  </tbody>\n",
       "</table>\n",
       "</div>"
      ],
      "text/plain": [
       "                 Country         Capital City  City Latitude  City Longitude\n",
       "0               Abkhazia              Sukhumi      43.003363       41.019274\n",
       "1            Afghanistan                Kabul      34.526013       69.177648\n",
       "2  Akrotiri and Dhekelia  Episkopi Cantonment      34.670434       32.901855\n",
       "3                Albania               Tirana      41.315886       19.900912\n",
       "4                Algeria              Algiers      36.775361        3.060188"
      ]
     },
     "execution_count": 8,
     "metadata": {},
     "output_type": "execute_result"
    }
   ],
   "source": [
    "capital_coordinates.dropna(inplace = True)\n",
    "capital_coordinates.head()"
   ]
  },
  {
   "cell_type": "markdown",
   "metadata": {},
   "source": [
    "Let's export the *__capital_coordinates__* dataframe as a csv file for future snalysis."
   ]
  },
  {
   "cell_type": "code",
   "execution_count": 17,
   "metadata": {},
   "outputs": [],
   "source": [
    "capital_coordinates.to_csv(r'Capital_Coordinates.csv', index = False)"
   ]
  },
  {
   "cell_type": "markdown",
   "metadata": {},
   "source": [
    "### 3. Data preparation for cluster analysis:"
   ]
  },
  {
   "cell_type": "markdown",
   "metadata": {},
   "source": [
    "#### 3.1. Setting up the dataframe:\n",
    "In the cluster alalysis we will do in the future we will focus on three regions:  \n",
    "* Europe \n",
    "* Latin America & Caribbean  \n",
    "* North America"
   ]
  },
  {
   "cell_type": "markdown",
   "metadata": {},
   "source": [
    "For this reason we will now create a dataframe of capital cities from these three regions and their coordinates."
   ]
  },
  {
   "cell_type": "markdown",
   "metadata": {},
   "source": [
    "First lets load our regions data."
   ]
  },
  {
   "cell_type": "code",
   "execution_count": 10,
   "metadata": {
    "scrolled": false
   },
   "outputs": [
    {
     "data": {
      "text/html": [
       "<div>\n",
       "<style scoped>\n",
       "    .dataframe tbody tr th:only-of-type {\n",
       "        vertical-align: middle;\n",
       "    }\n",
       "\n",
       "    .dataframe tbody tr th {\n",
       "        vertical-align: top;\n",
       "    }\n",
       "\n",
       "    .dataframe thead th {\n",
       "        text-align: right;\n",
       "    }\n",
       "</style>\n",
       "<table border=\"1\" class=\"dataframe\">\n",
       "  <thead>\n",
       "    <tr style=\"text-align: right;\">\n",
       "      <th></th>\n",
       "      <th>Country</th>\n",
       "      <th>Region</th>\n",
       "    </tr>\n",
       "  </thead>\n",
       "  <tbody>\n",
       "    <tr>\n",
       "      <td>0</td>\n",
       "      <td>Afghanistan</td>\n",
       "      <td>South Asia</td>\n",
       "    </tr>\n",
       "    <tr>\n",
       "      <td>1</td>\n",
       "      <td>Albania</td>\n",
       "      <td>Europe &amp; Central Asia</td>\n",
       "    </tr>\n",
       "    <tr>\n",
       "      <td>2</td>\n",
       "      <td>Algeria</td>\n",
       "      <td>Middle East &amp; North Africa</td>\n",
       "    </tr>\n",
       "    <tr>\n",
       "      <td>3</td>\n",
       "      <td>Angola</td>\n",
       "      <td>Sub-Saharan Africa</td>\n",
       "    </tr>\n",
       "    <tr>\n",
       "      <td>4</td>\n",
       "      <td>Antigua and Barbuda</td>\n",
       "      <td>Latin America &amp; Caribbean</td>\n",
       "    </tr>\n",
       "  </tbody>\n",
       "</table>\n",
       "</div>"
      ],
      "text/plain": [
       "               Country                      Region\n",
       "0          Afghanistan                  South Asia\n",
       "1              Albania       Europe & Central Asia\n",
       "2              Algeria  Middle East & North Africa\n",
       "3               Angola          Sub-Saharan Africa\n",
       "4  Antigua and Barbuda   Latin America & Caribbean"
      ]
     },
     "execution_count": 10,
     "metadata": {},
     "output_type": "execute_result"
    }
   ],
   "source": [
    "# Load \"Country_Region_DB.csv\" data:\n",
    "regions = pd.read_csv('Country_Region_DB.csv')\n",
    "\n",
    "regions.head()"
   ]
  },
  {
   "cell_type": "code",
   "execution_count": 11,
   "metadata": {},
   "outputs": [
    {
     "name": "stdout",
     "output_type": "stream",
     "text": [
      "There are 238 rows in \"capital_coordinates\" and 191 rows in \"region\"\n"
     ]
    }
   ],
   "source": [
    "print(\\\n",
    "      'There are {} rows in \"capital_coordinates\" and {} rows in \"region\"'\\\n",
    "      .format(capital_coordinates.shape[0], regions.shape[0])\\\n",
    "     )"
   ]
  },
  {
   "cell_type": "markdown",
   "metadata": {},
   "source": [
    "Now join between *__capital_coordinates__* and *__regions__*."
   ]
  },
  {
   "cell_type": "code",
   "execution_count": 12,
   "metadata": {},
   "outputs": [
    {
     "data": {
      "text/html": [
       "<div>\n",
       "<style scoped>\n",
       "    .dataframe tbody tr th:only-of-type {\n",
       "        vertical-align: middle;\n",
       "    }\n",
       "\n",
       "    .dataframe tbody tr th {\n",
       "        vertical-align: top;\n",
       "    }\n",
       "\n",
       "    .dataframe thead th {\n",
       "        text-align: right;\n",
       "    }\n",
       "</style>\n",
       "<table border=\"1\" class=\"dataframe\">\n",
       "  <thead>\n",
       "    <tr style=\"text-align: right;\">\n",
       "      <th></th>\n",
       "      <th>Country</th>\n",
       "      <th>Capital City</th>\n",
       "      <th>City Latitude</th>\n",
       "      <th>City Longitude</th>\n",
       "      <th>Region</th>\n",
       "    </tr>\n",
       "  </thead>\n",
       "  <tbody>\n",
       "    <tr>\n",
       "      <td>1</td>\n",
       "      <td>Albania</td>\n",
       "      <td>Tirana</td>\n",
       "      <td>41.315886</td>\n",
       "      <td>19.900912</td>\n",
       "      <td>Europe &amp; Central Asia</td>\n",
       "    </tr>\n",
       "    <tr>\n",
       "      <td>4</td>\n",
       "      <td>Antigua and Barbuda</td>\n",
       "      <td>St. John's</td>\n",
       "      <td>17.118457</td>\n",
       "      <td>-61.844851</td>\n",
       "      <td>Latin America &amp; Caribbean</td>\n",
       "    </tr>\n",
       "    <tr>\n",
       "      <td>5</td>\n",
       "      <td>Argentina</td>\n",
       "      <td>Buenos Aires</td>\n",
       "      <td>-34.607568</td>\n",
       "      <td>-58.437089</td>\n",
       "      <td>Latin America &amp; Caribbean</td>\n",
       "    </tr>\n",
       "    <tr>\n",
       "      <td>6</td>\n",
       "      <td>Armenia</td>\n",
       "      <td>Yerevan</td>\n",
       "      <td>40.177612</td>\n",
       "      <td>44.512585</td>\n",
       "      <td>Europe &amp; Central Asia</td>\n",
       "    </tr>\n",
       "    <tr>\n",
       "      <td>8</td>\n",
       "      <td>Austria</td>\n",
       "      <td>Vienna</td>\n",
       "      <td>48.208354</td>\n",
       "      <td>16.372504</td>\n",
       "      <td>Europe &amp; Central Asia</td>\n",
       "    </tr>\n",
       "  </tbody>\n",
       "</table>\n",
       "</div>"
      ],
      "text/plain": [
       "               Country  Capital City  City Latitude  City Longitude  \\\n",
       "1              Albania        Tirana      41.315886       19.900912   \n",
       "4  Antigua and Barbuda    St. John's      17.118457      -61.844851   \n",
       "5            Argentina  Buenos Aires     -34.607568      -58.437089   \n",
       "6              Armenia       Yerevan      40.177612       44.512585   \n",
       "8              Austria        Vienna      48.208354       16.372504   \n",
       "\n",
       "                      Region  \n",
       "1      Europe & Central Asia  \n",
       "4  Latin America & Caribbean  \n",
       "5  Latin America & Caribbean  \n",
       "6      Europe & Central Asia  \n",
       "8      Europe & Central Asia  "
      ]
     },
     "execution_count": 12,
     "metadata": {},
     "output_type": "execute_result"
    }
   ],
   "source": [
    "# Create new \"Capital Region\" dataframe:\n",
    "capital_regions = capital_coordinates.copy()\n",
    "\n",
    "# Add regions to \"capital_coordinates\" dataframe:\n",
    "capital_regions = capital_coordinates.merge(regions, left_on = 'Country', right_on = 'Country')\n",
    "\n",
    "# Create a list of regions to keep in dataframe:\n",
    "regions_list = ['Europe & Central Asia', 'Latin America & Caribbean', 'North America']\n",
    "\n",
    "# Keep only selected regions in dataframe:\n",
    "capital_regions = capital_regions.loc[capital_regions['Region'].isin(regions_list)]\n",
    "\n",
    "\n",
    "capital_regions.head()"
   ]
  },
  {
   "cell_type": "code",
   "execution_count": 13,
   "metadata": {},
   "outputs": [
    {
     "name": "stdout",
     "output_type": "stream",
     "text": [
      "77 are left after the merge between the two dataframes and the focus on the three regions.\n"
     ]
    }
   ],
   "source": [
    "print(\\\n",
    "'{} are left after the merge between the two dataframes and the focus on the three regions.'\\\n",
    "      .format(capital_regions.shape[0])\\\n",
    "     )"
   ]
  },
  {
   "cell_type": "markdown",
   "metadata": {},
   "source": [
    "#### 3.2. Remove Central Asia countries from the dataframe:  \n",
    "* We have to do one more fix to our data.  \n",
    "* The Europe region is combined with Central Asia, so we will remove the contries from Central Asia from our dataframe by setting a right border longitude value and a left border lobgitude value.  \n",
    "* This will manually remove any countries that are not within the frame we want to cluster later on."
   ]
  },
  {
   "cell_type": "code",
   "execution_count": 15,
   "metadata": {
    "scrolled": true
   },
   "outputs": [],
   "source": [
    "# Keep contries left from this longitude value:\n",
    "capital_regions = capital_regions[capital_regions['City Longitude'] < 33.38]\n",
    "\n",
    "# Keep contries right from this longitude value:\n",
    "capital_regions = capital_regions[capital_regions['City Longitude'] > -99.2]\n",
    "\n",
    "# Reset index:\n",
    "capital_regions.reset_index(drop = True, inplace = True)"
   ]
  },
  {
   "cell_type": "code",
   "execution_count": 16,
   "metadata": {},
   "outputs": [
    {
     "name": "stdout",
     "output_type": "stream",
     "text": [
      "Final dataframe has 70 countries.\n"
     ]
    }
   ],
   "source": [
    "print(\\\n",
    "'Final dataframe has {} countries.'\\\n",
    "     .format(capital_regions.shape[0])\\\n",
    "     )"
   ]
  },
  {
   "cell_type": "markdown",
   "metadata": {},
   "source": [
    "Let's export the *__capital_regions__* dataframe as a csv file for future snalysis."
   ]
  },
  {
   "cell_type": "code",
   "execution_count": 18,
   "metadata": {},
   "outputs": [],
   "source": [
    "capital_coordinates.to_csv(r'Capital_Regions.csv', index = False)"
   ]
  },
  {
   "cell_type": "markdown",
   "metadata": {},
   "source": [
    "#### 3.3. Vusualizing the dataframe:"
   ]
  },
  {
   "cell_type": "code",
   "execution_count": 20,
   "metadata": {
    "scrolled": false
   },
   "outputs": [
    {
     "data": {
      "text/html": [
       "<div style=\"width:100%;\"><div style=\"position:relative;width:100%;height:0;padding-bottom:60%;\"><iframe src=\"about:blank\" style=\"position:absolute;width:100%;height:100%;left:0;top:0;border:none !important;\" data-html=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 onload=\"this.contentDocument.open();this.contentDocument.write(atob(this.getAttribute('data-html')));this.contentDocument.close();\" allowfullscreen webkitallowfullscreen mozallowfullscreen></iframe></div></div>"
      ],
      "text/plain": [
       "<folium.folium.Map at 0x20dc967b148>"
      ]
     },
     "execution_count": 20,
     "metadata": {},
     "output_type": "execute_result"
    }
   ],
   "source": [
    "# create map of capital cities:\n",
    "world_map = folium.Map(location=[0, 0], zoom_start = 2, tiles='stamentoner')\n",
    "\n",
    "# Add markers to map\n",
    "for lat, lng, city, country in zip(capital_regions['City Latitude'],\n",
    "                                   capital_regions['City Longitude'],\n",
    "                                   capital_regions['Capital City'],\n",
    "                                   capital_regions['Country']):\n",
    "    try:\n",
    "        label = '{}, {}'.format(city, country)\n",
    "        label = folium.Popup(label, parse_html = True)\n",
    "        folium.CircleMarker(\n",
    "            [lat, lng],\n",
    "            radius = 2,\n",
    "            popup = label,\n",
    "            color = '#3765F4',\n",
    "            fill = True,\n",
    "            fill_color = '#3765F4',\n",
    "            fill_opacity = 1,\n",
    "            parse_html = False).add_to(world_map)  \n",
    "    except:\n",
    "        pass\n",
    "    \n",
    "world_map"
   ]
  },
  {
   "cell_type": "markdown",
   "metadata": {},
   "source": [
    "__This image is provided so you can see the results of the last cell's code.__"
   ]
  },
  {
   "cell_type": "markdown",
   "metadata": {},
   "source": [
    "<img src=\"Get_Coordinates.jpg\">"
   ]
  },
  {
   "cell_type": "markdown",
   "metadata": {},
   "source": [
    "### 4. Summary:"
   ]
  },
  {
   "cell_type": "markdown",
   "metadata": {},
   "source": [
    "Overall, in this notebook we:\n",
    "1. We have added coordinates values to the Capital Cities data.  \n",
    "2. We created the dataframe we will use for the clustering analysis later on, focusing on regions:  \n",
    "    * Europe  \n",
    "    * Latin America & Caribbean  \n",
    "    * North America "
   ]
  },
  {
   "cell_type": "markdown",
   "metadata": {},
   "source": [
    "__Thank you for taking your time to read through this!__"
   ]
  },
  {
   "cell_type": "markdown",
   "metadata": {},
   "source": [
    "### 5. References"
   ]
  },
  {
   "cell_type": "markdown",
   "metadata": {},
   "source": [
    "Wikipedia contributors. (2019, December). *List of national capitals*. Retrieved December 28, 2019, from Wikipedia: https://en.wikipedia.org/wiki/List_of_national_capitals"
   ]
  },
  {
   "cell_type": "markdown",
   "metadata": {},
   "source": [
    "World Bank, Doing Business. (n.d.-a). *Doing Business Indicators [Data file]*. Retrieved from The World Bank: https://databank.worldbank.org/source/doing-business"
   ]
  }
 ],
 "metadata": {
  "kernelspec": {
   "display_name": "Python 3",
   "language": "python",
   "name": "python3"
  },
  "language_info": {
   "codemirror_mode": {
    "name": "ipython",
    "version": 3
   },
   "file_extension": ".py",
   "mimetype": "text/x-python",
   "name": "python",
   "nbconvert_exporter": "python",
   "pygments_lexer": "ipython3",
   "version": "3.7.4"
  }
 },
 "nbformat": 4,
 "nbformat_minor": 4
}
