{
 "cells": [
  {
   "cell_type": "markdown",
   "metadata": {},
   "source": [
    "# Get Coordinates - Using Nominatim"
   ]
  },
  {
   "cell_type": "markdown",
   "metadata": {},
   "source": [
    "### Content:\n",
    "1. Introduction\n",
    "2. Get capital cities' coordinates\n",
    "3. Data preparation for cluster analysis\n",
    "4. Summary\n",
    "5. References"
   ]
  },
  {
   "cell_type": "markdown",
   "metadata": {},
   "source": [
    "### 1. Introduction:  \n",
    "* In this notebook we will add coordinates values for each city in our *__CapitaL_Cities.csv__* file.  \n",
    "* We will do some preprocessing to make sure our dataframe is all set for future use.\n",
    "* A visualization of our final dataframe will be provided on a folium map."
   ]
  },
  {
   "cell_type": "markdown",
   "metadata": {},
   "source": [
    "### Library installation and import preparation:"
   ]
  },
  {
   "cell_type": "code",
   "execution_count": 1,
   "metadata": {},
   "outputs": [],
   "source": [
    "import pandas as pd\n",
    "import numpy as np\n",
    "import folium\n",
    "import time\n",
    "\n",
    "from geopy.geocoders import Nominatim"
   ]
  },
  {
   "cell_type": "markdown",
   "metadata": {},
   "source": [
    "### 2. Get capital cities' coordinates:"
   ]
  },
  {
   "cell_type": "code",
   "execution_count": 2,
   "metadata": {
    "scrolled": true
   },
   "outputs": [
    {
     "data": {
      "text/html": [
       "<div>\n",
       "<style scoped>\n",
       "    .dataframe tbody tr th:only-of-type {\n",
       "        vertical-align: middle;\n",
       "    }\n",
       "\n",
       "    .dataframe tbody tr th {\n",
       "        vertical-align: top;\n",
       "    }\n",
       "\n",
       "    .dataframe thead th {\n",
       "        text-align: right;\n",
       "    }\n",
       "</style>\n",
       "<table border=\"1\" class=\"dataframe\">\n",
       "  <thead>\n",
       "    <tr style=\"text-align: right;\">\n",
       "      <th></th>\n",
       "      <th>Country</th>\n",
       "      <th>Capital City</th>\n",
       "    </tr>\n",
       "  </thead>\n",
       "  <tbody>\n",
       "    <tr>\n",
       "      <td>0</td>\n",
       "      <td>Abkhazia</td>\n",
       "      <td>Sukhumi</td>\n",
       "    </tr>\n",
       "    <tr>\n",
       "      <td>1</td>\n",
       "      <td>Afghanistan</td>\n",
       "      <td>Kabul</td>\n",
       "    </tr>\n",
       "    <tr>\n",
       "      <td>2</td>\n",
       "      <td>Akrotiri and Dhekelia</td>\n",
       "      <td>Episkopi Cantonment</td>\n",
       "    </tr>\n",
       "    <tr>\n",
       "      <td>3</td>\n",
       "      <td>Albania</td>\n",
       "      <td>Tirana</td>\n",
       "    </tr>\n",
       "    <tr>\n",
       "      <td>4</td>\n",
       "      <td>Algeria</td>\n",
       "      <td>Algiers</td>\n",
       "    </tr>\n",
       "  </tbody>\n",
       "</table>\n",
       "</div>"
      ],
      "text/plain": [
       "                 Country         Capital City\n",
       "0               Abkhazia              Sukhumi\n",
       "1            Afghanistan                Kabul\n",
       "2  Akrotiri and Dhekelia  Episkopi Cantonment\n",
       "3                Albania               Tirana\n",
       "4                Algeria              Algiers"
      ]
     },
     "execution_count": 2,
     "metadata": {},
     "output_type": "execute_result"
    }
   ],
   "source": [
    "# Load \"Capital_Cities.csv\" data:\n",
    "capital_raw = pd.read_csv('Capital_Cities.csv')\n",
    "\n",
    "capital_raw.head()"
   ]
  },
  {
   "cell_type": "markdown",
   "metadata": {},
   "source": [
    "#### 2.1. *get_loc_coords()* function:  \n",
    "This function will make it easier to get coordinates for the cities in our dataframe.  \n",
    "The return value of this function is a tuple with a single city's latitude and longitude values."
   ]
  },
  {
   "cell_type": "code",
   "execution_count": 3,
   "metadata": {},
   "outputs": [],
   "source": [
    "# This function will return the coordinates of the point of intrest\n",
    "def get_loc_coords (city, country):\n",
    "    \n",
    "    '''\n",
    "    Takes a city's name and its country and uses Nominatim to get its coordinates.\n",
    "    '''\n",
    "    \n",
    "    # Set the search variable - \"City\" + \"Country\":\n",
    "    address = city + ', ' + country\n",
    "    \n",
    "    # Get coordinates of \"address\":\n",
    "    geolocator = Nominatim(user_agent = 'coordinate_finder')\n",
    "    location = geolocator.geocode(address)\n",
    "    \n",
    "    # Assign variables for latitude and longitude:\n",
    "    lat = location.latitude\n",
    "    lon = location.longitude\n",
    "    \n",
    "    return (lat, lon)"
   ]
  },
  {
   "cell_type": "markdown",
   "metadata": {},
   "source": [
    "#### 2.2. *add_city_coords()* function:  \n",
    "This function leverages the *__get_loc_coords()__* to add coordinates to all location within a dataframe.  \n",
    "The *__add_city_coords()__* function takes a dataframe, a country column name and a city column name, then returns that dataframe including coordinates for each city."
   ]
  },
  {
   "cell_type": "code",
   "execution_count": 4,
   "metadata": {},
   "outputs": [],
   "source": [
    "def add_city_coords (dataframe, country_colname, city_colname):\n",
    "    \n",
    "    \"\"\"\n",
    "    Takes a dataframe, country column name and a city column name,\n",
    "    and adds each city's coordinates to the dataframe.\n",
    "    \"\"\"\n",
    "    \n",
    "    # A list to store coordinates:\n",
    "    coordinates_list = []\n",
    "    \n",
    "    # Call the \"get_loc_coords()\" function for each city in the dataframe:\n",
    "    for i in range (len(dataframe)):\n",
    "        \n",
    "        # Use \"try\" incase of error due to city/country name rejection:\n",
    "        try:\n",
    "            coordinates_list.append(get_loc_coords(dataframe[city_colname][i],dataframe[country_colname][i]))\n",
    "            \n",
    "        except:\n",
    "            coordinates_list.append((np.NaN, np.NaN))\n",
    "            \n",
    "        time.sleep(1)\n",
    "\n",
    "    \n",
    "    # Add coordinates_list to the dataframe:\n",
    "    coordinates = pd.DataFrame(coordinates_list)\n",
    "    dataframe['City Latitude'] = coordinates[0]\n",
    "    dataframe['City Longitude'] = coordinates[1]\n",
    "    \n",
    "    return dataframe"
   ]
  },
  {
   "cell_type": "markdown",
   "metadata": {},
   "source": [
    "#### 2.3. Add city coordinates to the dataframe:"
   ]
  },
  {
   "cell_type": "code",
   "execution_count": 5,
   "metadata": {},
   "outputs": [],
   "source": [
    "# Create new \"Capital Coordinates\" dataframe:\n",
    "capital_coordinates = capital_raw.copy()\n",
    "\n",
    "# Set column names variables for \"add_city_coords\" function:\n",
    "country_colname = 'Country'\n",
    "city_colname = 'Capital City'"
   ]
  },
  {
   "cell_type": "markdown",
   "metadata": {},
   "source": [
    "We will now call *__add_city_coords()__* on our dataframe."
   ]
  },
  {
   "cell_type": "code",
   "execution_count": 6,
   "metadata": {},
   "outputs": [],
   "source": [
    "capital_coordinates = add_city_coords(capital_coordinates, country_colname, city_colname)"
   ]
  },
  {
   "cell_type": "code",
   "execution_count": 7,
   "metadata": {
    "scrolled": false
   },
   "outputs": [
    {
     "data": {
      "text/html": [
       "<div>\n",
       "<style scoped>\n",
       "    .dataframe tbody tr th:only-of-type {\n",
       "        vertical-align: middle;\n",
       "    }\n",
       "\n",
       "    .dataframe tbody tr th {\n",
       "        vertical-align: top;\n",
       "    }\n",
       "\n",
       "    .dataframe thead th {\n",
       "        text-align: right;\n",
       "    }\n",
       "</style>\n",
       "<table border=\"1\" class=\"dataframe\">\n",
       "  <thead>\n",
       "    <tr style=\"text-align: right;\">\n",
       "      <th></th>\n",
       "      <th>Country</th>\n",
       "      <th>Capital City</th>\n",
       "      <th>City Latitude</th>\n",
       "      <th>City Longitude</th>\n",
       "    </tr>\n",
       "  </thead>\n",
       "  <tbody>\n",
       "    <tr>\n",
       "      <td>0</td>\n",
       "      <td>Abkhazia</td>\n",
       "      <td>Sukhumi</td>\n",
       "      <td>43.003363</td>\n",
       "      <td>41.019274</td>\n",
       "    </tr>\n",
       "    <tr>\n",
       "      <td>1</td>\n",
       "      <td>Afghanistan</td>\n",
       "      <td>Kabul</td>\n",
       "      <td>34.526013</td>\n",
       "      <td>69.177648</td>\n",
       "    </tr>\n",
       "    <tr>\n",
       "      <td>2</td>\n",
       "      <td>Akrotiri and Dhekelia</td>\n",
       "      <td>Episkopi Cantonment</td>\n",
       "      <td>34.670434</td>\n",
       "      <td>32.901855</td>\n",
       "    </tr>\n",
       "    <tr>\n",
       "      <td>3</td>\n",
       "      <td>Albania</td>\n",
       "      <td>Tirana</td>\n",
       "      <td>41.315886</td>\n",
       "      <td>19.900912</td>\n",
       "    </tr>\n",
       "    <tr>\n",
       "      <td>4</td>\n",
       "      <td>Algeria</td>\n",
       "      <td>Algiers</td>\n",
       "      <td>36.775361</td>\n",
       "      <td>3.060188</td>\n",
       "    </tr>\n",
       "  </tbody>\n",
       "</table>\n",
       "</div>"
      ],
      "text/plain": [
       "                 Country         Capital City  City Latitude  City Longitude\n",
       "0               Abkhazia              Sukhumi      43.003363       41.019274\n",
       "1            Afghanistan                Kabul      34.526013       69.177648\n",
       "2  Akrotiri and Dhekelia  Episkopi Cantonment      34.670434       32.901855\n",
       "3                Albania               Tirana      41.315886       19.900912\n",
       "4                Algeria              Algiers      36.775361        3.060188"
      ]
     },
     "execution_count": 7,
     "metadata": {},
     "output_type": "execute_result"
    }
   ],
   "source": [
    "capital_coordinates.dropna(inplace = True)\n",
    "capital_coordinates.head()"
   ]
  },
  {
   "cell_type": "markdown",
   "metadata": {},
   "source": [
    "Let's export the *__capital_coordinates__* dataframe as a csv file for future snalysis."
   ]
  },
  {
   "cell_type": "code",
   "execution_count": 8,
   "metadata": {},
   "outputs": [],
   "source": [
    "capital_coordinates.to_csv(r'Capital_Coordinates.csv', index = False)"
   ]
  },
  {
   "cell_type": "markdown",
   "metadata": {},
   "source": [
    "### 3. Data preparation for cluster analysis:"
   ]
  },
  {
   "cell_type": "markdown",
   "metadata": {},
   "source": [
    "#### 3.1. Setting up the dataframe:\n",
    "In the cluster alalysis we will do in the future we will focus on three regions:  \n",
    "* Europe \n",
    "* Latin America & Caribbean  \n",
    "* North America"
   ]
  },
  {
   "cell_type": "markdown",
   "metadata": {},
   "source": [
    "For this reason we will now create a dataframe of capital cities from these three regions and their coordinates."
   ]
  },
  {
   "cell_type": "markdown",
   "metadata": {},
   "source": [
    "First lets load our regions data."
   ]
  },
  {
   "cell_type": "code",
   "execution_count": 9,
   "metadata": {
    "scrolled": false
   },
   "outputs": [
    {
     "data": {
      "text/html": [
       "<div>\n",
       "<style scoped>\n",
       "    .dataframe tbody tr th:only-of-type {\n",
       "        vertical-align: middle;\n",
       "    }\n",
       "\n",
       "    .dataframe tbody tr th {\n",
       "        vertical-align: top;\n",
       "    }\n",
       "\n",
       "    .dataframe thead th {\n",
       "        text-align: right;\n",
       "    }\n",
       "</style>\n",
       "<table border=\"1\" class=\"dataframe\">\n",
       "  <thead>\n",
       "    <tr style=\"text-align: right;\">\n",
       "      <th></th>\n",
       "      <th>Country</th>\n",
       "      <th>Region</th>\n",
       "    </tr>\n",
       "  </thead>\n",
       "  <tbody>\n",
       "    <tr>\n",
       "      <td>0</td>\n",
       "      <td>Afghanistan</td>\n",
       "      <td>South Asia</td>\n",
       "    </tr>\n",
       "    <tr>\n",
       "      <td>1</td>\n",
       "      <td>Albania</td>\n",
       "      <td>Europe &amp; Central Asia</td>\n",
       "    </tr>\n",
       "    <tr>\n",
       "      <td>2</td>\n",
       "      <td>Algeria</td>\n",
       "      <td>Middle East &amp; North Africa</td>\n",
       "    </tr>\n",
       "    <tr>\n",
       "      <td>3</td>\n",
       "      <td>Angola</td>\n",
       "      <td>Sub-Saharan Africa</td>\n",
       "    </tr>\n",
       "    <tr>\n",
       "      <td>4</td>\n",
       "      <td>Antigua and Barbuda</td>\n",
       "      <td>Latin America &amp; Caribbean</td>\n",
       "    </tr>\n",
       "  </tbody>\n",
       "</table>\n",
       "</div>"
      ],
      "text/plain": [
       "               Country                      Region\n",
       "0          Afghanistan                  South Asia\n",
       "1              Albania       Europe & Central Asia\n",
       "2              Algeria  Middle East & North Africa\n",
       "3               Angola          Sub-Saharan Africa\n",
       "4  Antigua and Barbuda   Latin America & Caribbean"
      ]
     },
     "execution_count": 9,
     "metadata": {},
     "output_type": "execute_result"
    }
   ],
   "source": [
    "# Load \"Country_Region_DB.csv\" data:\n",
    "regions = pd.read_csv('Country_Region_DB.csv')\n",
    "\n",
    "regions.head()"
   ]
  },
  {
   "cell_type": "code",
   "execution_count": 10,
   "metadata": {},
   "outputs": [
    {
     "name": "stdout",
     "output_type": "stream",
     "text": [
      "There are 237 rows in \"capital_coordinates\" and 191 rows in \"region\"\n"
     ]
    }
   ],
   "source": [
    "print(\\\n",
    "      'There are {} rows in \"capital_coordinates\" and {} rows in \"region\"'\\\n",
    "      .format(capital_coordinates.shape[0], regions.shape[0])\\\n",
    "     )"
   ]
  },
  {
   "cell_type": "markdown",
   "metadata": {},
   "source": [
    "Now join between *__capital_coordinates__* and *__regions__*."
   ]
  },
  {
   "cell_type": "code",
   "execution_count": 11,
   "metadata": {},
   "outputs": [
    {
     "data": {
      "text/html": [
       "<div>\n",
       "<style scoped>\n",
       "    .dataframe tbody tr th:only-of-type {\n",
       "        vertical-align: middle;\n",
       "    }\n",
       "\n",
       "    .dataframe tbody tr th {\n",
       "        vertical-align: top;\n",
       "    }\n",
       "\n",
       "    .dataframe thead th {\n",
       "        text-align: right;\n",
       "    }\n",
       "</style>\n",
       "<table border=\"1\" class=\"dataframe\">\n",
       "  <thead>\n",
       "    <tr style=\"text-align: right;\">\n",
       "      <th></th>\n",
       "      <th>Country</th>\n",
       "      <th>Capital City</th>\n",
       "      <th>City Latitude</th>\n",
       "      <th>City Longitude</th>\n",
       "      <th>Region</th>\n",
       "    </tr>\n",
       "  </thead>\n",
       "  <tbody>\n",
       "    <tr>\n",
       "      <td>1</td>\n",
       "      <td>Albania</td>\n",
       "      <td>Tirana</td>\n",
       "      <td>41.315886</td>\n",
       "      <td>19.900912</td>\n",
       "      <td>Europe &amp; Central Asia</td>\n",
       "    </tr>\n",
       "    <tr>\n",
       "      <td>4</td>\n",
       "      <td>Antigua and Barbuda</td>\n",
       "      <td>St. John's</td>\n",
       "      <td>17.118457</td>\n",
       "      <td>-61.844851</td>\n",
       "      <td>Latin America &amp; Caribbean</td>\n",
       "    </tr>\n",
       "    <tr>\n",
       "      <td>5</td>\n",
       "      <td>Argentina</td>\n",
       "      <td>Buenos Aires</td>\n",
       "      <td>-34.607568</td>\n",
       "      <td>-58.437089</td>\n",
       "      <td>Latin America &amp; Caribbean</td>\n",
       "    </tr>\n",
       "    <tr>\n",
       "      <td>6</td>\n",
       "      <td>Armenia</td>\n",
       "      <td>Yerevan</td>\n",
       "      <td>40.177612</td>\n",
       "      <td>44.512585</td>\n",
       "      <td>Europe &amp; Central Asia</td>\n",
       "    </tr>\n",
       "    <tr>\n",
       "      <td>8</td>\n",
       "      <td>Austria</td>\n",
       "      <td>Vienna</td>\n",
       "      <td>48.208354</td>\n",
       "      <td>16.372504</td>\n",
       "      <td>Europe &amp; Central Asia</td>\n",
       "    </tr>\n",
       "  </tbody>\n",
       "</table>\n",
       "</div>"
      ],
      "text/plain": [
       "               Country  Capital City  City Latitude  City Longitude  \\\n",
       "1              Albania        Tirana      41.315886       19.900912   \n",
       "4  Antigua and Barbuda    St. John's      17.118457      -61.844851   \n",
       "5            Argentina  Buenos Aires     -34.607568      -58.437089   \n",
       "6              Armenia       Yerevan      40.177612       44.512585   \n",
       "8              Austria        Vienna      48.208354       16.372504   \n",
       "\n",
       "                      Region  \n",
       "1      Europe & Central Asia  \n",
       "4  Latin America & Caribbean  \n",
       "5  Latin America & Caribbean  \n",
       "6      Europe & Central Asia  \n",
       "8      Europe & Central Asia  "
      ]
     },
     "execution_count": 11,
     "metadata": {},
     "output_type": "execute_result"
    }
   ],
   "source": [
    "# Create new \"Capital Region\" dataframe:\n",
    "capital_regions = capital_coordinates.copy()\n",
    "\n",
    "# Add regions to \"capital_coordinates\" dataframe:\n",
    "capital_regions = capital_coordinates.merge(regions, left_on = 'Country', right_on = 'Country')\n",
    "\n",
    "# Create a list of regions to keep in dataframe:\n",
    "regions_list = ['Europe & Central Asia', 'Latin America & Caribbean', 'North America']\n",
    "\n",
    "# Keep only selected regions in dataframe:\n",
    "capital_regions = capital_regions.loc[capital_regions['Region'].isin(regions_list)]\n",
    "\n",
    "\n",
    "capital_regions.head()"
   ]
  },
  {
   "cell_type": "code",
   "execution_count": 12,
   "metadata": {},
   "outputs": [
    {
     "name": "stdout",
     "output_type": "stream",
     "text": [
      "77 are left after the merge between the two dataframes and the focus on the three regions.\n"
     ]
    }
   ],
   "source": [
    "print(\\\n",
    "'{} are left after the merge between the two dataframes and the focus on the three regions.'\\\n",
    "      .format(capital_regions.shape[0])\\\n",
    "     )"
   ]
  },
  {
   "cell_type": "markdown",
   "metadata": {},
   "source": [
    "#### 3.2. Remove Central Asia countries from the dataframe:  \n",
    "* We have to do one more fix to our data.  \n",
    "* The Europe region is combined with Central Asia, so we will remove the contries from Central Asia from our dataframe by setting a right border longitude value and a left border lobgitude value.  \n",
    "* This will manually remove any countries that are not within the frame we want to cluster later on."
   ]
  },
  {
   "cell_type": "code",
   "execution_count": 13,
   "metadata": {
    "scrolled": true
   },
   "outputs": [],
   "source": [
    "# Keep contries left from this longitude value:\n",
    "capital_regions = capital_regions[capital_regions['City Longitude'] < 33.38]\n",
    "\n",
    "# Keep contries right from this longitude value:\n",
    "capital_regions = capital_regions[capital_regions['City Longitude'] > -99.2]\n",
    "\n",
    "# Reset index:\n",
    "capital_regions.reset_index(drop = True, inplace = True)"
   ]
  },
  {
   "cell_type": "code",
   "execution_count": 14,
   "metadata": {},
   "outputs": [
    {
     "name": "stdout",
     "output_type": "stream",
     "text": [
      "Final dataframe has 70 countries.\n"
     ]
    }
   ],
   "source": [
    "print(\\\n",
    "'Final dataframe has {} countries.'\\\n",
    "     .format(capital_regions.shape[0])\\\n",
    "     )"
   ]
  },
  {
   "cell_type": "markdown",
   "metadata": {},
   "source": [
    "Let's export the *__capital_regions__* dataframe as a csv file for future snalysis."
   ]
  },
  {
   "cell_type": "code",
   "execution_count": 15,
   "metadata": {},
   "outputs": [],
   "source": [
    "capital_regions.to_csv(r'Capital_Regions.csv', index = False)"
   ]
  },
  {
   "cell_type": "markdown",
   "metadata": {},
   "source": [
    "#### 3.3. Vusualizing the dataframe:"
   ]
  },
  {
   "cell_type": "code",
   "execution_count": 16,
   "metadata": {
    "scrolled": false
   },
   "outputs": [
    {
     "data": {
      "text/html": [
       "<div style=\"width:100%;\"><div style=\"position:relative;width:100%;height:0;padding-bottom:60%;\"><iframe src=\"about:blank\" style=\"position:absolute;width:100%;height:100%;left:0;top:0;border:none !important;\" data-html=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 onload=\"this.contentDocument.open();this.contentDocument.write(atob(this.getAttribute('data-html')));this.contentDocument.close();\" allowfullscreen webkitallowfullscreen mozallowfullscreen></iframe></div></div>"
      ],
      "text/plain": [
       "<folium.folium.Map at 0x148ec715dc8>"
      ]
     },
     "execution_count": 16,
     "metadata": {},
     "output_type": "execute_result"
    }
   ],
   "source": [
    "# create map of capital cities:\n",
    "world_map = folium.Map(location=[0, 0], zoom_start = 2, tiles='stamentoner')\n",
    "\n",
    "# Add markers to map\n",
    "for lat, lng, city, country in zip(capital_regions['City Latitude'],\n",
    "                                   capital_regions['City Longitude'],\n",
    "                                   capital_regions['Capital City'],\n",
    "                                   capital_regions['Country']):\n",
    "    try:\n",
    "        label = '{}, {}'.format(city, country)\n",
    "        label = folium.Popup(label, parse_html = True)\n",
    "        folium.CircleMarker(\n",
    "            [lat, lng],\n",
    "            radius = 2,\n",
    "            popup = label,\n",
    "            color = '#3765F4',\n",
    "            fill = True,\n",
    "            fill_color = '#3765F4',\n",
    "            fill_opacity = 1,\n",
    "            parse_html = False).add_to(world_map)  \n",
    "    except:\n",
    "        pass\n",
    "    \n",
    "world_map"
   ]
  },
  {
   "cell_type": "markdown",
   "metadata": {},
   "source": [
    "__Here is a link to an image that show the results of the last cell's code.__"
   ]
  },
  {
   "cell_type": "markdown",
   "metadata": {},
   "source": [
    "https://raw.githubusercontent.com/Guy-DM/Data-analysis-and-analytics/master/Images/1.3.Get_Coordinates.JPG"
   ]
  },
  {
   "cell_type": "markdown",
   "metadata": {},
   "source": [
    "### 4. Summary:"
   ]
  },
  {
   "cell_type": "markdown",
   "metadata": {},
   "source": [
    "Overall, in this notebook we:\n",
    "1. We have added coordinates values to the Capital Cities data.  \n",
    "2. We created the dataframe we will use for the clustering analysis later on, focusing on regions:  \n",
    "    * Europe  \n",
    "    * Latin America & Caribbean  \n",
    "    * North America "
   ]
  },
  {
   "cell_type": "markdown",
   "metadata": {},
   "source": [
    "__Thank you for taking your time to read through this!__"
   ]
  },
  {
   "cell_type": "markdown",
   "metadata": {},
   "source": [
    "### 5. References"
   ]
  },
  {
   "cell_type": "markdown",
   "metadata": {},
   "source": [
    "Wikipedia contributors. (2019, December). *List of national capitals*. Retrieved December 28, 2019, from Wikipedia: https://en.wikipedia.org/wiki/List_of_national_capitals"
   ]
  },
  {
   "cell_type": "markdown",
   "metadata": {},
   "source": [
    "World Bank, Doing Business. (n.d.-a). *Doing Business Indicators [Data file]*. Retrieved from The World Bank: https://databank.worldbank.org/source/doing-business"
   ]
  }
 ],
 "metadata": {
  "kernelspec": {
   "display_name": "Python 3",
   "language": "python",
   "name": "python3"
  },
  "language_info": {
   "codemirror_mode": {
    "name": "ipython",
    "version": 3
   },
   "file_extension": ".py",
   "mimetype": "text/x-python",
   "name": "python",
   "nbconvert_exporter": "python",
   "pygments_lexer": "ipython3",
   "version": "3.7.4"
  }
 },
 "nbformat": 4,
 "nbformat_minor": 4
}
