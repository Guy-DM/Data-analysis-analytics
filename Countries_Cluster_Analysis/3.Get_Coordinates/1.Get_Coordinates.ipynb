{
 "cells": [
  {
   "cell_type": "markdown",
   "metadata": {},
   "source": [
    "# Get Coordinates - Using Nominatim"
   ]
  },
  {
   "cell_type": "markdown",
   "metadata": {},
   "source": [
    "### Content:\n",
    "1. Introduction\n",
    "2. Get capital cities' coordinates\n",
    "3. Data preparation for cluster analysis\n",
    "4. Summary\n",
    "5. References"
   ]
  },
  {
   "cell_type": "markdown",
   "metadata": {},
   "source": [
    "### 1. Introduction:  \n",
    "* In this notebook we will add coordinates values for each city in our *__CapitaL_Cities.csv__* file.  \n",
    "* We will do some preprocessing to make sure our dataframe is all set for future use.\n",
    "* A visualization of our final dataframe will be provided on a folium map."
   ]
  },
  {
   "cell_type": "markdown",
   "metadata": {},
   "source": [
    "### Library installation and import preparation:"
   ]
  },
  {
   "cell_type": "code",
   "execution_count": 1,
   "metadata": {},
   "outputs": [],
   "source": [
    "import pandas as pd\n",
    "import numpy as np\n",
    "import folium\n",
    "import time\n",
    "\n",
    "from geopy.geocoders import Nominatim"
   ]
  },
  {
   "cell_type": "markdown",
   "metadata": {},
   "source": [
    "### 2. Get capital cities' coordinates:"
   ]
  },
  {
   "cell_type": "code",
   "execution_count": 2,
   "metadata": {
    "scrolled": true
   },
   "outputs": [
    {
     "data": {
      "text/html": [
       "<div>\n",
       "<style scoped>\n",
       "    .dataframe tbody tr th:only-of-type {\n",
       "        vertical-align: middle;\n",
       "    }\n",
       "\n",
       "    .dataframe tbody tr th {\n",
       "        vertical-align: top;\n",
       "    }\n",
       "\n",
       "    .dataframe thead th {\n",
       "        text-align: right;\n",
       "    }\n",
       "</style>\n",
       "<table border=\"1\" class=\"dataframe\">\n",
       "  <thead>\n",
       "    <tr style=\"text-align: right;\">\n",
       "      <th></th>\n",
       "      <th>Country</th>\n",
       "      <th>Capital City</th>\n",
       "    </tr>\n",
       "  </thead>\n",
       "  <tbody>\n",
       "    <tr>\n",
       "      <th>0</th>\n",
       "      <td>Abkhazia</td>\n",
       "      <td>Sukhumi</td>\n",
       "    </tr>\n",
       "    <tr>\n",
       "      <th>1</th>\n",
       "      <td>Afghanistan</td>\n",
       "      <td>Kabul</td>\n",
       "    </tr>\n",
       "    <tr>\n",
       "      <th>2</th>\n",
       "      <td>Akrotiri and Dhekelia</td>\n",
       "      <td>Episkopi Cantonment</td>\n",
       "    </tr>\n",
       "    <tr>\n",
       "      <th>3</th>\n",
       "      <td>Albania</td>\n",
       "      <td>Tirana</td>\n",
       "    </tr>\n",
       "    <tr>\n",
       "      <th>4</th>\n",
       "      <td>Algeria</td>\n",
       "      <td>Algiers</td>\n",
       "    </tr>\n",
       "  </tbody>\n",
       "</table>\n",
       "</div>"
      ],
      "text/plain": [
       "                 Country         Capital City\n",
       "0               Abkhazia              Sukhumi\n",
       "1            Afghanistan                Kabul\n",
       "2  Akrotiri and Dhekelia  Episkopi Cantonment\n",
       "3                Albania               Tirana\n",
       "4                Algeria              Algiers"
      ]
     },
     "execution_count": 2,
     "metadata": {},
     "output_type": "execute_result"
    }
   ],
   "source": [
    "# Load \"Capital_Cities.csv\" data:\n",
    "capital_raw = pd.read_csv('Capital_Cities.csv')\n",
    "\n",
    "capital_raw.head()"
   ]
  },
  {
   "cell_type": "markdown",
   "metadata": {},
   "source": [
    "#### 2.1. *get_loc_coords()* function:  \n",
    "This function will make it easier to get coordinates for the cities in our dataframe.  \n",
    "The return value of this function is a tuple with a single city's latitude and longitude values."
   ]
  },
  {
   "cell_type": "code",
   "execution_count": 3,
   "metadata": {},
   "outputs": [],
   "source": [
    "# This function will return the coordinates of the point of intrest\n",
    "def get_loc_coords (city, country):\n",
    "    \n",
    "    '''\n",
    "    Takes a city's name and its country and uses Nominatim to get its coordinates.\n",
    "    '''\n",
    "    \n",
    "    # Set the search variable - \"City\" + \"Country\":\n",
    "    address = city + ', ' + country\n",
    "    \n",
    "    # Get coordinates of \"address\":\n",
    "    geolocator = Nominatim(user_agent = 'coordinate_finder')\n",
    "    location = geolocator.geocode(address)\n",
    "    \n",
    "    # Assign variables for latitude and longitude:\n",
    "    lat = location.latitude\n",
    "    lon = location.longitude\n",
    "    \n",
    "    return (lat, lon)"
   ]
  },
  {
   "cell_type": "markdown",
   "metadata": {},
   "source": [
    "#### 2.2. *add_city_coords()* function:  \n",
    "This function leverages the *__get_loc_coords()__* to add coordinates to all location within a dataframe.  \n",
    "The *__add_city_coords()__* function takes a dataframe, a country column name and a city column name, then returns that dataframe including coordinates for each city."
   ]
  },
  {
   "cell_type": "code",
   "execution_count": 4,
   "metadata": {},
   "outputs": [],
   "source": [
    "def add_city_coords (dataframe, country_colname, city_colname):\n",
    "    \n",
    "    \"\"\"\n",
    "    Takes a dataframe, country column name and a city column name,\n",
    "    and adds each city's coordinates to the dataframe.\n",
    "    \"\"\"\n",
    "    \n",
    "    # A list to store coordinates:\n",
    "    coordinates_list = []\n",
    "    \n",
    "    # Call the \"get_loc_coords()\" function for each city in the dataframe:\n",
    "    for i in range (len(dataframe)):\n",
    "        \n",
    "        # Use \"try\" incase of error due to city/country name rejection:\n",
    "        try:\n",
    "            coordinates_list.append(get_loc_coords(dataframe[city_colname][i],dataframe[country_colname][i]))\n",
    "            \n",
    "        except:\n",
    "            coordinates_list.append((np.NaN, np.NaN))\n",
    "            \n",
    "        time.sleep(1)\n",
    "\n",
    "    \n",
    "    # Add coordinates_list to the dataframe:\n",
    "    coordinates = pd.DataFrame(coordinates_list)\n",
    "    dataframe['City Latitude'] = coordinates[0]\n",
    "    dataframe['City Longitude'] = coordinates[1]\n",
    "    \n",
    "    return dataframe"
   ]
  },
  {
   "cell_type": "markdown",
   "metadata": {},
   "source": [
    "#### 2.3. Add city coordinates to the dataframe:"
   ]
  },
  {
   "cell_type": "code",
   "execution_count": 5,
   "metadata": {},
   "outputs": [],
   "source": [
    "# Create new \"Capital Coordinates\" dataframe:\n",
    "capital_coordinates = capital_raw.copy()\n",
    "\n",
    "# Set column names variables for \"add_city_coords\" function:\n",
    "country_colname = 'Country'\n",
    "city_colname = 'Capital City'"
   ]
  },
  {
   "cell_type": "markdown",
   "metadata": {},
   "source": [
    "We will now call *__add_city_coords()__* on our dataframe."
   ]
  },
  {
   "cell_type": "code",
   "execution_count": 6,
   "metadata": {},
   "outputs": [],
   "source": [
    "capital_coordinates = add_city_coords(capital_coordinates, country_colname, city_colname)"
   ]
  },
  {
   "cell_type": "code",
   "execution_count": 7,
   "metadata": {
    "scrolled": false
   },
   "outputs": [
    {
     "data": {
      "text/html": [
       "<div>\n",
       "<style scoped>\n",
       "    .dataframe tbody tr th:only-of-type {\n",
       "        vertical-align: middle;\n",
       "    }\n",
       "\n",
       "    .dataframe tbody tr th {\n",
       "        vertical-align: top;\n",
       "    }\n",
       "\n",
       "    .dataframe thead th {\n",
       "        text-align: right;\n",
       "    }\n",
       "</style>\n",
       "<table border=\"1\" class=\"dataframe\">\n",
       "  <thead>\n",
       "    <tr style=\"text-align: right;\">\n",
       "      <th></th>\n",
       "      <th>Country</th>\n",
       "      <th>Capital City</th>\n",
       "      <th>City Latitude</th>\n",
       "      <th>City Longitude</th>\n",
       "    </tr>\n",
       "  </thead>\n",
       "  <tbody>\n",
       "    <tr>\n",
       "      <th>0</th>\n",
       "      <td>Abkhazia</td>\n",
       "      <td>Sukhumi</td>\n",
       "      <td>43.003363</td>\n",
       "      <td>41.019274</td>\n",
       "    </tr>\n",
       "    <tr>\n",
       "      <th>1</th>\n",
       "      <td>Afghanistan</td>\n",
       "      <td>Kabul</td>\n",
       "      <td>34.526013</td>\n",
       "      <td>69.177648</td>\n",
       "    </tr>\n",
       "    <tr>\n",
       "      <th>2</th>\n",
       "      <td>Akrotiri and Dhekelia</td>\n",
       "      <td>Episkopi Cantonment</td>\n",
       "      <td>34.670434</td>\n",
       "      <td>32.901855</td>\n",
       "    </tr>\n",
       "    <tr>\n",
       "      <th>3</th>\n",
       "      <td>Albania</td>\n",
       "      <td>Tirana</td>\n",
       "      <td>41.315886</td>\n",
       "      <td>19.900912</td>\n",
       "    </tr>\n",
       "    <tr>\n",
       "      <th>4</th>\n",
       "      <td>Algeria</td>\n",
       "      <td>Algiers</td>\n",
       "      <td>36.775361</td>\n",
       "      <td>3.060188</td>\n",
       "    </tr>\n",
       "  </tbody>\n",
       "</table>\n",
       "</div>"
      ],
      "text/plain": [
       "                 Country         Capital City  City Latitude  City Longitude\n",
       "0               Abkhazia              Sukhumi      43.003363       41.019274\n",
       "1            Afghanistan                Kabul      34.526013       69.177648\n",
       "2  Akrotiri and Dhekelia  Episkopi Cantonment      34.670434       32.901855\n",
       "3                Albania               Tirana      41.315886       19.900912\n",
       "4                Algeria              Algiers      36.775361        3.060188"
      ]
     },
     "execution_count": 7,
     "metadata": {},
     "output_type": "execute_result"
    }
   ],
   "source": [
    "capital_coordinates.dropna(inplace = True)\n",
    "capital_coordinates.head()"
   ]
  },
  {
   "cell_type": "markdown",
   "metadata": {},
   "source": [
    "Let's export the *__capital_coordinates__* dataframe as a csv file for future snalysis."
   ]
  },
  {
   "cell_type": "code",
   "execution_count": 8,
   "metadata": {},
   "outputs": [],
   "source": [
    "capital_coordinates.to_csv(r'Capital_Coordinates.csv', index = False)"
   ]
  },
  {
   "cell_type": "markdown",
   "metadata": {},
   "source": [
    "### 3. Data preparation for cluster analysis:"
   ]
  },
  {
   "cell_type": "markdown",
   "metadata": {},
   "source": [
    "#### 3.1. Setting up the dataframe:\n",
    "In the cluster alalysis we will do in the future we will focus on three regions:  \n",
    "* Europe \n",
    "* Latin America & Caribbean  \n",
    "* North America"
   ]
  },
  {
   "cell_type": "markdown",
   "metadata": {},
   "source": [
    "For this reason we will now create a dataframe of capital cities from these three regions and their coordinates."
   ]
  },
  {
   "cell_type": "markdown",
   "metadata": {},
   "source": [
    "First lets load our regions data."
   ]
  },
  {
   "cell_type": "code",
   "execution_count": 9,
   "metadata": {
    "scrolled": false
   },
   "outputs": [
    {
     "data": {
      "text/html": [
       "<div>\n",
       "<style scoped>\n",
       "    .dataframe tbody tr th:only-of-type {\n",
       "        vertical-align: middle;\n",
       "    }\n",
       "\n",
       "    .dataframe tbody tr th {\n",
       "        vertical-align: top;\n",
       "    }\n",
       "\n",
       "    .dataframe thead th {\n",
       "        text-align: right;\n",
       "    }\n",
       "</style>\n",
       "<table border=\"1\" class=\"dataframe\">\n",
       "  <thead>\n",
       "    <tr style=\"text-align: right;\">\n",
       "      <th></th>\n",
       "      <th>Country</th>\n",
       "      <th>Region</th>\n",
       "      <th>Income Group</th>\n",
       "    </tr>\n",
       "  </thead>\n",
       "  <tbody>\n",
       "    <tr>\n",
       "      <th>0</th>\n",
       "      <td>Afghanistan</td>\n",
       "      <td>South Asia</td>\n",
       "      <td>0</td>\n",
       "    </tr>\n",
       "    <tr>\n",
       "      <th>1</th>\n",
       "      <td>Albania</td>\n",
       "      <td>Europe &amp; Central Asia</td>\n",
       "      <td>2</td>\n",
       "    </tr>\n",
       "    <tr>\n",
       "      <th>2</th>\n",
       "      <td>Algeria</td>\n",
       "      <td>Middle East &amp; North Africa</td>\n",
       "      <td>2</td>\n",
       "    </tr>\n",
       "    <tr>\n",
       "      <th>3</th>\n",
       "      <td>American Samoa</td>\n",
       "      <td>East Asia &amp; Pacific</td>\n",
       "      <td>2</td>\n",
       "    </tr>\n",
       "    <tr>\n",
       "      <th>4</th>\n",
       "      <td>Andorra</td>\n",
       "      <td>Europe &amp; Central Asia</td>\n",
       "      <td>3</td>\n",
       "    </tr>\n",
       "  </tbody>\n",
       "</table>\n",
       "</div>"
      ],
      "text/plain": [
       "          Country                      Region  Income Group\n",
       "0     Afghanistan                  South Asia             0\n",
       "1         Albania       Europe & Central Asia             2\n",
       "2         Algeria  Middle East & North Africa             2\n",
       "3  American Samoa         East Asia & Pacific             2\n",
       "4         Andorra       Europe & Central Asia             3"
      ]
     },
     "execution_count": 9,
     "metadata": {},
     "output_type": "execute_result"
    }
   ],
   "source": [
    "# Load \"Country_Region_Income.csv\" data:\n",
    "regions = pd.read_csv('Country_Region_Income.csv')\n",
    "\n",
    "regions.head()"
   ]
  },
  {
   "cell_type": "code",
   "execution_count": 10,
   "metadata": {},
   "outputs": [
    {
     "name": "stdout",
     "output_type": "stream",
     "text": [
      "There are 237 entries in \"capital_coordinates\" and 217 entries in \"region\"\n"
     ]
    }
   ],
   "source": [
    "print(\\\n",
    "      'There are {} entries in \"capital_coordinates\" and {} entries in \"region\"'\\\n",
    "      .format(capital_coordinates.shape[0], regions.shape[0])\\\n",
    "     )"
   ]
  },
  {
   "cell_type": "markdown",
   "metadata": {},
   "source": [
    "Now join between *__capital_coordinates__* and *__regions__*."
   ]
  },
  {
   "cell_type": "code",
   "execution_count": 11,
   "metadata": {},
   "outputs": [
    {
     "data": {
      "text/html": [
       "<div>\n",
       "<style scoped>\n",
       "    .dataframe tbody tr th:only-of-type {\n",
       "        vertical-align: middle;\n",
       "    }\n",
       "\n",
       "    .dataframe tbody tr th {\n",
       "        vertical-align: top;\n",
       "    }\n",
       "\n",
       "    .dataframe thead th {\n",
       "        text-align: right;\n",
       "    }\n",
       "</style>\n",
       "<table border=\"1\" class=\"dataframe\">\n",
       "  <thead>\n",
       "    <tr style=\"text-align: right;\">\n",
       "      <th></th>\n",
       "      <th>Country</th>\n",
       "      <th>Capital City</th>\n",
       "      <th>City Latitude</th>\n",
       "      <th>City Longitude</th>\n",
       "      <th>Region</th>\n",
       "      <th>Income Group</th>\n",
       "    </tr>\n",
       "  </thead>\n",
       "  <tbody>\n",
       "    <tr>\n",
       "      <th>1</th>\n",
       "      <td>Albania</td>\n",
       "      <td>Tirana</td>\n",
       "      <td>41.315886</td>\n",
       "      <td>19.900912</td>\n",
       "      <td>Europe &amp; Central Asia</td>\n",
       "      <td>2</td>\n",
       "    </tr>\n",
       "    <tr>\n",
       "      <th>4</th>\n",
       "      <td>Andorra</td>\n",
       "      <td>Andorra la Vella</td>\n",
       "      <td>42.506939</td>\n",
       "      <td>1.521247</td>\n",
       "      <td>Europe &amp; Central Asia</td>\n",
       "      <td>3</td>\n",
       "    </tr>\n",
       "    <tr>\n",
       "      <th>6</th>\n",
       "      <td>Antigua and Barbuda</td>\n",
       "      <td>St. John's</td>\n",
       "      <td>17.118457</td>\n",
       "      <td>-61.844851</td>\n",
       "      <td>Latin America &amp; Caribbean</td>\n",
       "      <td>3</td>\n",
       "    </tr>\n",
       "    <tr>\n",
       "      <th>7</th>\n",
       "      <td>Argentina</td>\n",
       "      <td>Buenos Aires</td>\n",
       "      <td>-34.607568</td>\n",
       "      <td>-58.437089</td>\n",
       "      <td>Latin America &amp; Caribbean</td>\n",
       "      <td>2</td>\n",
       "    </tr>\n",
       "    <tr>\n",
       "      <th>8</th>\n",
       "      <td>Armenia</td>\n",
       "      <td>Yerevan</td>\n",
       "      <td>40.177612</td>\n",
       "      <td>44.512585</td>\n",
       "      <td>Europe &amp; Central Asia</td>\n",
       "      <td>2</td>\n",
       "    </tr>\n",
       "  </tbody>\n",
       "</table>\n",
       "</div>"
      ],
      "text/plain": [
       "               Country      Capital City  City Latitude  City Longitude  \\\n",
       "1              Albania            Tirana      41.315886       19.900912   \n",
       "4              Andorra  Andorra la Vella      42.506939        1.521247   \n",
       "6  Antigua and Barbuda        St. John's      17.118457      -61.844851   \n",
       "7            Argentina      Buenos Aires     -34.607568      -58.437089   \n",
       "8              Armenia           Yerevan      40.177612       44.512585   \n",
       "\n",
       "                      Region  Income Group  \n",
       "1      Europe & Central Asia             2  \n",
       "4      Europe & Central Asia             3  \n",
       "6  Latin America & Caribbean             3  \n",
       "7  Latin America & Caribbean             2  \n",
       "8      Europe & Central Asia             2  "
      ]
     },
     "execution_count": 11,
     "metadata": {},
     "output_type": "execute_result"
    }
   ],
   "source": [
    "# Create new \"Capital Region\" dataframe:\n",
    "capital_regions = capital_coordinates.copy()\n",
    "\n",
    "# Add regions to \"capital_coordinates\" dataframe:\n",
    "capital_regions = capital_coordinates.merge(regions, left_on = 'Country', right_on = 'Country')\n",
    "\n",
    "# Create a list of regions to keep in dataframe:\n",
    "regions_list = ['Europe & Central Asia', 'Latin America & Caribbean', 'North America']\n",
    "\n",
    "# Keep only selected regions in dataframe:\n",
    "capital_regions = capital_regions.loc[capital_regions['Region'].isin(regions_list)]\n",
    "\n",
    "\n",
    "capital_regions.head()"
   ]
  },
  {
   "cell_type": "code",
   "execution_count": 12,
   "metadata": {},
   "outputs": [
    {
     "name": "stdout",
     "output_type": "stream",
     "text": [
      "90 are left after the merge between the two dataframes and the focus on the three regions.\n"
     ]
    }
   ],
   "source": [
    "print(\\\n",
    "'{} are left after the merge between the two dataframes and the focus on the three regions.'\\\n",
    "      .format(capital_regions.shape[0])\\\n",
    "     )"
   ]
  },
  {
   "cell_type": "markdown",
   "metadata": {},
   "source": [
    "#### 3.2. Remove Central Asia countries from the dataframe:  \n",
    "* We have to do one more fix to our data.  \n",
    "* The Europe region is combined with Central Asia, so we will remove the contries from Central Asia from our dataframe by setting a right border longitude value and a left border lobgitude value.  \n",
    "* This will manually remove any countries that are not within the frame we want to cluster later on."
   ]
  },
  {
   "cell_type": "code",
   "execution_count": 13,
   "metadata": {
    "scrolled": true
   },
   "outputs": [],
   "source": [
    "# Keep contries left from this longitude value:\n",
    "capital_regions = capital_regions[capital_regions['City Longitude'] < 33.38]\n",
    "\n",
    "# Keep contries right from this longitude value:\n",
    "capital_regions = capital_regions[capital_regions['City Longitude'] > -99.2]\n",
    "\n",
    "# Reset index:\n",
    "capital_regions.reset_index(drop = True, inplace = True)"
   ]
  },
  {
   "cell_type": "code",
   "execution_count": 14,
   "metadata": {},
   "outputs": [
    {
     "name": "stdout",
     "output_type": "stream",
     "text": [
      "Final dataframe has 82 countries.\n"
     ]
    }
   ],
   "source": [
    "print(\\\n",
    "'Final dataframe has {} countries.'\\\n",
    "     .format(capital_regions.shape[0])\\\n",
    "     )"
   ]
  },
  {
   "cell_type": "markdown",
   "metadata": {},
   "source": [
    "Let's export the *__capital_regions__* dataframe as a csv file for future snalysis."
   ]
  },
  {
   "cell_type": "code",
   "execution_count": 15,
   "metadata": {},
   "outputs": [],
   "source": [
    "capital_regions.to_csv(r'Capital_Regions.csv', index = False)"
   ]
  },
  {
   "cell_type": "markdown",
   "metadata": {},
   "source": [
    "#### 3.3. Vusualizing the dataframe:"
   ]
  },
  {
   "cell_type": "code",
   "execution_count": 16,
   "metadata": {
    "scrolled": false
   },
   "outputs": [
    {
     "data": {
      "text/html": [
       "<div style=\"width:100%;\"><div style=\"position:relative;width:100%;height:0;padding-bottom:60%;\"><iframe src=\"about:blank\" style=\"position:absolute;width:100%;height:100%;left:0;top:0;border:none !important;\" data-html=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 onload=\"this.contentDocument.open();this.contentDocument.write(atob(this.getAttribute('data-html')));this.contentDocument.close();\" allowfullscreen webkitallowfullscreen mozallowfullscreen></iframe></div></div>"
      ],
      "text/plain": [
       "<folium.folium.Map at 0x24f98287f48>"
      ]
     },
     "execution_count": 16,
     "metadata": {},
     "output_type": "execute_result"
    }
   ],
   "source": [
    "# create map of capital cities:\n",
    "world_map = folium.Map(location=[0, 0], zoom_start = 2)\n",
    "\n",
    "# Add markers to map\n",
    "for lat, lng, city, country in zip(capital_regions['City Latitude'],\n",
    "                                   capital_regions['City Longitude'],\n",
    "                                   capital_regions['Capital City'],\n",
    "                                   capital_regions['Country']):\n",
    "    try:\n",
    "        label = '{}, {}'.format(city, country)\n",
    "        label = folium.Popup(label, parse_html = True)\n",
    "        folium.CircleMarker(\n",
    "            [lat, lng],\n",
    "            radius = 2,\n",
    "            popup = label,\n",
    "            color = '#3765F4',\n",
    "            fill = True,\n",
    "            fill_color = '#3765F4',\n",
    "            fill_opacity = 1,\n",
    "            parse_html = False).add_to(world_map)  \n",
    "    except:\n",
    "        pass\n",
    "    \n",
    "world_map"
   ]
  },
  {
   "cell_type": "markdown",
   "metadata": {},
   "source": [
    "__Here is a link to an image that show the results of the last cell's code.__"
   ]
  },
  {
   "cell_type": "markdown",
   "metadata": {},
   "source": [
    "https://raw.githubusercontent.com/Guy-DM/Data-analysis-and-analytics/master/Countries_Cluster_Analysis/3.Get_Coordinates/3.4.Images/Map_image1.JPG"
   ]
  },
  {
   "cell_type": "markdown",
   "metadata": {},
   "source": [
    "### 4. Summary:"
   ]
  },
  {
   "cell_type": "markdown",
   "metadata": {},
   "source": [
    "Overall, in this notebook we:\n",
    "1. We have added coordinates values to the Capital Cities data.  \n",
    "2. We created the dataframe we will use for the clustering analysis later on, focusing on regions:  \n",
    "    * Europe  \n",
    "    * Latin America & Caribbean  \n",
    "    * North America "
   ]
  },
  {
   "cell_type": "markdown",
   "metadata": {},
   "source": [
    "__Thank you for taking your time to read through this!__"
   ]
  },
  {
   "cell_type": "markdown",
   "metadata": {},
   "source": [
    "### 5. References"
   ]
  },
  {
   "cell_type": "markdown",
   "metadata": {},
   "source": [
    "Wikipedia contributors. (2019, December). *List of national capitals*. Retrieved March 04, 2020, from Wikipedia: https://en.wikipedia.org/w/index.php?title=List_of_national_capitals&oldid=943802946"
   ]
  },
  {
   "cell_type": "markdown",
   "metadata": {},
   "source": [
    "World Bank, World Development Indicators. (n.d.-b). *GDP per capita (current US$) [Data File]*. Retrieved March 14, 2019, from The World Bank: https://databank.worldbank.org/source/world-development-indicators"
   ]
  }
 ],
 "metadata": {
  "kernelspec": {
   "display_name": "Python 3",
   "language": "python",
   "name": "python3"
  },
  "language_info": {
   "codemirror_mode": {
    "name": "ipython",
    "version": 3
   },
   "file_extension": ".py",
   "mimetype": "text/x-python",
   "name": "python",
   "nbconvert_exporter": "python",
   "pygments_lexer": "ipython3",
   "version": "3.7.4"
  }
 },
 "nbformat": 4,
 "nbformat_minor": 4
}
