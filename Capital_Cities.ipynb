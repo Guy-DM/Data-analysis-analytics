{
 "cells": [
  {
   "cell_type": "markdown",
   "metadata": {},
   "source": [
    "# **Capital Cities - Acquiring Data From The Web**"
   ]
  },
  {
   "cell_type": "markdown",
   "metadata": {},
   "source": [
    "### Content:\n",
    "1. Introduction\n",
    "2. Acquiring data from the web\n",
    "3. Data refining\n",
    "4. Summary\n",
    "5. References"
   ]
  },
  {
   "cell_type": "markdown",
   "metadata": {},
   "source": [
    "### 1. Introduction:\n",
    "* In this notebook we will use python to aquiere data from a Wikipedia page.  \n",
    "* We will acquire data on capital cities from the Wikipedia page https://en.wikipedia.org/w/index.php?title=List_of_national_capitals&oldid=943802946.  \n",
    "* Then, we will refine the data so we can use it in future work."
   ]
  },
  {
   "cell_type": "markdown",
   "metadata": {},
   "source": [
    "### 2. Acquiring data from the web:  "
   ]
  },
  {
   "cell_type": "markdown",
   "metadata": {},
   "source": [
    "#### 2.1. Import librararies:"
   ]
  },
  {
   "cell_type": "code",
   "execution_count": 1,
   "metadata": {},
   "outputs": [],
   "source": [
    "import pandas as pd\n",
    "pd.set_option('display.max_rows', None)"
   ]
  },
  {
   "cell_type": "markdown",
   "metadata": {},
   "source": [
    "#### 2.2. *get_table_from_url()* function:\n",
    "We will start by defining a function that takes a URL and a *__column name__* then returns a corresponding talbe from the URL.  \n",
    "The function also sets the *__column_name__* to our index column."
   ]
  },
  {
   "cell_type": "code",
   "execution_count": 2,
   "metadata": {},
   "outputs": [],
   "source": [
    "def get_table_from_url (url, column_name):\n",
    "    \n",
    "    '''Takes a URL and a column name then returns\n",
    "       a corresponding talbe as a Pandas dataframe.'''\n",
    "    \n",
    "    # Get all tables from the target URL:\n",
    "    table_raw = pd.read_html(url, header = 0)\n",
    "    \n",
    "    # For each table try to create a table with the requested column:\n",
    "    # (This will return only the table that has the requested column)\n",
    "    for i in range(len(table_raw)):\n",
    "        try:\n",
    "            # Create final dataframe and set \"column_name\" as index:\n",
    "            return_df = table_raw[i].set_index(column_name).reset_index()\n",
    "        except:\n",
    "            continue\n",
    "            \n",
    "    return return_df\n",
    "    \n",
    "    "
   ]
  },
  {
   "cell_type": "markdown",
   "metadata": {},
   "source": [
    "Now we use our *get_table_from_url* function retrive a table of Capital Cities from our URL."
   ]
  },
  {
   "cell_type": "code",
   "execution_count": 3,
   "metadata": {},
   "outputs": [
    {
     "data": {
      "text/html": [
       "<div>\n",
       "<style scoped>\n",
       "    .dataframe tbody tr th:only-of-type {\n",
       "        vertical-align: middle;\n",
       "    }\n",
       "\n",
       "    .dataframe tbody tr th {\n",
       "        vertical-align: top;\n",
       "    }\n",
       "\n",
       "    .dataframe thead th {\n",
       "        text-align: right;\n",
       "    }\n",
       "</style>\n",
       "<table border=\"1\" class=\"dataframe\">\n",
       "  <thead>\n",
       "    <tr style=\"text-align: right;\">\n",
       "      <th></th>\n",
       "      <th>Country</th>\n",
       "      <th>City</th>\n",
       "      <th>Notes</th>\n",
       "    </tr>\n",
       "  </thead>\n",
       "  <tbody>\n",
       "    <tr>\n",
       "      <td>0</td>\n",
       "      <td>Ivory Coast</td>\n",
       "      <td>Abidjan (former capital; still has many govern...</td>\n",
       "      <td>NaN</td>\n",
       "    </tr>\n",
       "    <tr>\n",
       "      <td>1</td>\n",
       "      <td>Ivory Coast</td>\n",
       "      <td>Yamoussoukro (official)</td>\n",
       "      <td>NaN</td>\n",
       "    </tr>\n",
       "    <tr>\n",
       "      <td>2</td>\n",
       "      <td>United Arab Emirates</td>\n",
       "      <td>Abu Dhabi</td>\n",
       "      <td>NaN</td>\n",
       "    </tr>\n",
       "    <tr>\n",
       "      <td>3</td>\n",
       "      <td>Nigeria</td>\n",
       "      <td>Abuja</td>\n",
       "      <td>Lagos was the capital from 1914 to 1991.</td>\n",
       "    </tr>\n",
       "    <tr>\n",
       "      <td>4</td>\n",
       "      <td>Ghana</td>\n",
       "      <td>Accra</td>\n",
       "      <td>NaN</td>\n",
       "    </tr>\n",
       "  </tbody>\n",
       "</table>\n",
       "</div>"
      ],
      "text/plain": [
       "                Country                                               City  \\\n",
       "0           Ivory Coast  Abidjan (former capital; still has many govern...   \n",
       "1           Ivory Coast                            Yamoussoukro (official)   \n",
       "2  United Arab Emirates                                          Abu Dhabi   \n",
       "3               Nigeria                                              Abuja   \n",
       "4                 Ghana                                              Accra   \n",
       "\n",
       "                                      Notes  \n",
       "0                                       NaN  \n",
       "1                                       NaN  \n",
       "2                                       NaN  \n",
       "3  Lagos was the capital from 1914 to 1991.  \n",
       "4                                       NaN  "
      ]
     },
     "execution_count": 3,
     "metadata": {},
     "output_type": "execute_result"
    }
   ],
   "source": [
    "url = 'https://en.wikipedia.org/w/index.php?title=List_of_national_capitals&oldid=943802946' # URL being accessed \n",
    "col = 'Country' # Target column from table and index column\n",
    "\n",
    "raw_data = get_table_from_url(url, col)\n",
    "raw_data.head(5)"
   ]
  },
  {
   "cell_type": "markdown",
   "metadata": {},
   "source": [
    "### 3. Data refining:"
   ]
  },
  {
   "cell_type": "markdown",
   "metadata": {},
   "source": [
    "#### 3.1. Remove unnecessary data:  \n",
    "First, let's remove an unnecessary columns from our dataframe and give our columns more meaningful names."
   ]
  },
  {
   "cell_type": "code",
   "execution_count": 4,
   "metadata": {},
   "outputs": [
    {
     "data": {
      "text/html": [
       "<div>\n",
       "<style scoped>\n",
       "    .dataframe tbody tr th:only-of-type {\n",
       "        vertical-align: middle;\n",
       "    }\n",
       "\n",
       "    .dataframe tbody tr th {\n",
       "        vertical-align: top;\n",
       "    }\n",
       "\n",
       "    .dataframe thead th {\n",
       "        text-align: right;\n",
       "    }\n",
       "</style>\n",
       "<table border=\"1\" class=\"dataframe\">\n",
       "  <thead>\n",
       "    <tr style=\"text-align: right;\">\n",
       "      <th></th>\n",
       "      <th>Country</th>\n",
       "      <th>Capital City</th>\n",
       "    </tr>\n",
       "  </thead>\n",
       "  <tbody>\n",
       "    <tr>\n",
       "      <td>0</td>\n",
       "      <td>Ivory Coast</td>\n",
       "      <td>Abidjan (former capital; still has many govern...</td>\n",
       "    </tr>\n",
       "    <tr>\n",
       "      <td>1</td>\n",
       "      <td>Ivory Coast</td>\n",
       "      <td>Yamoussoukro (official)</td>\n",
       "    </tr>\n",
       "    <tr>\n",
       "      <td>2</td>\n",
       "      <td>United Arab Emirates</td>\n",
       "      <td>Abu Dhabi</td>\n",
       "    </tr>\n",
       "    <tr>\n",
       "      <td>3</td>\n",
       "      <td>Nigeria</td>\n",
       "      <td>Abuja</td>\n",
       "    </tr>\n",
       "    <tr>\n",
       "      <td>4</td>\n",
       "      <td>Ghana</td>\n",
       "      <td>Accra</td>\n",
       "    </tr>\n",
       "  </tbody>\n",
       "</table>\n",
       "</div>"
      ],
      "text/plain": [
       "                Country                                       Capital City\n",
       "0           Ivory Coast  Abidjan (former capital; still has many govern...\n",
       "1           Ivory Coast                            Yamoussoukro (official)\n",
       "2  United Arab Emirates                                          Abu Dhabi\n",
       "3               Nigeria                                              Abuja\n",
       "4                 Ghana                                              Accra"
      ]
     },
     "execution_count": 4,
     "metadata": {},
     "output_type": "execute_result"
    }
   ],
   "source": [
    "# Clean the \"df_wikipage\" database and romve unnecessary columns\n",
    "raw_data.drop(columns = 'Notes', inplace = True)\n",
    "\n",
    "# Rename coluns to be more meaningful:\n",
    "raw_data.rename(columns = {'City' : 'Capital City'}, inplace = True)\n",
    "\n",
    "raw_data.head(5)"
   ]
  },
  {
   "cell_type": "code",
   "execution_count": 5,
   "metadata": {},
   "outputs": [
    {
     "name": "stdout",
     "output_type": "stream",
     "text": [
      "The Wikipedia page table includes data on 260 capital cities from 244 unique countries.\n"
     ]
    }
   ],
   "source": [
    "# Prints a data report message:\n",
    "print(\\\n",
    "'The Wikipedia page table includes data on {} capital cities from {} unique countries.'\\\n",
    "      .format(raw_data.shape[0], len(raw_data['Country'].unique()))\n",
    "     )"
   ]
  },
  {
   "cell_type": "markdown",
   "metadata": {},
   "source": [
    "Our index column *__\"Country\"__* should have a unique *__Capital_City__* value.  \n",
    "We can see that this is not the case and we must furthur refine our data."
   ]
  },
  {
   "cell_type": "markdown",
   "metadata": {},
   "source": [
    "#### 3.2. Removing duplicates:\n",
    "Defining a function that locates duplicated values in our dataframe will be useful throughout this notebook.  \n",
    "We will define a flexible function that can return the duplicated values or the unique values."
   ]
  },
  {
   "cell_type": "markdown",
   "metadata": {},
   "source": [
    "#### 3.2.1.*find_duplicates()* function:  \n",
    "Takes a dataframe and checks a column for duplicated values.  \n",
    "Returns a dataframe of the duplicated information if *__duplicates = True__* and unique values information if *__duplicates = False__*."
   ]
  },
  {
   "cell_type": "code",
   "execution_count": 6,
   "metadata": {},
   "outputs": [],
   "source": [
    "def find_duplicates(check_df, column_name, duplicates = False):\n",
    "    \n",
    "    '''Takes a dataframe and checks a selected column for duplicates\n",
    "       and returns a dataframe with the duplicated values if \"duplicates\" \n",
    "       is set to \"True\" or a dataframe unique values if \"duplicates\" is set to False'''\n",
    "    \n",
    "    # Create a dataframe of the counted values of \"check_df\":\n",
    "    temp_df = pd.DataFrame(check_df[column_name].value_counts()).reset_index()\n",
    "    \n",
    "    # Crate a list of unique values in \"check_df\":\n",
    "    duplicate_list = check_df[column_name].values\n",
    "    \n",
    "    # Keep only duplicated values in the dataframe:\n",
    "    if duplicates == True:\n",
    "\n",
    "        for duplicate_value in duplicate_list:\n",
    "            temp_df = temp_df[temp_df[column_name] > 1]\n",
    "        # Report amount of duplicated values message:\n",
    "        print('A total of {} duplicated values found in the \"{}\" column.'.format(\\\n",
    "                len(temp_df), column_name))\n",
    "    \n",
    "    # Keep only unique values in the dataframe:\n",
    "    else:\n",
    "        for duplicate_value in duplicate_list:\n",
    "            temp_df = temp_df[temp_df[column_name] == 1]        \n",
    "    \n",
    "    # Create a final dataframe to be returned:\n",
    "    return_df = pd.DataFrame()\n",
    "    for country in temp_df['index']:\n",
    "        return_df = return_df.append(check_df.loc[check_df[column_name] == country])\n",
    "    return_df.reset_index(drop = True, inplace = True)\n",
    "\n",
    "    \n",
    "    \n",
    "    return return_df"
   ]
  },
  {
   "cell_type": "markdown",
   "metadata": {},
   "source": [
    "#### 3.2.2. Calling the *find_duplicates()* function on our dataframe:"
   ]
  },
  {
   "cell_type": "code",
   "execution_count": 7,
   "metadata": {},
   "outputs": [
    {
     "name": "stdout",
     "output_type": "stream",
     "text": [
      "A total of 15 duplicated values found in the \"Country\" column.\n"
     ]
    },
    {
     "data": {
      "text/html": [
       "<div>\n",
       "<style scoped>\n",
       "    .dataframe tbody tr th:only-of-type {\n",
       "        vertical-align: middle;\n",
       "    }\n",
       "\n",
       "    .dataframe tbody tr th {\n",
       "        vertical-align: top;\n",
       "    }\n",
       "\n",
       "    .dataframe thead th {\n",
       "        text-align: right;\n",
       "    }\n",
       "</style>\n",
       "<table border=\"1\" class=\"dataframe\">\n",
       "  <thead>\n",
       "    <tr style=\"text-align: right;\">\n",
       "      <th></th>\n",
       "      <th>Country</th>\n",
       "      <th>Capital City</th>\n",
       "    </tr>\n",
       "  </thead>\n",
       "  <tbody>\n",
       "    <tr>\n",
       "      <td>0</td>\n",
       "      <td>South Africa</td>\n",
       "      <td>Bloemfontein (judicial)</td>\n",
       "    </tr>\n",
       "    <tr>\n",
       "      <td>1</td>\n",
       "      <td>South Africa</td>\n",
       "      <td>Cape Town (legislative)</td>\n",
       "    </tr>\n",
       "    <tr>\n",
       "      <td>2</td>\n",
       "      <td>South Africa</td>\n",
       "      <td>Pretoria (executive)</td>\n",
       "    </tr>\n",
       "    <tr>\n",
       "      <td>3</td>\n",
       "      <td>Ivory Coast</td>\n",
       "      <td>Abidjan (former capital; still has many govern...</td>\n",
       "    </tr>\n",
       "    <tr>\n",
       "      <td>4</td>\n",
       "      <td>Ivory Coast</td>\n",
       "      <td>Yamoussoukro (official)</td>\n",
       "    </tr>\n",
       "    <tr>\n",
       "      <td>5</td>\n",
       "      <td>Malaysia</td>\n",
       "      <td>Kuala Lumpur (official, legislative and royal)</td>\n",
       "    </tr>\n",
       "    <tr>\n",
       "      <td>6</td>\n",
       "      <td>Malaysia</td>\n",
       "      <td>Putrajaya (administrative and judicial)</td>\n",
       "    </tr>\n",
       "    <tr>\n",
       "      <td>7</td>\n",
       "      <td>Tanzania</td>\n",
       "      <td>Dar es Salaam (de facto, judicial)</td>\n",
       "    </tr>\n",
       "    <tr>\n",
       "      <td>8</td>\n",
       "      <td>Tanzania</td>\n",
       "      <td>Dodoma (official, legislative)</td>\n",
       "    </tr>\n",
       "    <tr>\n",
       "      <td>9</td>\n",
       "      <td>Sri Lanka</td>\n",
       "      <td>Colombo (executive, judicial)</td>\n",
       "    </tr>\n",
       "    <tr>\n",
       "      <td>10</td>\n",
       "      <td>Sri Lanka</td>\n",
       "      <td>Sri Jayawardenepura Kotte (official)</td>\n",
       "    </tr>\n",
       "    <tr>\n",
       "      <td>11</td>\n",
       "      <td>Montenegro</td>\n",
       "      <td>Cetinje (Old Royal Capital, present seat of th...</td>\n",
       "    </tr>\n",
       "    <tr>\n",
       "      <td>12</td>\n",
       "      <td>Montenegro</td>\n",
       "      <td>Podgorica (official)</td>\n",
       "    </tr>\n",
       "    <tr>\n",
       "      <td>13</td>\n",
       "      <td>Bolivia</td>\n",
       "      <td>La Paz (administrative)</td>\n",
       "    </tr>\n",
       "    <tr>\n",
       "      <td>14</td>\n",
       "      <td>Bolivia</td>\n",
       "      <td>Sucre (constitutional)</td>\n",
       "    </tr>\n",
       "    <tr>\n",
       "      <td>15</td>\n",
       "      <td>Chile</td>\n",
       "      <td>Santiago (official)</td>\n",
       "    </tr>\n",
       "    <tr>\n",
       "      <td>16</td>\n",
       "      <td>Chile</td>\n",
       "      <td>Valparaíso (legislative)</td>\n",
       "    </tr>\n",
       "    <tr>\n",
       "      <td>17</td>\n",
       "      <td>Yemen</td>\n",
       "      <td>Aden (de facto, temporary)</td>\n",
       "    </tr>\n",
       "    <tr>\n",
       "      <td>18</td>\n",
       "      <td>Yemen</td>\n",
       "      <td>Sana'a (de jure)</td>\n",
       "    </tr>\n",
       "    <tr>\n",
       "      <td>19</td>\n",
       "      <td>Montserrat</td>\n",
       "      <td>Brades Estate (de facto)</td>\n",
       "    </tr>\n",
       "    <tr>\n",
       "      <td>20</td>\n",
       "      <td>Montserrat</td>\n",
       "      <td>Plymouth (official)</td>\n",
       "    </tr>\n",
       "    <tr>\n",
       "      <td>21</td>\n",
       "      <td>Palestine (claimed)</td>\n",
       "      <td>Jerusalem (disputed)</td>\n",
       "    </tr>\n",
       "    <tr>\n",
       "      <td>22</td>\n",
       "      <td>Palestine (claimed)</td>\n",
       "      <td>Ramallah (de facto)</td>\n",
       "    </tr>\n",
       "    <tr>\n",
       "      <td>23</td>\n",
       "      <td>Sahrawi Arab Democratic Republic [c]</td>\n",
       "      <td>El Aioun (declared)</td>\n",
       "    </tr>\n",
       "    <tr>\n",
       "      <td>24</td>\n",
       "      <td>Sahrawi Arab Democratic Republic [c]</td>\n",
       "      <td>Tifariti (de facto)</td>\n",
       "    </tr>\n",
       "    <tr>\n",
       "      <td>25</td>\n",
       "      <td>Netherlands</td>\n",
       "      <td>Amsterdam (official)</td>\n",
       "    </tr>\n",
       "    <tr>\n",
       "      <td>26</td>\n",
       "      <td>Netherlands</td>\n",
       "      <td>The Hague (de facto)</td>\n",
       "    </tr>\n",
       "    <tr>\n",
       "      <td>27</td>\n",
       "      <td>Eswatini</td>\n",
       "      <td>Lobamba (royal and legislative)</td>\n",
       "    </tr>\n",
       "    <tr>\n",
       "      <td>28</td>\n",
       "      <td>Eswatini</td>\n",
       "      <td>Mbabane (administrative)</td>\n",
       "    </tr>\n",
       "    <tr>\n",
       "      <td>29</td>\n",
       "      <td>Benin</td>\n",
       "      <td>Cotonou (de facto)</td>\n",
       "    </tr>\n",
       "    <tr>\n",
       "      <td>30</td>\n",
       "      <td>Benin</td>\n",
       "      <td>Porto-Novo (official)</td>\n",
       "    </tr>\n",
       "  </tbody>\n",
       "</table>\n",
       "</div>"
      ],
      "text/plain": [
       "                                 Country  \\\n",
       "0                           South Africa   \n",
       "1                           South Africa   \n",
       "2                           South Africa   \n",
       "3                            Ivory Coast   \n",
       "4                            Ivory Coast   \n",
       "5                               Malaysia   \n",
       "6                               Malaysia   \n",
       "7                               Tanzania   \n",
       "8                               Tanzania   \n",
       "9                              Sri Lanka   \n",
       "10                             Sri Lanka   \n",
       "11                            Montenegro   \n",
       "12                            Montenegro   \n",
       "13                               Bolivia   \n",
       "14                               Bolivia   \n",
       "15                                 Chile   \n",
       "16                                 Chile   \n",
       "17                                 Yemen   \n",
       "18                                 Yemen   \n",
       "19                            Montserrat   \n",
       "20                            Montserrat   \n",
       "21                   Palestine (claimed)   \n",
       "22                   Palestine (claimed)   \n",
       "23  Sahrawi Arab Democratic Republic [c]   \n",
       "24  Sahrawi Arab Democratic Republic [c]   \n",
       "25                           Netherlands   \n",
       "26                           Netherlands   \n",
       "27                              Eswatini   \n",
       "28                              Eswatini   \n",
       "29                                 Benin   \n",
       "30                                 Benin   \n",
       "\n",
       "                                         Capital City  \n",
       "0                             Bloemfontein (judicial)  \n",
       "1                             Cape Town (legislative)  \n",
       "2                                Pretoria (executive)  \n",
       "3   Abidjan (former capital; still has many govern...  \n",
       "4                             Yamoussoukro (official)  \n",
       "5      Kuala Lumpur (official, legislative and royal)  \n",
       "6             Putrajaya (administrative and judicial)  \n",
       "7                  Dar es Salaam (de facto, judicial)  \n",
       "8                      Dodoma (official, legislative)  \n",
       "9                       Colombo (executive, judicial)  \n",
       "10               Sri Jayawardenepura Kotte (official)  \n",
       "11  Cetinje (Old Royal Capital, present seat of th...  \n",
       "12                               Podgorica (official)  \n",
       "13                            La Paz (administrative)  \n",
       "14                             Sucre (constitutional)  \n",
       "15                                Santiago (official)  \n",
       "16                           Valparaíso (legislative)  \n",
       "17                         Aden (de facto, temporary)  \n",
       "18                                   Sana'a (de jure)  \n",
       "19                           Brades Estate (de facto)  \n",
       "20                                Plymouth (official)  \n",
       "21                               Jerusalem (disputed)  \n",
       "22                                Ramallah (de facto)  \n",
       "23                                El Aioun (declared)  \n",
       "24                                Tifariti (de facto)  \n",
       "25                               Amsterdam (official)  \n",
       "26                               The Hague (de facto)  \n",
       "27                    Lobamba (royal and legislative)  \n",
       "28                           Mbabane (administrative)  \n",
       "29                                 Cotonou (de facto)  \n",
       "30                              Porto-Novo (official)  "
      ]
     },
     "execution_count": 7,
     "metadata": {},
     "output_type": "execute_result"
    }
   ],
   "source": [
    "# Create a dataframe with all the duplicates in our raw_data:\n",
    "duplicates_data = raw_data.copy()\n",
    "duplicates_data = find_duplicates(duplicates_data,'Country', duplicates = True)\n",
    "\n",
    "duplicates_data"
   ]
  },
  {
   "cell_type": "markdown",
   "metadata": {},
   "source": [
    "In the *__duplicates_data__* dataframe we can see that there are different types of defenitions of capital cities, for example: \"official\", \"legislative\", \"de facto\", etc.  \n",
    "We will keep the capital cities that are either \"official\" or \"legislative\", and we will keep \"offical\" over \"legislative\" when both are avilable."
   ]
  },
  {
   "cell_type": "markdown",
   "metadata": {},
   "source": [
    "#### 3.2.3 *find_and_keep()* function:\n",
    "This function takes a *__dataframe__*, *__column_name__* and two search values, \"official\" and \"legislative\" in our case.  \n",
    "We are flexible with the search values inserted into the function, and it is not mendatory to insert two search values."
   ]
  },
  {
   "cell_type": "code",
   "execution_count": 8,
   "metadata": {},
   "outputs": [],
   "source": [
    "def find_and_keep (dataframe, column_name, search1, search2 = None):\n",
    "    \n",
    "    '''Takes a dataframe and finds up to two search values in a selected column, then creates\n",
    "       a new dataframe that inclueds rows that contains at least one of the search values.'''\n",
    "    \n",
    "    # Function setup:\n",
    "    return_df = pd.DataFrame() # Crate a new dataframe\n",
    "    columns = dataframe.columns # Easy access to original column names\n",
    "    idex_col = dataframe[columns[0]] # Set an index column to maintain unique values\n",
    "    unique_values = [] # A list to compare existing values in new dataframe\n",
    "    \n",
    "    \n",
    "    # Find the rows containing at least one of the search values:\n",
    "    for i,v in enumerate(idex_col):\n",
    "        \n",
    "        value = dataframe[column_name][i] # Search this value for search1 and search2\n",
    "        search1_position = value.find(search1) # Find \"search1\"\n",
    "        \n",
    "        # Make \"search2\" optional:\n",
    "        if search2 != None:\n",
    "            search2_position = value.find(search2) # Find \"search2\"\n",
    "        else:\n",
    "            search2_position = -1\n",
    "\n",
    "        \n",
    "        # Continue if unique value already appended into new dataframe:\n",
    "        if v in unique_values:\n",
    "            continue\n",
    "        \n",
    "        # Append relevant rows to the new dataframe:\n",
    "        elif search1_position != -1 or search2_position != -1:\n",
    "            unique_values.append(v)\n",
    "            return_df = return_df.append(dataframe[dataframe[column_name] == value])\n",
    "\n",
    "    # Reset the index of the new dataframe:\n",
    "    return_df.reset_index(drop = True, inplace = True)\n",
    "    \n",
    "    return return_df\n",
    "    "
   ]
  },
  {
   "cell_type": "markdown",
   "metadata": {},
   "source": [
    "#### 3.2.4. Calling the *find_and_keep()* function on *duplicates_data*:"
   ]
  },
  {
   "cell_type": "code",
   "execution_count": 9,
   "metadata": {},
   "outputs": [
    {
     "data": {
      "text/html": [
       "<div>\n",
       "<style scoped>\n",
       "    .dataframe tbody tr th:only-of-type {\n",
       "        vertical-align: middle;\n",
       "    }\n",
       "\n",
       "    .dataframe tbody tr th {\n",
       "        vertical-align: top;\n",
       "    }\n",
       "\n",
       "    .dataframe thead th {\n",
       "        text-align: right;\n",
       "    }\n",
       "</style>\n",
       "<table border=\"1\" class=\"dataframe\">\n",
       "  <thead>\n",
       "    <tr style=\"text-align: right;\">\n",
       "      <th></th>\n",
       "      <th>Country</th>\n",
       "      <th>Capital City</th>\n",
       "    </tr>\n",
       "  </thead>\n",
       "  <tbody>\n",
       "    <tr>\n",
       "      <td>0</td>\n",
       "      <td>South Africa</td>\n",
       "      <td>Cape Town (legislative)</td>\n",
       "    </tr>\n",
       "    <tr>\n",
       "      <td>1</td>\n",
       "      <td>Ivory Coast</td>\n",
       "      <td>Yamoussoukro (official)</td>\n",
       "    </tr>\n",
       "    <tr>\n",
       "      <td>2</td>\n",
       "      <td>Malaysia</td>\n",
       "      <td>Kuala Lumpur (official, legislative and royal)</td>\n",
       "    </tr>\n",
       "    <tr>\n",
       "      <td>3</td>\n",
       "      <td>Tanzania</td>\n",
       "      <td>Dodoma (official, legislative)</td>\n",
       "    </tr>\n",
       "    <tr>\n",
       "      <td>4</td>\n",
       "      <td>Sri Lanka</td>\n",
       "      <td>Sri Jayawardenepura Kotte (official)</td>\n",
       "    </tr>\n",
       "    <tr>\n",
       "      <td>5</td>\n",
       "      <td>Montenegro</td>\n",
       "      <td>Podgorica (official)</td>\n",
       "    </tr>\n",
       "    <tr>\n",
       "      <td>6</td>\n",
       "      <td>Chile</td>\n",
       "      <td>Santiago (official)</td>\n",
       "    </tr>\n",
       "    <tr>\n",
       "      <td>7</td>\n",
       "      <td>Montserrat</td>\n",
       "      <td>Plymouth (official)</td>\n",
       "    </tr>\n",
       "    <tr>\n",
       "      <td>8</td>\n",
       "      <td>Netherlands</td>\n",
       "      <td>Amsterdam (official)</td>\n",
       "    </tr>\n",
       "    <tr>\n",
       "      <td>9</td>\n",
       "      <td>Eswatini</td>\n",
       "      <td>Lobamba (royal and legislative)</td>\n",
       "    </tr>\n",
       "    <tr>\n",
       "      <td>10</td>\n",
       "      <td>Benin</td>\n",
       "      <td>Porto-Novo (official)</td>\n",
       "    </tr>\n",
       "  </tbody>\n",
       "</table>\n",
       "</div>"
      ],
      "text/plain": [
       "         Country                                    Capital City\n",
       "0   South Africa                         Cape Town (legislative)\n",
       "1    Ivory Coast                         Yamoussoukro (official)\n",
       "2       Malaysia  Kuala Lumpur (official, legislative and royal)\n",
       "3       Tanzania                  Dodoma (official, legislative)\n",
       "4      Sri Lanka            Sri Jayawardenepura Kotte (official)\n",
       "5     Montenegro                            Podgorica (official)\n",
       "6          Chile                             Santiago (official)\n",
       "7     Montserrat                             Plymouth (official)\n",
       "8    Netherlands                            Amsterdam (official)\n",
       "9       Eswatini                 Lobamba (royal and legislative)\n",
       "10         Benin                           Porto-Novo (official)"
      ]
     },
     "execution_count": 9,
     "metadata": {},
     "output_type": "execute_result"
    }
   ],
   "source": [
    "# Remove duplicates from \"duplicates_data\":\n",
    "no_duplicates = find_and_keep(duplicates_data, 'Capital City', 'official', 'legislative')\n",
    "\n",
    "no_duplicates"
   ]
  },
  {
   "cell_type": "markdown",
   "metadata": {},
   "source": [
    "#### 3.2.5. Final dataframe:"
   ]
  },
  {
   "cell_type": "markdown",
   "metadata": {},
   "source": [
    "Let's call the \"find_duplicates\" function again, but this time we will set \"duplicates\" to \"Flase\" so we will get only countreis with a unique *__Capital City__* value.  \n",
    "We will also append the *__no_duplicates()__* countreis back in to our dataframe with unique values."
   ]
  },
  {
   "cell_type": "code",
   "execution_count": 10,
   "metadata": {},
   "outputs": [
    {
     "data": {
      "text/html": [
       "<div>\n",
       "<style scoped>\n",
       "    .dataframe tbody tr th:only-of-type {\n",
       "        vertical-align: middle;\n",
       "    }\n",
       "\n",
       "    .dataframe tbody tr th {\n",
       "        vertical-align: top;\n",
       "    }\n",
       "\n",
       "    .dataframe thead th {\n",
       "        text-align: right;\n",
       "    }\n",
       "</style>\n",
       "<table border=\"1\" class=\"dataframe\">\n",
       "  <thead>\n",
       "    <tr style=\"text-align: right;\">\n",
       "      <th></th>\n",
       "      <th>Country</th>\n",
       "      <th>Capital City</th>\n",
       "    </tr>\n",
       "  </thead>\n",
       "  <tbody>\n",
       "    <tr>\n",
       "      <td>235</td>\n",
       "      <td>Chile</td>\n",
       "      <td>Santiago (official)</td>\n",
       "    </tr>\n",
       "    <tr>\n",
       "      <td>236</td>\n",
       "      <td>Montserrat</td>\n",
       "      <td>Plymouth (official)</td>\n",
       "    </tr>\n",
       "    <tr>\n",
       "      <td>237</td>\n",
       "      <td>Netherlands</td>\n",
       "      <td>Amsterdam (official)</td>\n",
       "    </tr>\n",
       "    <tr>\n",
       "      <td>238</td>\n",
       "      <td>Eswatini</td>\n",
       "      <td>Lobamba (royal and legislative)</td>\n",
       "    </tr>\n",
       "    <tr>\n",
       "      <td>239</td>\n",
       "      <td>Benin</td>\n",
       "      <td>Porto-Novo (official)</td>\n",
       "    </tr>\n",
       "  </tbody>\n",
       "</table>\n",
       "</div>"
      ],
      "text/plain": [
       "         Country                     Capital City\n",
       "235        Chile              Santiago (official)\n",
       "236   Montserrat              Plymouth (official)\n",
       "237  Netherlands             Amsterdam (official)\n",
       "238     Eswatini  Lobamba (royal and legislative)\n",
       "239        Benin            Porto-Novo (official)"
      ]
     },
     "execution_count": 10,
     "metadata": {},
     "output_type": "execute_result"
    }
   ],
   "source": [
    "# Create final dataframe:\n",
    "df_capital = raw_data.copy()\n",
    "\n",
    "# Get all unique values from the original dataframe:\n",
    "df_capital = find_duplicates(df_capital,'Country', duplicates = False)\n",
    "\n",
    "# Append \"no_duplicates\" to new dataframe:\n",
    "df_capital = df_capital.append(no_duplicates)\n",
    "\n",
    "# Reset index:\n",
    "df_capital.reset_index(drop = True, inplace = True)\n",
    "\n",
    "df_capital.tail(5)"
   ]
  },
  {
   "cell_type": "markdown",
   "metadata": {},
   "source": [
    "#### 3.2.6. Removing unnecessary bracketed information:  \n",
    "In our final step we will clean the string in each cell so it does not have any excess bracketed infromation."
   ]
  },
  {
   "cell_type": "code",
   "execution_count": 11,
   "metadata": {},
   "outputs": [],
   "source": [
    "def clear_brackets (dataframe):\n",
    "    \n",
    "    '''Takes a dataframe and checks each column for values that have\n",
    "       bracketed information at the end of each value and removes it.\n",
    "       (The function skips any values that have bracketed information\n",
    "       not located at the end of a value)'''\n",
    "     \n",
    "    # Get a lit of columns from a dataframe and iterate trhogh them:\n",
    "    columns = dataframe.columns\n",
    "    for column in columns:\n",
    "        for i in range (len(dataframe[column])):\n",
    "            value = dataframe[column][i] # The value being checked\n",
    "            cut = value.find(' (') # Find the position of the first bracket\n",
    "            \n",
    "            # If located brackets in a value,\n",
    "            # attempt to remove bracketed information: \n",
    "            if cut != -1:\n",
    "                \n",
    "                # Bracketed information not located at end of value is skipped:\n",
    "                save = value.find(') ') # Searching for a space after the brackets\n",
    "                if save != -1:\n",
    "                    continue\n",
    "                    \n",
    "                # Remove bracketed information that is located at end of value:    \n",
    "                else:\n",
    "                    dataframe.loc[dataframe[column].apply(lambda x:\\\n",
    "                    dataframe[column][i] in x) == True, column]\\\n",
    "                    = dataframe[column].str.slice(0,cut)\n",
    "                    \n",
    "    return dataframe"
   ]
  },
  {
   "cell_type": "code",
   "execution_count": 12,
   "metadata": {},
   "outputs": [
    {
     "data": {
      "text/html": [
       "<div>\n",
       "<style scoped>\n",
       "    .dataframe tbody tr th:only-of-type {\n",
       "        vertical-align: middle;\n",
       "    }\n",
       "\n",
       "    .dataframe tbody tr th {\n",
       "        vertical-align: top;\n",
       "    }\n",
       "\n",
       "    .dataframe thead th {\n",
       "        text-align: right;\n",
       "    }\n",
       "</style>\n",
       "<table border=\"1\" class=\"dataframe\">\n",
       "  <thead>\n",
       "    <tr style=\"text-align: right;\">\n",
       "      <th></th>\n",
       "      <th>Country</th>\n",
       "      <th>Capital City</th>\n",
       "    </tr>\n",
       "  </thead>\n",
       "  <tbody>\n",
       "    <tr>\n",
       "      <td>235</td>\n",
       "      <td>Chile</td>\n",
       "      <td>Santiago</td>\n",
       "    </tr>\n",
       "    <tr>\n",
       "      <td>236</td>\n",
       "      <td>Montserrat</td>\n",
       "      <td>Plymouth</td>\n",
       "    </tr>\n",
       "    <tr>\n",
       "      <td>237</td>\n",
       "      <td>Netherlands</td>\n",
       "      <td>Amsterdam</td>\n",
       "    </tr>\n",
       "    <tr>\n",
       "      <td>238</td>\n",
       "      <td>Eswatini</td>\n",
       "      <td>Lobamba</td>\n",
       "    </tr>\n",
       "    <tr>\n",
       "      <td>239</td>\n",
       "      <td>Benin</td>\n",
       "      <td>Porto-Novo</td>\n",
       "    </tr>\n",
       "  </tbody>\n",
       "</table>\n",
       "</div>"
      ],
      "text/plain": [
       "         Country Capital City\n",
       "235        Chile     Santiago\n",
       "236   Montserrat     Plymouth\n",
       "237  Netherlands    Amsterdam\n",
       "238     Eswatini      Lobamba\n",
       "239        Benin   Porto-Novo"
      ]
     },
     "execution_count": 12,
     "metadata": {},
     "output_type": "execute_result"
    }
   ],
   "source": [
    "# Remove bracketed information:\n",
    "df_capital = clear_brackets(df_capital)\n",
    "                       \n",
    "df_capital.tail(5)"
   ]
  },
  {
   "cell_type": "code",
   "execution_count": 13,
   "metadata": {},
   "outputs": [
    {
     "data": {
      "text/html": [
       "<div>\n",
       "<style scoped>\n",
       "    .dataframe tbody tr th:only-of-type {\n",
       "        vertical-align: middle;\n",
       "    }\n",
       "\n",
       "    .dataframe tbody tr th {\n",
       "        vertical-align: top;\n",
       "    }\n",
       "\n",
       "    .dataframe thead th {\n",
       "        text-align: right;\n",
       "    }\n",
       "</style>\n",
       "<table border=\"1\" class=\"dataframe\">\n",
       "  <thead>\n",
       "    <tr style=\"text-align: right;\">\n",
       "      <th></th>\n",
       "      <th>Country</th>\n",
       "      <th>Capital City</th>\n",
       "    </tr>\n",
       "  </thead>\n",
       "  <tbody>\n",
       "    <tr>\n",
       "      <td>0</td>\n",
       "      <td>Abkhazia</td>\n",
       "      <td>Sukhumi</td>\n",
       "    </tr>\n",
       "    <tr>\n",
       "      <td>1</td>\n",
       "      <td>Afghanistan</td>\n",
       "      <td>Kabul</td>\n",
       "    </tr>\n",
       "    <tr>\n",
       "      <td>2</td>\n",
       "      <td>Akrotiri and Dhekelia</td>\n",
       "      <td>Episkopi Cantonment</td>\n",
       "    </tr>\n",
       "    <tr>\n",
       "      <td>3</td>\n",
       "      <td>Albania</td>\n",
       "      <td>Tirana</td>\n",
       "    </tr>\n",
       "    <tr>\n",
       "      <td>4</td>\n",
       "      <td>Algeria</td>\n",
       "      <td>Algiers</td>\n",
       "    </tr>\n",
       "  </tbody>\n",
       "</table>\n",
       "</div>"
      ],
      "text/plain": [
       "                 Country         Capital City\n",
       "0               Abkhazia              Sukhumi\n",
       "1            Afghanistan                Kabul\n",
       "2  Akrotiri and Dhekelia  Episkopi Cantonment\n",
       "3                Albania               Tirana\n",
       "4                Algeria              Algiers"
      ]
     },
     "execution_count": 13,
     "metadata": {},
     "output_type": "execute_result"
    }
   ],
   "source": [
    "# Sort by alphabetical order and reset index:\n",
    "df_capital = df_capital.sort_values(by = ['Country'])\n",
    "df_capital.reset_index(drop = True, inplace = True)\n",
    "\n",
    "df_capital.head(5)"
   ]
  },
  {
   "cell_type": "code",
   "execution_count": 14,
   "metadata": {},
   "outputs": [
    {
     "name": "stdout",
     "output_type": "stream",
     "text": [
      "The final dataframe of \"Capital Cities\" has a total of 240 unique values for 240 countries.\n"
     ]
    }
   ],
   "source": [
    "# Print a report message:\n",
    "print(\\\n",
    "'The final dataframe of \"Capital Cities\" has a total of {} \\\n",
    "unique values for {} countries.'\\\n",
    "      .format(df_capital.shape[0],df_capital.shape[0])\n",
    "     )"
   ]
  },
  {
   "cell_type": "markdown",
   "metadata": {},
   "source": [
    "### 4. Summary:"
   ]
  },
  {
   "cell_type": "markdown",
   "metadata": {},
   "source": [
    "Overall, in this notebook we:\n",
    "1. Acquired data from a Wikipedia page.\n",
    "2. Defined functions that process our dataframe, including:  \n",
    "    2.1. Finding duplicated data entries.  \n",
    "    2.2. Removing duplicated values by following a rule we set.  \n",
    "    2.3. Removing unwanted bracketed information in our data.\n",
    "3. Refined our data so it can be used in future work.    "
   ]
  },
  {
   "cell_type": "markdown",
   "metadata": {},
   "source": [
    "__Thank you for taking your time to read through this!__"
   ]
  },
  {
   "cell_type": "markdown",
   "metadata": {},
   "source": [
    "### 5. References:"
   ]
  },
  {
   "cell_type": "markdown",
   "metadata": {},
   "source": [
    "Wikipedia contributors. (2019, December). *List of national capitals*. Retrieved March 04, 2020, from Wikipedia: https://en.wikipedia.org/w/index.php?title=List_of_national_capitals&oldid=943802946"
   ]
  }
 ],
 "metadata": {
  "kernelspec": {
   "display_name": "Python 3",
   "language": "python",
   "name": "python3"
  },
  "language_info": {
   "codemirror_mode": {
    "name": "ipython",
    "version": 3
   },
   "file_extension": ".py",
   "mimetype": "text/x-python",
   "name": "python",
   "nbconvert_exporter": "python",
   "pygments_lexer": "ipython3",
   "version": "3.7.4"
  }
 },
 "nbformat": 4,
 "nbformat_minor": 4
}
